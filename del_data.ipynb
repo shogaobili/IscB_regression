{
 "cells": [
  {
   "cell_type": "code",
   "execution_count": 6,
   "metadata": {},
   "outputs": [],
   "source": [
    "import pandas as pd\n",
    "import numpy as np\n",
    "\n",
    "# Step 1: Load the dataset\n",
    "data = pd.read_excel('A_to_G_S18.xlsx')\n",
    "\n",
    "# Step 2: Filter rows where 'a-to-g(%)' is in the range [0.00, 0.10]\n",
    "range_filter = (data['a-to-g(%)'] >= 0.00) & (data['a-to-g(%)'] <= 1.00000)\n",
    "# print(len(data[range_filter]))\n",
    "rows_in_range = data[range_filter]\n",
    "\n",
    "# Step 3: Randomly select 50% of these rows to drop\n",
    "n_to_keep = 20525\n",
    "rows_to_drop = rows_in_range.sample(20525, random_state=42).index\n",
    "\n",
    "# Step 4: Drop the selected rows from the original dataset\n",
    "modified_data = data.drop(index=rows_to_drop).reset_index(drop=True)\n",
    "\n",
    "# Step 5: Save the modified dataset\n",
    "modified_data.to_excel('A_to_G_keep1700.xlsx', index=False)\n"
   ]
  }
 ],
 "metadata": {
  "kernelspec": {
   "display_name": "Python 3",
   "language": "python",
   "name": "python3"
  },
  "language_info": {
   "codemirror_mode": {
    "name": "ipython",
    "version": 3
   },
   "file_extension": ".py",
   "mimetype": "text/x-python",
   "name": "python",
   "nbconvert_exporter": "python",
   "pygments_lexer": "ipython3",
   "version": "3.10.5"
  }
 },
 "nbformat": 4,
 "nbformat_minor": 2
}
