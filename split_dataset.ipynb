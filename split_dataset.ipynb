{
 "cells": [
  {
   "cell_type": "code",
   "execution_count": 1,
   "metadata": {},
   "outputs": [
    {
     "name": "stdout",
     "output_type": "stream",
     "text": [
      "Train and test tables generated successfully!\n"
     ]
    }
   ],
   "source": [
    "import pandas as pd\n",
    "import numpy as np\n",
    "import openpyxl\n",
    "\n",
    "# Load the Excel file\n",
    "file_path = './A_to_G_keep1700.xlsx'  # Replace with your file path\n",
    "df = pd.read_excel(file_path)\n",
    "\n",
    "# Add a new column with random numbers\n",
    "df['random'] = np.random.rand(len(df))\n",
    "\n",
    "# Label rows based on random number\n",
    "threshold = df['random'].quantile(0.8)  # Get the 80th percentile\n",
    "df['split'] = np.where(df['random'] <= threshold, 'train', 'test')\n",
    "\n",
    "# Drop the random column (optional)\n",
    "df = df.drop(columns=['random'])\n",
    "\n",
    "# Separate into two tables\n",
    "train_df = df[df['split'] == 'train'].drop(columns=['split'])\n",
    "test_df = df[df['split'] == 'test'].drop(columns=['split'])\n",
    "\n",
    "# output_file = './A_to_G_S18.xlsx'\n",
    "\n",
    "    # Save to separate Excel files\n",
    "train_df.to_excel('train_del_keep1700.xlsx', sheet_name=\"Train\",index=False)\n",
    "test_df.to_excel('test_del_keep1700.xlsx', sheet_name=\"Test\",index=False)\n",
    "\n",
    "print(\"Train and test tables generated successfully!\")\n"
   ]
  }
 ],
 "metadata": {
  "kernelspec": {
   "display_name": "Python 3",
   "language": "python",
   "name": "python3"
  },
  "language_info": {
   "codemirror_mode": {
    "name": "ipython",
    "version": 3
   },
   "file_extension": ".py",
   "mimetype": "text/x-python",
   "name": "python",
   "nbconvert_exporter": "python",
   "pygments_lexer": "ipython3",
   "version": "3.10.5"
  }
 },
 "nbformat": 4,
 "nbformat_minor": 2
}
