{
 "cells": [
  {
   "cell_type": "code",
   "execution_count": 3,
   "metadata": {},
   "outputs": [],
   "source": [
    "import numpy as np \n",
    "import torch \n",
    "from torch.utils.data import TensorDataset,Dataset,DataLoader,random_split\n",
    "import pandas as pd\n",
    "from tqdm import tqdm\n",
    "import torch.nn as nn\n",
    "import torch.optim as optim\n",
    "import matplotlib.pyplot as plt"
   ]
  },
  {
   "cell_type": "code",
   "execution_count": 4,
   "metadata": {},
   "outputs": [],
   "source": [
    "#----------------------Load the Excel file, getting the dataframe and index_tensor-----------------------\n",
    "def load_data(file_path, sheet_name):\n",
    "    sheet_name = sheet_name\n",
    "    df = pd.read_excel(file_path, sheet_name=sheet_name)\n",
    "    index_tensor = (df['A_position_counted_from_5_end_of_gRNA'] + 20).astype(int) \n",
    "    return df, index_tensor"
   ]
  },
  {
   "cell_type": "code",
   "execution_count": 5,
   "metadata": {},
   "outputs": [],
   "source": [
    "def pearson_correlation(predicted, actual):\n",
    "    pred_mean = predicted.mean()\n",
    "    actual_mean = actual.mean()\n",
    "    covariance = ((predicted - pred_mean) * (actual - actual_mean)).sum()\n",
    "    pred_std = ((predicted - pred_mean) ** 2).sum().sqrt()\n",
    "    actual_std = ((actual - actual_mean) ** 2).sum().sqrt()\n",
    "    return (covariance / (pred_std * actual_std)).item()"
   ]
  },
  {
   "cell_type": "code",
   "execution_count": 5,
   "metadata": {},
   "outputs": [
    {
     "name": "stdout",
     "output_type": "stream",
     "text": [
      "0        21\n",
      "1        23\n",
      "2        24\n",
      "3        25\n",
      "4        27\n",
      "         ..\n",
      "27871    27\n",
      "27872    32\n",
      "27873    36\n",
      "27874    27\n",
      "27875    31\n",
      "Name: A_position_counted_from_5_end_of_gRNA, Length: 27876, dtype: int32\n"
     ]
    }
   ],
   "source": [
    "# check if the function load_data() works, remember to change the file path to your own.\n",
    "print(load_data(file_path='D:/01IscBML/train.xlsx',sheet_name=\"Train\")[1])"
   ]
  },
  {
   "cell_type": "code",
   "execution_count": 6,
   "metadata": {},
   "outputs": [],
   "source": [
    "# Here I define a class BCEFocalLoss to address the inbalance problem of the dataset. It's a loss function. \n",
    "# But for the final model, I didn't use this loss function. I just use the MSEloss.\n",
    "\n",
    "class BCEFocalLoss(torch.nn.Module):\n",
    "    def __init__(self, gamma=2, alpha=0.6, reduction='mean'):\n",
    "        super().__init__()\n",
    "        self.gamma = gamma\n",
    "        self.alpha = alpha\n",
    "        self.reduction = reduction\n",
    "        self.hardtanh = nn.Hardtanh(min_val=0, max_val=1, inplace=False)\n",
    "        self.episilon = 1e-8\n",
    "    def forward(self, _input, target):\n",
    "        pt = _input\n",
    "        # pt = torch.clamp(_input,0,1)\n",
    "        alpha = self.alpha\n",
    "        episilon = self.episilon\n",
    "        loss = - alpha * (1 - pt) ** self.gamma * target * torch.log(pt + episilon) - \\\n",
    "               (1 - alpha) * pt ** self.gamma * (1 - target) * torch.log(1 - pt + episilon)\n",
    "        if self.reduction == 'mean':\n",
    "            loss = torch.mean(loss)\n",
    "        elif self.reduction == 'sum':\n",
    "            loss = torch.sum(loss)\n",
    "        return loss"
   ]
  },
  {
   "cell_type": "code",
   "execution_count": 7,
   "metadata": {},
   "outputs": [],
   "source": [
    "import pandas as pd\n",
    "import torch\n",
    "\n",
    "class FeatureProcessor:\n",
    "    def __init__(self, file_path='D:/01IscBML/', file_name=''):\n",
    "        self.category_map = {'A': 0, 'T': 1, 'C': 2, 'G': 3}\n",
    "        self.data_path = file_path + file_name\n",
    "        self.df, self.index_tensor = self.load_data(self.data_path)  # load the df and index tensor\n",
    "        self.combined_features, self.tam_onehot, self.sequence_length = self.feature_processing()\n",
    "        self.labels_tensor = self.label()\n",
    "\n",
    "    def __len__(self):\n",
    "        return len(self.df.shape[0])\n",
    "\n",
    "    def load_data(self, data_path):\n",
    "        df = pd.read_excel(data_path)\n",
    "        index_tensor = (df['A_position_counted_from_5_end_of_gRNA'] + 20).astype(int) - 1  # Warning: 0-indexed\n",
    "        return df, index_tensor\n",
    "\n",
    "    def sequence_to_one_hot(self, sequence, categories=\"ATCG\"):\n",
    "        category_map = {char: idx for idx, char in enumerate(categories)}\n",
    "        one_hot = []\n",
    "        for char in sequence:\n",
    "            one_hot_char = [0] * len(categories)\n",
    "            if char in category_map:\n",
    "                one_hot_char[category_map[char]] = 1\n",
    "            one_hot.append(one_hot_char)\n",
    "        return one_hot\n",
    "\n",
    "    def feature_processing(self):\n",
    "        sequence_data = self.df['Target_site_sequence']\n",
    "        sequence_length = len(sequence_data.iloc[0])\n",
    "        one_hot_features = sequence_data.apply(self.sequence_to_one_hot)\n",
    "\n",
    "        features_tensor = torch.tensor(list(one_hot_features), dtype=torch.float32)\n",
    "\n",
    "        index_one_hot_features = []\n",
    "        for idx in self.index_tensor:\n",
    "            index_one_hot = [0] * sequence_length\n",
    "            if 0 <= idx < sequence_length:\n",
    "                index_one_hot[idx] = 1\n",
    "            index_one_hot_features.append(index_one_hot)\n",
    "\n",
    "        TAM_one_hot_features = []\n",
    "        for idx in self.index_tensor:\n",
    "            TAM_one_hot = [0] * sequence_length\n",
    "            # Ensure valid positions for TAM features within sequence_length\n",
    "            valid_extra_idxs = [i for i in range(36, 40) if 0 <= i < sequence_length]\n",
    "            for extra_idx in valid_extra_idxs:\n",
    "                TAM_one_hot[extra_idx] = 2 if extra_idx in range(36, 38) else 3\n",
    "            TAM_one_hot_features.append(TAM_one_hot)\n",
    "\n",
    "        index_one_hot_tensor = torch.tensor(index_one_hot_features, dtype=torch.float32).unsqueeze(2)\n",
    "        TAM_one_hot_features = torch.tensor(TAM_one_hot_features, dtype=torch.float32).unsqueeze(2)\n",
    "\n",
    "        combined_features = torch.cat((features_tensor, index_one_hot_tensor,TAM_one_hot_features), dim=2)\n",
    "        # combined_features = torch.cat((features_tensor, index_one_hot_tensor), dim=2)\n",
    "        return combined_features, TAM_one_hot_features, sequence_length\n",
    "    \n",
    "    def label(self):\n",
    "        #---------------------Prepare labels tensor-----------------------\n",
    "        labels_tensor = torch.tensor(self.df['a-to-g(%)'].values/100, dtype=torch.float32).unsqueeze(1)  # Add a dimension for labels\n",
    "        return labels_tensor"
   ]
  },
  {
   "cell_type": "code",
   "execution_count": 8,
   "metadata": {},
   "outputs": [],
   "source": [
    "import torch\n",
    "import torch.nn as nn\n",
    "\n",
    "class TAMEnhancer(nn.Module):\n",
    "    def __init__(self, one_hot_dim, embedding_dim, feature_dim):\n",
    "        super(TAMEnhancer, self).__init__()\n",
    "        self.embedding = nn.Embedding(num_embeddings=one_hot_dim, embedding_dim=embedding_dim)\n",
    "        self.linear = nn.Linear(embedding_dim, feature_dim) # lower dimensionality\n",
    "        self.relu = nn.ReLU()\n",
    "\n",
    "    def forward(self, tam_indices):\n",
    "        \"\"\"\n",
    "        tam_indices: input shape (batch_size, sequence_length, feature_dim)\n",
    "        \"\"\"\n",
    "        # embedding for the TAM features\n",
    "        batch_size, sequence_length, feature_dim = tam_indices.shape  # batch_size = 64, sequence_length = 4, feature_dim = 6\n",
    "        # print(\"sequence_length:\", sequence_length, \"feature_dim:\", feature_dim) # sequence_length: 4 feature_dim: 6\n",
    "        tam_indices_flat = tam_indices.view(-1, feature_dim)  #flatten the formal two dimension ，shape:(batch_size * sequence_length, feature_dim)\n",
    "\n",
    "        # embedding\n",
    "        tam_embedded = self.embedding(tam_indices_flat.long())  # 形状为 (batch_size * sequence_length, feature_dim, embedding_dim)\n",
    "        tam_embedded = tam_embedded.mean(dim=-2)  # aggregate the embeddings of the same position\n",
    "\n",
    "        # lower dimensionality\n",
    "        tam_features = self.linear(tam_embedded)  # 形状为 (batch_size * sequence_length, feature_dim)\n",
    "        tam_features = self.relu(tam_features)#[256,6]\n",
    "\n",
    "        tam_features = tam_features.view(batch_size, feature_dim,-1)  # (batch_size, sequence_length, feature_dim) = (64, 4, 4)\n",
    "        tam_features = tam_features.permute(0, 2, 1)\n",
    "        # print(\"tam_features.shape:\", tam_features.shape) \n",
    "\n",
    "        return tam_features\n"
   ]
  },
  {
   "cell_type": "code",
   "execution_count": 9,
   "metadata": {},
   "outputs": [],
   "source": [
    "class LocalCNN(nn.Module):\n",
    "    def __init__(self, sequence_length, tam_one_hot_dim=4, tam_embedding_dim=4, kernel_size=21):\n",
    "        super(LocalCNN, self).__init__()\n",
    "\n",
    "        # TAMEnhancer\n",
    "        self.tam_enhancer = TAMEnhancer(one_hot_dim=tam_one_hot_dim, embedding_dim=tam_embedding_dim, feature_dim=6)\n",
    "        \n",
    "        # Convolutional layers\n",
    "        self.conv1 = nn.Conv1d(in_channels=6 , out_channels=32, kernel_size=kernel_size, padding=kernel_size // 2)\n",
    "        self.conv2 = nn.Conv1d(in_channels=32, out_channels=64, kernel_size=kernel_size, padding=kernel_size // 2)\n",
    "        self.conv3 = nn.Conv1d(in_channels=64, out_channels=64, kernel_size=kernel_size, padding=kernel_size // 2)\n",
    "        self.conv4 = nn.Conv1d(in_channels=64, out_channels=64, kernel_size=kernel_size, padding=kernel_size // 2)\n",
    "        \n",
    "        # Batch Normalization\n",
    "        self.bn1 = nn.BatchNorm1d(32)\n",
    "        self.bn2 = nn.BatchNorm1d(64)\n",
    "        self.bn3 = nn.BatchNorm1d(64)\n",
    "        self.bn4 = nn.BatchNorm1d(64)   \n",
    "        \n",
    "        # Activation functions\n",
    "        self.leaky_relu = nn.LeakyReLU(0.1)\n",
    "        self.hardtanh = nn.Hardtanh(min_val=0, max_val=1)\n",
    "        self.dropout = nn.Dropout(0.5)\n",
    "        \n",
    "        # Global pooling\n",
    "        self.global_pool = nn.AdaptiveAvgPool1d(1)\n",
    "        \n",
    "        # Fully connected layers\n",
    "        self.fc1 = nn.Linear(64, 256)\n",
    "        self.fc2 = nn.Linear(256, 32)\n",
    "        self.fc3 = nn.Linear(32, 1)\n",
    "\n",
    "    def forward(self, x, tam_indices):\n",
    "        # Enhance TAM features\n",
    "\n",
    "\n",
    "        tam_features = self.tam_enhancer(tam_indices)  # (batch_size, sequence_length, embedding_dim)\n",
    "        # print(tam_features.shape)\n",
    "        # print(x.shape)\n",
    "        # Concatenate TAM features with the input sequence\n",
    "        x = torch.cat((x, tam_features), dim=1)  # (batch_size, sequence_length, 6 + tam_embedding_dim)\n",
    "\n",
    "        # Input permutation for Conv1d\n",
    "        x = x.permute(0, 2, 1)  # (batch_size, 12 + tam_embedding_dim, sequence_length)\n",
    "        \n",
    "        # Convolutional block 1\n",
    "        x = self.conv1(x)\n",
    "        x = self.bn1(x)\n",
    "        x = self.leaky_relu(x)\n",
    "        \n",
    "        # Convolutional block 2\n",
    "        x = self.conv2(x)\n",
    "        x = self.bn2(x)\n",
    "        x = self.leaky_relu(x)\n",
    "        \n",
    "        # Convolutional block 3\n",
    "        x = self.conv3(x)\n",
    "        x = self.bn3(x)\n",
    "        x = self.leaky_relu(x)\n",
    "\n",
    "                \n",
    "        # Convolutional block 4\n",
    "        x = self.conv4(x)\n",
    "        x = self.bn4(x)\n",
    "        x = self.leaky_relu(x)\n",
    "        \n",
    "        # Global average pooling\n",
    "        x = self.global_pool(x).squeeze(-1)\n",
    "        \n",
    "        # Fully connected layers\n",
    "        x = self.fc1(x)\n",
    "        x = self.leaky_relu(x)\n",
    "        x = self.dropout(x)\n",
    "        \n",
    "        x = self.fc2(x)\n",
    "        x = self.leaky_relu(x)\n",
    "        \n",
    "        x = self.fc3(x)\n",
    "        x = self.hardtanh(x)\n",
    "\n",
    "        return x\n"
   ]
  },
  {
   "cell_type": "code",
   "execution_count": 21,
   "metadata": {},
   "outputs": [
    {
     "name": "stdout",
     "output_type": "stream",
     "text": [
      "2864\n"
     ]
    }
   ],
   "source": [
    "train_label_data = FeatureProcessor(file_path='D:/01IscBML/', file_name='A_to_G_S18_Train_del1700_90%.xlsx').labels_tensor\n",
    "train_combined_features = FeatureProcessor(file_path='D:/01IscBML/', file_name='A_to_G_S18_Train_del1700_90%.xlsx').combined_features\n",
    "train_Tam_features = train_combined_features[:,36:40,:].long()\n",
    "\n",
    "\n",
    "val_label_data = FeatureProcessor(file_path='D:/01IscBML/', file_name='A_to_G_S18_Val_del1700_10%.xlsx').labels_tensor\n",
    "val_combined_features = FeatureProcessor(file_path='D:/01IscBML/', file_name='A_to_G_S18_Val_del1700_10%.xlsx').combined_features\n",
    "val_Tam_features = val_combined_features[:,36:40,:].long()\n",
    "\n",
    "#---------------total dataset--------------\n",
    "# label_data = FeatureProcessor(file_path='D:/01IscBML/', file_name='A_to_G_S19_del.xlsx').labels_tensor\n",
    "# combined_features = FeatureProcessor(file_path='D:/01IscBML/', file_name='A_to_G_S19_del.xlsx').combined_features\n",
    "# Tam_features = combined_features[:,36:40,:].long()\n",
    "\n",
    "# print(f\"combined_features shape: {combined_features.shape}\")\n",
    "# print(f\"Tam_features shape: {Tam_features.shape}\")\n",
    "# print(f\"label_data shape: {label_data.shape}\")\n",
    "\n",
    "#---------------------Create dataset and dataloader-----------------\n",
    "train_dataset = TensorDataset(train_combined_features,train_Tam_features, train_label_data)\n",
    "val_dataset = TensorDataset(val_combined_features,val_Tam_features, val_label_data)\n",
    "\n",
    "# Turn shuffle to False if you want to keep the predefined order of the data\n",
    "train_dataloader = DataLoader(train_dataset, batch_size=32, shuffle=False)  # You can adjust the batch size as needed\n",
    "val_dataloader = DataLoader(val_dataset, batch_size=len(val_dataset), shuffle=False)  # You can adjust the batch size as needed\n",
    "\n",
    "#----------------------Example to check batches---------------------\n",
    "# for i, (batch_features,batch_Tam_features, batch_labels) in enumerate(dataloader):\n",
    "#     print(\"Batch\", i)\n",
    "#     # print(batch_features.requires_grad)\n",
    "#     # print(\"Features Batch Shape:\", batch_features[:,36:40,:])  # (batch_size, sequence_length, channel_size)\n",
    "#     print(\"Tam_features Batch Shape:\", batch_Tam_features.shape)  # (batch_size, sequence_length, channel_size)\n",
    "#     print(\"Labels Batch Shape:\", batch_labels[20])  # (batch_size, 1)\n",
    "#     i+=1\n",
    "#     if i == 2:\n",
    "#         break\n",
    "\n",
    "#------------------pred dataset---------------------\n",
    "test_label_data = FeatureProcessor(file_path='D:/01IscBML/',file_name='./test_del_keep1700.xlsx').labels_tensor\n",
    "test_combined_features = FeatureProcessor(file_path='D:/01IscBML/',file_name='./test_del_keep1700.xlsx').combined_features\n",
    "test_Tam_features = test_combined_features[:,36:40,:].long()\n",
    "#---------------------Create dataset and dataloader-----------------\n",
    "test_dataset = TensorDataset(test_combined_features, test_Tam_features, test_label_data)\n",
    "testset_length = len(test_dataset)\n",
    "print(testset_length)\n",
    "\n",
    "# Turn shuffle to False if you want to keep the predefined order of the data\n",
    "test_dataloader = DataLoader(test_dataset, batch_size=testset_length, shuffle=False, drop_last=True)"
   ]
  },
  {
   "cell_type": "code",
   "execution_count": 11,
   "metadata": {},
   "outputs": [],
   "source": [
    "# #------------------split train&validation dataset---------------------\n",
    "# from torch.utils.data import random_split, DataLoader\n",
    "\n",
    "# dataset_size = len(dataset)\n",
    "# train_size = int(0.8 * dataset_size) \n",
    "\n",
    "# val_size = dataset_size - train_size  \n",
    "# print(val_size)\n",
    "\n",
    "# train_dataset, val_dataset = random_split(dataset, [train_size, val_size])\n",
    "\n",
    "# train_dataloader = DataLoader(train_dataset, batch_size=64, shuffle=True, drop_last=True)\n",
    "# val_dataloader = DataLoader(val_dataset, batch_size=val_size, shuffle=False, drop_last=True)    \n",
    "\n",
    "# for i, train_data in enumerate(train_dataloader):\n",
    "#     print(\"Batch\", i)\n",
    "#     channel = train_data[0].shape[2]\n",
    "#     print(\"Features Batch Shape:\", train_data[0].shape)  # (batch_size, sequence_length, channel_size)\n",
    "#     print(\"Labels Batch Shape:\", train_data[1].shape)  # (batch_size, 1)\n",
    "#     print(\"Channel Size:\", channel)\n",
    "#     i+=1\n",
    "#     if i == 2:\n",
    "#         break"
   ]
  },
  {
   "cell_type": "code",
   "execution_count": null,
   "metadata": {},
   "outputs": [
    {
     "name": "stderr",
     "output_type": "stream",
     "text": [
      "Epoch 1/150: 100%|██████████| 323/323 [00:01<00:00, 173.23it/s]\n"
     ]
    },
    {
     "name": "stdout",
     "output_type": "stream",
     "text": [
      "Model saved with Pearson correlation: 0.6378\n",
      "Epoch [1/150]\n",
      "Training Loss: 0.0461\n",
      "Validation Pearson Correlation: 0.6378\n"
     ]
    },
    {
     "name": "stderr",
     "output_type": "stream",
     "text": [
      "Epoch 2/150: 100%|██████████| 323/323 [00:01<00:00, 219.58it/s]\n"
     ]
    },
    {
     "name": "stdout",
     "output_type": "stream",
     "text": [
      "Model saved with Pearson correlation: 0.6589\n",
      "Epoch [2/150]\n",
      "Training Loss: 0.0341\n",
      "Validation Pearson Correlation: 0.6589\n"
     ]
    },
    {
     "name": "stderr",
     "output_type": "stream",
     "text": [
      "Epoch 3/150: 100%|██████████| 323/323 [00:01<00:00, 235.36it/s]\n"
     ]
    },
    {
     "name": "stdout",
     "output_type": "stream",
     "text": [
      "Model saved with Pearson correlation: 0.6788\n",
      "Epoch [3/150]\n",
      "Training Loss: 0.0294\n",
      "Validation Pearson Correlation: 0.6788\n"
     ]
    },
    {
     "name": "stderr",
     "output_type": "stream",
     "text": [
      "Epoch 4/150: 100%|██████████| 323/323 [00:01<00:00, 215.37it/s]\n"
     ]
    },
    {
     "name": "stdout",
     "output_type": "stream",
     "text": [
      "Model saved with Pearson correlation: 0.7102\n",
      "Epoch [4/150]\n",
      "Training Loss: 0.0260\n",
      "Validation Pearson Correlation: 0.7102\n"
     ]
    },
    {
     "name": "stderr",
     "output_type": "stream",
     "text": [
      "Epoch 5/150: 100%|██████████| 323/323 [00:01<00:00, 235.28it/s]\n"
     ]
    },
    {
     "name": "stdout",
     "output_type": "stream",
     "text": [
      "Model saved with Pearson correlation: 0.7556\n",
      "Epoch [5/150]\n",
      "Training Loss: 0.0228\n",
      "Validation Pearson Correlation: 0.7556\n"
     ]
    },
    {
     "name": "stderr",
     "output_type": "stream",
     "text": [
      "Epoch 6/150: 100%|██████████| 323/323 [00:01<00:00, 243.79it/s]\n"
     ]
    },
    {
     "name": "stdout",
     "output_type": "stream",
     "text": [
      "Model saved with Pearson correlation: 0.7582\n",
      "Epoch [6/150]\n",
      "Training Loss: 0.0198\n",
      "Validation Pearson Correlation: 0.7582\n"
     ]
    },
    {
     "name": "stderr",
     "output_type": "stream",
     "text": [
      "Epoch 7/150: 100%|██████████| 323/323 [00:01<00:00, 247.39it/s]\n"
     ]
    },
    {
     "name": "stdout",
     "output_type": "stream",
     "text": [
      "Model saved with Pearson correlation: 0.7584\n",
      "Epoch [7/150]\n",
      "Training Loss: 0.0168\n",
      "Validation Pearson Correlation: 0.7584\n"
     ]
    },
    {
     "name": "stderr",
     "output_type": "stream",
     "text": [
      "Epoch 8/150: 100%|██████████| 323/323 [00:01<00:00, 243.67it/s]\n"
     ]
    },
    {
     "name": "stdout",
     "output_type": "stream",
     "text": [
      "Model saved with Pearson correlation: 0.7584\n",
      "Epoch [8/150]\n",
      "Training Loss: 0.0142\n",
      "Validation Pearson Correlation: 0.7309\n"
     ]
    },
    {
     "name": "stderr",
     "output_type": "stream",
     "text": [
      "Epoch 9/150: 100%|██████████| 323/323 [00:01<00:00, 269.35it/s]\n"
     ]
    },
    {
     "name": "stdout",
     "output_type": "stream",
     "text": [
      "Model saved with Pearson correlation: 0.7776\n",
      "Epoch [9/150]\n",
      "Training Loss: 0.0120\n",
      "Validation Pearson Correlation: 0.7776\n"
     ]
    },
    {
     "name": "stderr",
     "output_type": "stream",
     "text": [
      "Epoch 10/150: 100%|██████████| 323/323 [00:01<00:00, 259.37it/s]\n"
     ]
    },
    {
     "name": "stdout",
     "output_type": "stream",
     "text": [
      "Model saved with Pearson correlation: 0.7975\n",
      "Epoch [10/150]\n",
      "Training Loss: 0.0104\n",
      "Validation Pearson Correlation: 0.7975\n"
     ]
    },
    {
     "name": "stderr",
     "output_type": "stream",
     "text": [
      "Epoch 11/150: 100%|██████████| 323/323 [00:01<00:00, 263.60it/s]\n"
     ]
    },
    {
     "name": "stdout",
     "output_type": "stream",
     "text": [
      "Model saved with Pearson correlation: 0.7975\n",
      "Epoch [11/150]\n",
      "Training Loss: 0.0199\n",
      "Validation Pearson Correlation: 0.7382\n"
     ]
    },
    {
     "name": "stderr",
     "output_type": "stream",
     "text": [
      "Epoch 12/150: 100%|██████████| 323/323 [00:01<00:00, 269.24it/s]\n"
     ]
    },
    {
     "name": "stdout",
     "output_type": "stream",
     "text": [
      "Model saved with Pearson correlation: 0.7975\n",
      "Epoch [12/150]\n",
      "Training Loss: 0.0180\n",
      "Validation Pearson Correlation: 0.7368\n"
     ]
    },
    {
     "name": "stderr",
     "output_type": "stream",
     "text": [
      "Epoch 13/150: 100%|██████████| 323/323 [00:01<00:00, 267.82it/s]\n"
     ]
    },
    {
     "name": "stdout",
     "output_type": "stream",
     "text": [
      "Model saved with Pearson correlation: 0.7975\n",
      "Epoch [13/150]\n",
      "Training Loss: 0.0172\n",
      "Validation Pearson Correlation: 0.7628\n"
     ]
    },
    {
     "name": "stderr",
     "output_type": "stream",
     "text": [
      "Epoch 14/150: 100%|██████████| 323/323 [00:01<00:00, 259.85it/s]\n"
     ]
    },
    {
     "name": "stdout",
     "output_type": "stream",
     "text": [
      "Model saved with Pearson correlation: 0.7975\n",
      "Epoch [14/150]\n",
      "Training Loss: 0.0159\n",
      "Validation Pearson Correlation: 0.7550\n"
     ]
    },
    {
     "name": "stderr",
     "output_type": "stream",
     "text": [
      "Epoch 15/150: 100%|██████████| 323/323 [00:01<00:00, 260.49it/s]\n"
     ]
    },
    {
     "name": "stdout",
     "output_type": "stream",
     "text": [
      "Model saved with Pearson correlation: 0.7975\n",
      "Epoch [15/150]\n",
      "Training Loss: 0.0144\n",
      "Validation Pearson Correlation: 0.7510\n"
     ]
    },
    {
     "name": "stderr",
     "output_type": "stream",
     "text": [
      "Epoch 16/150: 100%|██████████| 323/323 [00:01<00:00, 273.07it/s]\n"
     ]
    },
    {
     "name": "stdout",
     "output_type": "stream",
     "text": [
      "Model saved with Pearson correlation: 0.7975\n",
      "Epoch [16/150]\n",
      "Training Loss: 0.0137\n",
      "Validation Pearson Correlation: 0.7550\n"
     ]
    },
    {
     "name": "stderr",
     "output_type": "stream",
     "text": [
      "Epoch 17/150: 100%|██████████| 323/323 [00:01<00:00, 268.12it/s]\n"
     ]
    },
    {
     "name": "stdout",
     "output_type": "stream",
     "text": [
      "Model saved with Pearson correlation: 0.7975\n",
      "Epoch [17/150]\n",
      "Training Loss: 0.0127\n",
      "Validation Pearson Correlation: 0.7596\n"
     ]
    },
    {
     "name": "stderr",
     "output_type": "stream",
     "text": [
      "Epoch 18/150: 100%|██████████| 323/323 [00:01<00:00, 257.23it/s]\n"
     ]
    },
    {
     "name": "stdout",
     "output_type": "stream",
     "text": [
      "Model saved with Pearson correlation: 0.7975\n",
      "Epoch [18/150]\n",
      "Training Loss: 0.0120\n",
      "Validation Pearson Correlation: 0.7505\n"
     ]
    },
    {
     "name": "stderr",
     "output_type": "stream",
     "text": [
      "Epoch 19/150: 100%|██████████| 323/323 [00:01<00:00, 267.09it/s]\n"
     ]
    },
    {
     "name": "stdout",
     "output_type": "stream",
     "text": [
      "Model saved with Pearson correlation: 0.7975\n",
      "Epoch [19/150]\n",
      "Training Loss: 0.0108\n",
      "Validation Pearson Correlation: 0.7697\n"
     ]
    },
    {
     "name": "stderr",
     "output_type": "stream",
     "text": [
      "Epoch 20/150: 100%|██████████| 323/323 [00:01<00:00, 260.96it/s]\n"
     ]
    },
    {
     "name": "stdout",
     "output_type": "stream",
     "text": [
      "Model saved with Pearson correlation: 0.7975\n",
      "Epoch [20/150]\n",
      "Training Loss: 0.0098\n",
      "Validation Pearson Correlation: 0.7679\n"
     ]
    },
    {
     "name": "stderr",
     "output_type": "stream",
     "text": [
      "Epoch 21/150: 100%|██████████| 323/323 [00:01<00:00, 258.52it/s]\n"
     ]
    },
    {
     "name": "stdout",
     "output_type": "stream",
     "text": [
      "Model saved with Pearson correlation: 0.7975\n",
      "Epoch [21/150]\n",
      "Training Loss: 0.0090\n",
      "Validation Pearson Correlation: 0.7785\n"
     ]
    },
    {
     "name": "stderr",
     "output_type": "stream",
     "text": [
      "Epoch 22/150: 100%|██████████| 323/323 [00:01<00:00, 264.68it/s]\n"
     ]
    },
    {
     "name": "stdout",
     "output_type": "stream",
     "text": [
      "Model saved with Pearson correlation: 0.7975\n",
      "Epoch [22/150]\n",
      "Training Loss: 0.0083\n",
      "Validation Pearson Correlation: 0.7759\n"
     ]
    },
    {
     "name": "stderr",
     "output_type": "stream",
     "text": [
      "Epoch 23/150: 100%|██████████| 323/323 [00:01<00:00, 257.01it/s]\n"
     ]
    },
    {
     "name": "stdout",
     "output_type": "stream",
     "text": [
      "Model saved with Pearson correlation: 0.7975\n",
      "Epoch [23/150]\n",
      "Training Loss: 0.0076\n",
      "Validation Pearson Correlation: 0.7658\n"
     ]
    },
    {
     "name": "stderr",
     "output_type": "stream",
     "text": [
      "Epoch 24/150: 100%|██████████| 323/323 [00:01<00:00, 261.78it/s]\n"
     ]
    },
    {
     "name": "stdout",
     "output_type": "stream",
     "text": [
      "Model saved with Pearson correlation: 0.7975\n",
      "Epoch [24/150]\n",
      "Training Loss: 0.0068\n",
      "Validation Pearson Correlation: 0.7663\n"
     ]
    },
    {
     "name": "stderr",
     "output_type": "stream",
     "text": [
      "Epoch 25/150: 100%|██████████| 323/323 [00:01<00:00, 258.47it/s]\n"
     ]
    },
    {
     "name": "stdout",
     "output_type": "stream",
     "text": [
      "Model saved with Pearson correlation: 0.7975\n",
      "Epoch [25/150]\n",
      "Training Loss: 0.0062\n",
      "Validation Pearson Correlation: 0.7731\n"
     ]
    },
    {
     "name": "stderr",
     "output_type": "stream",
     "text": [
      "Epoch 26/150: 100%|██████████| 323/323 [00:01<00:00, 258.42it/s]\n"
     ]
    },
    {
     "name": "stdout",
     "output_type": "stream",
     "text": [
      "Model saved with Pearson correlation: 0.7975\n",
      "Epoch [26/150]\n",
      "Training Loss: 0.0056\n",
      "Validation Pearson Correlation: 0.7934\n"
     ]
    },
    {
     "name": "stderr",
     "output_type": "stream",
     "text": [
      "Epoch 27/150: 100%|██████████| 323/323 [00:01<00:00, 251.34it/s]\n"
     ]
    },
    {
     "name": "stdout",
     "output_type": "stream",
     "text": [
      "Model saved with Pearson correlation: 0.8015\n",
      "Epoch [27/150]\n",
      "Training Loss: 0.0051\n",
      "Validation Pearson Correlation: 0.8015\n"
     ]
    },
    {
     "name": "stderr",
     "output_type": "stream",
     "text": [
      "Epoch 28/150: 100%|██████████| 323/323 [00:01<00:00, 237.33it/s]\n"
     ]
    },
    {
     "name": "stdout",
     "output_type": "stream",
     "text": [
      "Model saved with Pearson correlation: 0.8049\n",
      "Epoch [28/150]\n",
      "Training Loss: 0.0047\n",
      "Validation Pearson Correlation: 0.8049\n"
     ]
    },
    {
     "name": "stderr",
     "output_type": "stream",
     "text": [
      "Epoch 29/150: 100%|██████████| 323/323 [00:01<00:00, 256.19it/s]\n"
     ]
    },
    {
     "name": "stdout",
     "output_type": "stream",
     "text": [
      "Model saved with Pearson correlation: 0.8079\n",
      "Epoch [29/150]\n",
      "Training Loss: 0.0044\n",
      "Validation Pearson Correlation: 0.8079\n"
     ]
    },
    {
     "name": "stderr",
     "output_type": "stream",
     "text": [
      "Epoch 30/150: 100%|██████████| 323/323 [00:01<00:00, 252.50it/s]\n"
     ]
    },
    {
     "name": "stdout",
     "output_type": "stream",
     "text": [
      "Model saved with Pearson correlation: 0.8101\n",
      "Epoch [30/150]\n",
      "Training Loss: 0.0042\n",
      "Validation Pearson Correlation: 0.8101\n"
     ]
    },
    {
     "name": "stderr",
     "output_type": "stream",
     "text": [
      "Epoch 31/150: 100%|██████████| 323/323 [00:01<00:00, 254.82it/s]\n"
     ]
    },
    {
     "name": "stdout",
     "output_type": "stream",
     "text": [
      "Model saved with Pearson correlation: 0.8101\n",
      "Epoch [31/150]\n",
      "Training Loss: 0.0153\n",
      "Validation Pearson Correlation: 0.6722\n"
     ]
    },
    {
     "name": "stderr",
     "output_type": "stream",
     "text": [
      "Epoch 32/150: 100%|██████████| 323/323 [00:01<00:00, 256.58it/s]\n"
     ]
    },
    {
     "name": "stdout",
     "output_type": "stream",
     "text": [
      "Model saved with Pearson correlation: 0.8101\n",
      "Epoch [32/150]\n",
      "Training Loss: 0.0135\n",
      "Validation Pearson Correlation: 0.7463\n"
     ]
    },
    {
     "name": "stderr",
     "output_type": "stream",
     "text": [
      "Epoch 33/150: 100%|██████████| 323/323 [00:01<00:00, 259.77it/s]\n"
     ]
    },
    {
     "name": "stdout",
     "output_type": "stream",
     "text": [
      "Model saved with Pearson correlation: 0.8101\n",
      "Epoch [33/150]\n",
      "Training Loss: 0.0122\n",
      "Validation Pearson Correlation: 0.7707\n"
     ]
    },
    {
     "name": "stderr",
     "output_type": "stream",
     "text": [
      "Epoch 34/150: 100%|██████████| 323/323 [00:01<00:00, 257.83it/s]\n"
     ]
    },
    {
     "name": "stdout",
     "output_type": "stream",
     "text": [
      "Model saved with Pearson correlation: 0.8101\n",
      "Epoch [34/150]\n",
      "Training Loss: 0.0109\n",
      "Validation Pearson Correlation: 0.7653\n"
     ]
    },
    {
     "name": "stderr",
     "output_type": "stream",
     "text": [
      "Epoch 35/150: 100%|██████████| 323/323 [00:01<00:00, 262.21it/s]\n"
     ]
    },
    {
     "name": "stdout",
     "output_type": "stream",
     "text": [
      "Model saved with Pearson correlation: 0.8101\n",
      "Epoch [35/150]\n",
      "Training Loss: 0.0104\n",
      "Validation Pearson Correlation: 0.7254\n"
     ]
    },
    {
     "name": "stderr",
     "output_type": "stream",
     "text": [
      "Epoch 36/150: 100%|██████████| 323/323 [00:01<00:00, 258.79it/s]\n"
     ]
    },
    {
     "name": "stdout",
     "output_type": "stream",
     "text": [
      "Model saved with Pearson correlation: 0.8101\n",
      "Epoch [36/150]\n",
      "Training Loss: 0.0104\n",
      "Validation Pearson Correlation: 0.7217\n"
     ]
    },
    {
     "name": "stderr",
     "output_type": "stream",
     "text": [
      "Epoch 37/150: 100%|██████████| 323/323 [00:01<00:00, 254.18it/s]\n"
     ]
    },
    {
     "name": "stdout",
     "output_type": "stream",
     "text": [
      "Model saved with Pearson correlation: 0.8101\n",
      "Epoch [37/150]\n",
      "Training Loss: 0.0092\n",
      "Validation Pearson Correlation: 0.7723\n"
     ]
    },
    {
     "name": "stderr",
     "output_type": "stream",
     "text": [
      "Epoch 38/150: 100%|██████████| 323/323 [00:01<00:00, 260.97it/s]\n"
     ]
    },
    {
     "name": "stdout",
     "output_type": "stream",
     "text": [
      "Model saved with Pearson correlation: 0.8101\n",
      "Epoch [38/150]\n",
      "Training Loss: 0.0092\n",
      "Validation Pearson Correlation: 0.7958\n"
     ]
    },
    {
     "name": "stderr",
     "output_type": "stream",
     "text": [
      "Epoch 39/150: 100%|██████████| 323/323 [00:01<00:00, 253.60it/s]\n"
     ]
    },
    {
     "name": "stdout",
     "output_type": "stream",
     "text": [
      "Model saved with Pearson correlation: 0.8101\n",
      "Epoch [39/150]\n",
      "Training Loss: 0.0089\n",
      "Validation Pearson Correlation: 0.7490\n"
     ]
    },
    {
     "name": "stderr",
     "output_type": "stream",
     "text": [
      "Epoch 40/150: 100%|██████████| 323/323 [00:01<00:00, 255.52it/s]\n"
     ]
    },
    {
     "name": "stdout",
     "output_type": "stream",
     "text": [
      "Model saved with Pearson correlation: 0.8101\n",
      "Epoch [40/150]\n",
      "Training Loss: 0.0086\n",
      "Validation Pearson Correlation: 0.7808\n"
     ]
    },
    {
     "name": "stderr",
     "output_type": "stream",
     "text": [
      "Epoch 41/150: 100%|██████████| 323/323 [00:01<00:00, 250.27it/s]\n"
     ]
    },
    {
     "name": "stdout",
     "output_type": "stream",
     "text": [
      "Model saved with Pearson correlation: 0.8101\n",
      "Epoch [41/150]\n",
      "Training Loss: 0.0078\n",
      "Validation Pearson Correlation: 0.7662\n"
     ]
    },
    {
     "name": "stderr",
     "output_type": "stream",
     "text": [
      "Epoch 42/150: 100%|██████████| 323/323 [00:01<00:00, 244.97it/s]\n"
     ]
    },
    {
     "name": "stdout",
     "output_type": "stream",
     "text": [
      "Model saved with Pearson correlation: 0.8101\n",
      "Epoch [42/150]\n",
      "Training Loss: 0.0075\n",
      "Validation Pearson Correlation: 0.7753\n"
     ]
    },
    {
     "name": "stderr",
     "output_type": "stream",
     "text": [
      "Epoch 43/150: 100%|██████████| 323/323 [00:01<00:00, 241.31it/s]\n"
     ]
    },
    {
     "name": "stdout",
     "output_type": "stream",
     "text": [
      "Model saved with Pearson correlation: 0.8101\n",
      "Epoch [43/150]\n",
      "Training Loss: 0.0075\n",
      "Validation Pearson Correlation: 0.7871\n"
     ]
    },
    {
     "name": "stderr",
     "output_type": "stream",
     "text": [
      "Epoch 44/150: 100%|██████████| 323/323 [00:01<00:00, 257.81it/s]\n"
     ]
    },
    {
     "name": "stdout",
     "output_type": "stream",
     "text": [
      "Model saved with Pearson correlation: 0.8101\n",
      "Epoch [44/150]\n",
      "Training Loss: 0.0070\n",
      "Validation Pearson Correlation: 0.7940\n"
     ]
    },
    {
     "name": "stderr",
     "output_type": "stream",
     "text": [
      "Epoch 45/150: 100%|██████████| 323/323 [00:01<00:00, 259.66it/s]\n"
     ]
    },
    {
     "name": "stdout",
     "output_type": "stream",
     "text": [
      "Model saved with Pearson correlation: 0.8101\n",
      "Epoch [45/150]\n",
      "Training Loss: 0.0067\n",
      "Validation Pearson Correlation: 0.7600\n"
     ]
    },
    {
     "name": "stderr",
     "output_type": "stream",
     "text": [
      "Epoch 46/150: 100%|██████████| 323/323 [00:01<00:00, 244.72it/s]\n"
     ]
    },
    {
     "name": "stdout",
     "output_type": "stream",
     "text": [
      "Model saved with Pearson correlation: 0.8101\n",
      "Epoch [46/150]\n",
      "Training Loss: 0.0061\n",
      "Validation Pearson Correlation: 0.7977\n"
     ]
    },
    {
     "name": "stderr",
     "output_type": "stream",
     "text": [
      "Epoch 47/150: 100%|██████████| 323/323 [00:01<00:00, 255.44it/s]\n"
     ]
    },
    {
     "name": "stdout",
     "output_type": "stream",
     "text": [
      "Model saved with Pearson correlation: 0.8101\n",
      "Epoch [47/150]\n",
      "Training Loss: 0.0057\n",
      "Validation Pearson Correlation: 0.7781\n"
     ]
    },
    {
     "name": "stderr",
     "output_type": "stream",
     "text": [
      "Epoch 48/150: 100%|██████████| 323/323 [00:01<00:00, 262.50it/s]\n"
     ]
    },
    {
     "name": "stdout",
     "output_type": "stream",
     "text": [
      "Model saved with Pearson correlation: 0.8101\n",
      "Epoch [48/150]\n",
      "Training Loss: 0.0056\n",
      "Validation Pearson Correlation: 0.7959\n"
     ]
    },
    {
     "name": "stderr",
     "output_type": "stream",
     "text": [
      "Epoch 49/150: 100%|██████████| 323/323 [00:01<00:00, 259.67it/s]\n"
     ]
    },
    {
     "name": "stdout",
     "output_type": "stream",
     "text": [
      "Model saved with Pearson correlation: 0.8101\n",
      "Epoch [49/150]\n",
      "Training Loss: 0.0053\n",
      "Validation Pearson Correlation: 0.8043\n"
     ]
    },
    {
     "name": "stderr",
     "output_type": "stream",
     "text": [
      "Epoch 50/150: 100%|██████████| 323/323 [00:01<00:00, 264.08it/s]\n"
     ]
    },
    {
     "name": "stdout",
     "output_type": "stream",
     "text": [
      "Model saved with Pearson correlation: 0.8101\n",
      "Epoch [50/150]\n",
      "Training Loss: 0.0050\n",
      "Validation Pearson Correlation: 0.7808\n"
     ]
    },
    {
     "name": "stderr",
     "output_type": "stream",
     "text": [
      "Epoch 51/150: 100%|██████████| 323/323 [00:01<00:00, 257.71it/s]\n"
     ]
    },
    {
     "name": "stdout",
     "output_type": "stream",
     "text": [
      "Model saved with Pearson correlation: 0.8101\n",
      "Epoch [51/150]\n",
      "Training Loss: 0.0046\n",
      "Validation Pearson Correlation: 0.7899\n"
     ]
    },
    {
     "name": "stderr",
     "output_type": "stream",
     "text": [
      "Epoch 52/150: 100%|██████████| 323/323 [00:01<00:00, 258.07it/s]\n"
     ]
    },
    {
     "name": "stdout",
     "output_type": "stream",
     "text": [
      "Model saved with Pearson correlation: 0.8101\n",
      "Epoch [52/150]\n",
      "Training Loss: 0.0043\n",
      "Validation Pearson Correlation: 0.7904\n"
     ]
    },
    {
     "name": "stderr",
     "output_type": "stream",
     "text": [
      "Epoch 53/150: 100%|██████████| 323/323 [00:01<00:00, 260.98it/s]\n"
     ]
    },
    {
     "name": "stdout",
     "output_type": "stream",
     "text": [
      "Model saved with Pearson correlation: 0.8101\n",
      "Epoch [53/150]\n",
      "Training Loss: 0.0043\n",
      "Validation Pearson Correlation: 0.7724\n"
     ]
    },
    {
     "name": "stderr",
     "output_type": "stream",
     "text": [
      "Epoch 54/150: 100%|██████████| 323/323 [00:01<00:00, 257.13it/s]\n"
     ]
    },
    {
     "name": "stdout",
     "output_type": "stream",
     "text": [
      "Model saved with Pearson correlation: 0.8101\n",
      "Epoch [54/150]\n",
      "Training Loss: 0.0041\n",
      "Validation Pearson Correlation: 0.7629\n"
     ]
    },
    {
     "name": "stderr",
     "output_type": "stream",
     "text": [
      "Epoch 55/150: 100%|██████████| 323/323 [00:01<00:00, 262.21it/s]\n"
     ]
    },
    {
     "name": "stdout",
     "output_type": "stream",
     "text": [
      "Model saved with Pearson correlation: 0.8101\n",
      "Epoch [55/150]\n",
      "Training Loss: 0.0036\n",
      "Validation Pearson Correlation: 0.7916\n"
     ]
    },
    {
     "name": "stderr",
     "output_type": "stream",
     "text": [
      "Epoch 56/150: 100%|██████████| 323/323 [00:01<00:00, 261.13it/s]\n"
     ]
    },
    {
     "name": "stdout",
     "output_type": "stream",
     "text": [
      "Model saved with Pearson correlation: 0.8103\n",
      "Epoch [56/150]\n",
      "Training Loss: 0.0035\n",
      "Validation Pearson Correlation: 0.8103\n"
     ]
    },
    {
     "name": "stderr",
     "output_type": "stream",
     "text": [
      "Epoch 57/150: 100%|██████████| 323/323 [00:01<00:00, 263.62it/s]\n"
     ]
    },
    {
     "name": "stdout",
     "output_type": "stream",
     "text": [
      "Model saved with Pearson correlation: 0.8103\n",
      "Epoch [57/150]\n",
      "Training Loss: 0.0031\n",
      "Validation Pearson Correlation: 0.8056\n"
     ]
    },
    {
     "name": "stderr",
     "output_type": "stream",
     "text": [
      "Epoch 58/150: 100%|██████████| 323/323 [00:01<00:00, 256.35it/s]\n"
     ]
    },
    {
     "name": "stdout",
     "output_type": "stream",
     "text": [
      "Model saved with Pearson correlation: 0.8106\n",
      "Epoch [58/150]\n",
      "Training Loss: 0.0029\n",
      "Validation Pearson Correlation: 0.8106\n"
     ]
    },
    {
     "name": "stderr",
     "output_type": "stream",
     "text": [
      "Epoch 59/150: 100%|██████████| 323/323 [00:01<00:00, 250.33it/s]\n"
     ]
    },
    {
     "name": "stdout",
     "output_type": "stream",
     "text": [
      "Model saved with Pearson correlation: 0.8106\n",
      "Epoch [59/150]\n",
      "Training Loss: 0.0027\n",
      "Validation Pearson Correlation: 0.8105\n"
     ]
    },
    {
     "name": "stderr",
     "output_type": "stream",
     "text": [
      "Epoch 60/150: 100%|██████████| 323/323 [00:01<00:00, 254.57it/s]\n"
     ]
    },
    {
     "name": "stdout",
     "output_type": "stream",
     "text": [
      "Model saved with Pearson correlation: 0.8121\n",
      "Epoch [60/150]\n",
      "Training Loss: 0.0025\n",
      "Validation Pearson Correlation: 0.8121\n"
     ]
    },
    {
     "name": "stderr",
     "output_type": "stream",
     "text": [
      "Epoch 61/150: 100%|██████████| 323/323 [00:01<00:00, 249.84it/s]\n"
     ]
    },
    {
     "name": "stdout",
     "output_type": "stream",
     "text": [
      "Model saved with Pearson correlation: 0.8129\n",
      "Epoch [61/150]\n",
      "Training Loss: 0.0024\n",
      "Validation Pearson Correlation: 0.8129\n"
     ]
    },
    {
     "name": "stderr",
     "output_type": "stream",
     "text": [
      "Epoch 62/150: 100%|██████████| 323/323 [00:01<00:00, 251.00it/s]\n"
     ]
    },
    {
     "name": "stdout",
     "output_type": "stream",
     "text": [
      "Model saved with Pearson correlation: 0.8129\n",
      "Epoch [62/150]\n",
      "Training Loss: 0.0024\n",
      "Validation Pearson Correlation: 0.8123\n"
     ]
    },
    {
     "name": "stderr",
     "output_type": "stream",
     "text": [
      "Epoch 63/150: 100%|██████████| 323/323 [00:01<00:00, 252.74it/s]\n"
     ]
    },
    {
     "name": "stdout",
     "output_type": "stream",
     "text": [
      "Model saved with Pearson correlation: 0.8129\n",
      "Epoch [63/150]\n",
      "Training Loss: 0.0022\n",
      "Validation Pearson Correlation: 0.8075\n"
     ]
    },
    {
     "name": "stderr",
     "output_type": "stream",
     "text": [
      "Epoch 64/150: 100%|██████████| 323/323 [00:01<00:00, 232.71it/s]\n"
     ]
    },
    {
     "name": "stdout",
     "output_type": "stream",
     "text": [
      "Model saved with Pearson correlation: 0.8129\n",
      "Epoch [64/150]\n",
      "Training Loss: 0.0021\n",
      "Validation Pearson Correlation: 0.8069\n"
     ]
    },
    {
     "name": "stderr",
     "output_type": "stream",
     "text": [
      "Epoch 65/150: 100%|██████████| 323/323 [00:01<00:00, 225.53it/s]\n"
     ]
    },
    {
     "name": "stdout",
     "output_type": "stream",
     "text": [
      "Model saved with Pearson correlation: 0.8132\n",
      "Epoch [65/150]\n",
      "Training Loss: 0.0020\n",
      "Validation Pearson Correlation: 0.8132\n"
     ]
    },
    {
     "name": "stderr",
     "output_type": "stream",
     "text": [
      "Epoch 66/150: 100%|██████████| 323/323 [00:01<00:00, 188.07it/s]\n"
     ]
    },
    {
     "name": "stdout",
     "output_type": "stream",
     "text": [
      "Model saved with Pearson correlation: 0.8188\n",
      "Epoch [66/150]\n",
      "Training Loss: 0.0019\n",
      "Validation Pearson Correlation: 0.8188\n"
     ]
    },
    {
     "name": "stderr",
     "output_type": "stream",
     "text": [
      "Epoch 67/150: 100%|██████████| 323/323 [00:01<00:00, 189.54it/s]\n"
     ]
    },
    {
     "name": "stdout",
     "output_type": "stream",
     "text": [
      "Model saved with Pearson correlation: 0.8223\n",
      "Epoch [67/150]\n",
      "Training Loss: 0.0017\n",
      "Validation Pearson Correlation: 0.8223\n"
     ]
    },
    {
     "name": "stderr",
     "output_type": "stream",
     "text": [
      "Epoch 68/150: 100%|██████████| 323/323 [00:01<00:00, 220.23it/s]\n"
     ]
    },
    {
     "name": "stdout",
     "output_type": "stream",
     "text": [
      "Model saved with Pearson correlation: 0.8241\n",
      "Epoch [68/150]\n",
      "Training Loss: 0.0016\n",
      "Validation Pearson Correlation: 0.8241\n"
     ]
    },
    {
     "name": "stderr",
     "output_type": "stream",
     "text": [
      "Epoch 69/150: 100%|██████████| 323/323 [00:01<00:00, 220.60it/s]\n"
     ]
    },
    {
     "name": "stdout",
     "output_type": "stream",
     "text": [
      "Model saved with Pearson correlation: 0.8260\n",
      "Epoch [69/150]\n",
      "Training Loss: 0.0016\n",
      "Validation Pearson Correlation: 0.8260\n"
     ]
    },
    {
     "name": "stderr",
     "output_type": "stream",
     "text": [
      "Epoch 70/150: 100%|██████████| 323/323 [00:01<00:00, 220.19it/s]\n"
     ]
    },
    {
     "name": "stdout",
     "output_type": "stream",
     "text": [
      "Model saved with Pearson correlation: 0.8265\n",
      "Epoch [70/150]\n",
      "Training Loss: 0.0016\n",
      "Validation Pearson Correlation: 0.8265\n"
     ]
    },
    {
     "name": "stderr",
     "output_type": "stream",
     "text": [
      "Epoch 71/150: 100%|██████████| 323/323 [00:01<00:00, 221.79it/s]\n"
     ]
    },
    {
     "name": "stdout",
     "output_type": "stream",
     "text": [
      "Model saved with Pearson correlation: 0.8265\n",
      "Epoch [71/150]\n",
      "Training Loss: 0.0194\n",
      "Validation Pearson Correlation: 0.7145\n"
     ]
    },
    {
     "name": "stderr",
     "output_type": "stream",
     "text": [
      "Epoch 72/150: 100%|██████████| 323/323 [00:01<00:00, 220.86it/s]\n"
     ]
    },
    {
     "name": "stdout",
     "output_type": "stream",
     "text": [
      "Model saved with Pearson correlation: 0.8265\n",
      "Epoch [72/150]\n",
      "Training Loss: 0.0133\n",
      "Validation Pearson Correlation: 0.7910\n"
     ]
    },
    {
     "name": "stderr",
     "output_type": "stream",
     "text": [
      "Epoch 73/150: 100%|██████████| 323/323 [00:01<00:00, 189.86it/s]\n"
     ]
    },
    {
     "name": "stdout",
     "output_type": "stream",
     "text": [
      "Model saved with Pearson correlation: 0.8265\n",
      "Epoch [73/150]\n",
      "Training Loss: 0.0102\n",
      "Validation Pearson Correlation: 0.7839\n"
     ]
    },
    {
     "name": "stderr",
     "output_type": "stream",
     "text": [
      "Epoch 74/150: 100%|██████████| 323/323 [00:01<00:00, 193.16it/s]\n"
     ]
    },
    {
     "name": "stdout",
     "output_type": "stream",
     "text": [
      "Model saved with Pearson correlation: 0.8265\n",
      "Epoch [74/150]\n",
      "Training Loss: 0.0088\n",
      "Validation Pearson Correlation: 0.7839\n"
     ]
    },
    {
     "name": "stderr",
     "output_type": "stream",
     "text": [
      "Epoch 75/150: 100%|██████████| 323/323 [00:01<00:00, 188.47it/s]\n"
     ]
    },
    {
     "name": "stdout",
     "output_type": "stream",
     "text": [
      "Model saved with Pearson correlation: 0.8265\n",
      "Epoch [75/150]\n",
      "Training Loss: 0.0080\n",
      "Validation Pearson Correlation: 0.7831\n"
     ]
    },
    {
     "name": "stderr",
     "output_type": "stream",
     "text": [
      "Epoch 76/150: 100%|██████████| 323/323 [00:01<00:00, 201.59it/s]\n"
     ]
    },
    {
     "name": "stdout",
     "output_type": "stream",
     "text": [
      "Model saved with Pearson correlation: 0.8265\n",
      "Epoch [76/150]\n",
      "Training Loss: 0.0079\n",
      "Validation Pearson Correlation: 0.7735\n"
     ]
    },
    {
     "name": "stderr",
     "output_type": "stream",
     "text": [
      "Epoch 77/150: 100%|██████████| 323/323 [00:01<00:00, 194.52it/s]\n"
     ]
    },
    {
     "name": "stdout",
     "output_type": "stream",
     "text": [
      "Model saved with Pearson correlation: 0.8265\n",
      "Epoch [77/150]\n",
      "Training Loss: 0.0077\n",
      "Validation Pearson Correlation: 0.7462\n"
     ]
    },
    {
     "name": "stderr",
     "output_type": "stream",
     "text": [
      "Epoch 78/150: 100%|██████████| 323/323 [00:01<00:00, 205.07it/s]\n"
     ]
    },
    {
     "name": "stdout",
     "output_type": "stream",
     "text": [
      "Model saved with Pearson correlation: 0.8265\n",
      "Epoch [78/150]\n",
      "Training Loss: 0.0072\n",
      "Validation Pearson Correlation: 0.7772\n"
     ]
    },
    {
     "name": "stderr",
     "output_type": "stream",
     "text": [
      "Epoch 79/150: 100%|██████████| 323/323 [00:01<00:00, 210.33it/s]\n"
     ]
    },
    {
     "name": "stdout",
     "output_type": "stream",
     "text": [
      "Model saved with Pearson correlation: 0.8265\n",
      "Epoch [79/150]\n",
      "Training Loss: 0.0073\n",
      "Validation Pearson Correlation: 0.7837\n"
     ]
    },
    {
     "name": "stderr",
     "output_type": "stream",
     "text": [
      "Epoch 80/150: 100%|██████████| 323/323 [00:01<00:00, 214.65it/s]\n"
     ]
    },
    {
     "name": "stdout",
     "output_type": "stream",
     "text": [
      "Model saved with Pearson correlation: 0.8265\n",
      "Epoch [80/150]\n",
      "Training Loss: 0.0067\n",
      "Validation Pearson Correlation: 0.7750\n"
     ]
    },
    {
     "name": "stderr",
     "output_type": "stream",
     "text": [
      "Epoch 81/150: 100%|██████████| 323/323 [00:01<00:00, 212.27it/s]\n"
     ]
    },
    {
     "name": "stdout",
     "output_type": "stream",
     "text": [
      "Model saved with Pearson correlation: 0.8265\n",
      "Epoch [81/150]\n",
      "Training Loss: 0.0067\n",
      "Validation Pearson Correlation: 0.7724\n"
     ]
    },
    {
     "name": "stderr",
     "output_type": "stream",
     "text": [
      "Epoch 82/150: 100%|██████████| 323/323 [00:01<00:00, 227.66it/s]\n"
     ]
    },
    {
     "name": "stdout",
     "output_type": "stream",
     "text": [
      "Model saved with Pearson correlation: 0.8265\n",
      "Epoch [82/150]\n",
      "Training Loss: 0.0064\n",
      "Validation Pearson Correlation: 0.7717\n"
     ]
    },
    {
     "name": "stderr",
     "output_type": "stream",
     "text": [
      "Epoch 83/150: 100%|██████████| 323/323 [00:01<00:00, 227.16it/s]\n"
     ]
    },
    {
     "name": "stdout",
     "output_type": "stream",
     "text": [
      "Model saved with Pearson correlation: 0.8265\n",
      "Epoch [83/150]\n",
      "Training Loss: 0.0064\n",
      "Validation Pearson Correlation: 0.7631\n"
     ]
    },
    {
     "name": "stderr",
     "output_type": "stream",
     "text": [
      "Epoch 84/150: 100%|██████████| 323/323 [00:01<00:00, 224.80it/s]\n"
     ]
    },
    {
     "name": "stdout",
     "output_type": "stream",
     "text": [
      "Model saved with Pearson correlation: 0.8265\n",
      "Epoch [84/150]\n",
      "Training Loss: 0.0072\n",
      "Validation Pearson Correlation: 0.7776\n"
     ]
    },
    {
     "name": "stderr",
     "output_type": "stream",
     "text": [
      "Epoch 85/150: 100%|██████████| 323/323 [00:01<00:00, 209.38it/s]\n"
     ]
    },
    {
     "name": "stdout",
     "output_type": "stream",
     "text": [
      "Model saved with Pearson correlation: 0.8265\n",
      "Epoch [85/150]\n",
      "Training Loss: 0.0063\n",
      "Validation Pearson Correlation: 0.7833\n"
     ]
    },
    {
     "name": "stderr",
     "output_type": "stream",
     "text": [
      "Epoch 86/150: 100%|██████████| 323/323 [00:01<00:00, 213.46it/s]\n"
     ]
    },
    {
     "name": "stdout",
     "output_type": "stream",
     "text": [
      "Model saved with Pearson correlation: 0.8265\n",
      "Epoch [86/150]\n",
      "Training Loss: 0.0058\n",
      "Validation Pearson Correlation: 0.7753\n"
     ]
    },
    {
     "name": "stderr",
     "output_type": "stream",
     "text": [
      "Epoch 87/150: 100%|██████████| 323/323 [00:01<00:00, 212.91it/s]\n"
     ]
    },
    {
     "name": "stdout",
     "output_type": "stream",
     "text": [
      "Model saved with Pearson correlation: 0.8265\n",
      "Epoch [87/150]\n",
      "Training Loss: 0.0059\n",
      "Validation Pearson Correlation: 0.7727\n"
     ]
    },
    {
     "name": "stderr",
     "output_type": "stream",
     "text": [
      "Epoch 88/150: 100%|██████████| 323/323 [00:01<00:00, 213.52it/s]\n"
     ]
    },
    {
     "name": "stdout",
     "output_type": "stream",
     "text": [
      "Model saved with Pearson correlation: 0.8265\n",
      "Epoch [88/150]\n",
      "Training Loss: 0.0058\n",
      "Validation Pearson Correlation: 0.7427\n"
     ]
    },
    {
     "name": "stderr",
     "output_type": "stream",
     "text": [
      "Epoch 89/150: 100%|██████████| 323/323 [00:01<00:00, 187.99it/s]\n"
     ]
    },
    {
     "name": "stdout",
     "output_type": "stream",
     "text": [
      "Model saved with Pearson correlation: 0.8265\n",
      "Epoch [89/150]\n",
      "Training Loss: 0.0061\n",
      "Validation Pearson Correlation: 0.7939\n"
     ]
    },
    {
     "name": "stderr",
     "output_type": "stream",
     "text": [
      "Epoch 90/150: 100%|██████████| 323/323 [00:01<00:00, 193.33it/s]\n"
     ]
    },
    {
     "name": "stdout",
     "output_type": "stream",
     "text": [
      "Model saved with Pearson correlation: 0.8265\n",
      "Epoch [90/150]\n",
      "Training Loss: 0.0060\n",
      "Validation Pearson Correlation: 0.7750\n"
     ]
    },
    {
     "name": "stderr",
     "output_type": "stream",
     "text": [
      "Epoch 91/150: 100%|██████████| 323/323 [00:01<00:00, 199.97it/s]\n"
     ]
    },
    {
     "name": "stdout",
     "output_type": "stream",
     "text": [
      "Model saved with Pearson correlation: 0.8265\n",
      "Epoch [91/150]\n",
      "Training Loss: 0.0051\n",
      "Validation Pearson Correlation: 0.7873\n"
     ]
    },
    {
     "name": "stderr",
     "output_type": "stream",
     "text": [
      "Epoch 92/150: 100%|██████████| 323/323 [00:01<00:00, 213.84it/s]\n"
     ]
    },
    {
     "name": "stdout",
     "output_type": "stream",
     "text": [
      "Model saved with Pearson correlation: 0.8265\n",
      "Epoch [92/150]\n",
      "Training Loss: 0.0051\n",
      "Validation Pearson Correlation: 0.7885\n"
     ]
    },
    {
     "name": "stderr",
     "output_type": "stream",
     "text": [
      "Epoch 93/150: 100%|██████████| 323/323 [00:01<00:00, 203.72it/s]\n"
     ]
    },
    {
     "name": "stdout",
     "output_type": "stream",
     "text": [
      "Model saved with Pearson correlation: 0.8265\n",
      "Epoch [93/150]\n",
      "Training Loss: 0.0050\n",
      "Validation Pearson Correlation: 0.7815\n"
     ]
    },
    {
     "name": "stderr",
     "output_type": "stream",
     "text": [
      "Epoch 94/150: 100%|██████████| 323/323 [00:01<00:00, 205.26it/s]\n"
     ]
    },
    {
     "name": "stdout",
     "output_type": "stream",
     "text": [
      "Model saved with Pearson correlation: 0.8265\n",
      "Epoch [94/150]\n",
      "Training Loss: 0.0051\n",
      "Validation Pearson Correlation: 0.7926\n"
     ]
    },
    {
     "name": "stderr",
     "output_type": "stream",
     "text": [
      "Epoch 95/150: 100%|██████████| 323/323 [00:01<00:00, 198.35it/s]\n"
     ]
    },
    {
     "name": "stdout",
     "output_type": "stream",
     "text": [
      "Model saved with Pearson correlation: 0.8265\n",
      "Epoch [95/150]\n",
      "Training Loss: 0.0050\n",
      "Validation Pearson Correlation: 0.8001\n"
     ]
    },
    {
     "name": "stderr",
     "output_type": "stream",
     "text": [
      "Epoch 96/150: 100%|██████████| 323/323 [00:01<00:00, 192.42it/s]\n"
     ]
    },
    {
     "name": "stdout",
     "output_type": "stream",
     "text": [
      "Model saved with Pearson correlation: 0.8265\n",
      "Epoch [96/150]\n",
      "Training Loss: 0.0050\n",
      "Validation Pearson Correlation: 0.7947\n"
     ]
    },
    {
     "name": "stderr",
     "output_type": "stream",
     "text": [
      "Epoch 97/150: 100%|██████████| 323/323 [00:01<00:00, 195.08it/s]\n"
     ]
    },
    {
     "name": "stdout",
     "output_type": "stream",
     "text": [
      "Model saved with Pearson correlation: 0.8265\n",
      "Epoch [97/150]\n",
      "Training Loss: 0.0049\n",
      "Validation Pearson Correlation: 0.7891\n"
     ]
    },
    {
     "name": "stderr",
     "output_type": "stream",
     "text": [
      "Epoch 98/150: 100%|██████████| 323/323 [00:01<00:00, 205.06it/s]\n"
     ]
    },
    {
     "name": "stdout",
     "output_type": "stream",
     "text": [
      "Model saved with Pearson correlation: 0.8265\n",
      "Epoch [98/150]\n",
      "Training Loss: 0.0044\n",
      "Validation Pearson Correlation: 0.7879\n"
     ]
    },
    {
     "name": "stderr",
     "output_type": "stream",
     "text": [
      "Epoch 99/150: 100%|██████████| 323/323 [00:01<00:00, 187.54it/s]\n"
     ]
    },
    {
     "name": "stdout",
     "output_type": "stream",
     "text": [
      "Model saved with Pearson correlation: 0.8265\n",
      "Epoch [99/150]\n",
      "Training Loss: 0.0045\n",
      "Validation Pearson Correlation: 0.7823\n"
     ]
    },
    {
     "name": "stderr",
     "output_type": "stream",
     "text": [
      "Epoch 100/150: 100%|██████████| 323/323 [00:01<00:00, 191.90it/s]\n"
     ]
    },
    {
     "name": "stdout",
     "output_type": "stream",
     "text": [
      "Model saved with Pearson correlation: 0.8265\n",
      "Epoch [100/150]\n",
      "Training Loss: 0.0046\n",
      "Validation Pearson Correlation: 0.7932\n"
     ]
    },
    {
     "name": "stderr",
     "output_type": "stream",
     "text": [
      "Epoch 101/150: 100%|██████████| 323/323 [00:01<00:00, 214.03it/s]\n"
     ]
    },
    {
     "name": "stdout",
     "output_type": "stream",
     "text": [
      "Model saved with Pearson correlation: 0.8265\n",
      "Epoch [101/150]\n",
      "Training Loss: 0.0045\n",
      "Validation Pearson Correlation: 0.7782\n"
     ]
    },
    {
     "name": "stderr",
     "output_type": "stream",
     "text": [
      "Epoch 102/150: 100%|██████████| 323/323 [00:01<00:00, 223.43it/s]\n"
     ]
    },
    {
     "name": "stdout",
     "output_type": "stream",
     "text": [
      "Model saved with Pearson correlation: 0.8265\n",
      "Epoch [102/150]\n",
      "Training Loss: 0.0042\n",
      "Validation Pearson Correlation: 0.7937\n"
     ]
    },
    {
     "name": "stderr",
     "output_type": "stream",
     "text": [
      "Epoch 103/150: 100%|██████████| 323/323 [00:01<00:00, 221.62it/s]\n"
     ]
    },
    {
     "name": "stdout",
     "output_type": "stream",
     "text": [
      "Model saved with Pearson correlation: 0.8265\n",
      "Epoch [103/150]\n",
      "Training Loss: 0.0041\n",
      "Validation Pearson Correlation: 0.7961\n"
     ]
    },
    {
     "name": "stderr",
     "output_type": "stream",
     "text": [
      "Epoch 104/150: 100%|██████████| 323/323 [00:01<00:00, 227.99it/s]\n"
     ]
    },
    {
     "name": "stdout",
     "output_type": "stream",
     "text": [
      "Model saved with Pearson correlation: 0.8265\n",
      "Epoch [104/150]\n",
      "Training Loss: 0.0040\n",
      "Validation Pearson Correlation: 0.7883\n"
     ]
    },
    {
     "name": "stderr",
     "output_type": "stream",
     "text": [
      "Epoch 105/150: 100%|██████████| 323/323 [00:01<00:00, 214.94it/s]\n"
     ]
    },
    {
     "name": "stdout",
     "output_type": "stream",
     "text": [
      "Model saved with Pearson correlation: 0.8265\n",
      "Epoch [105/150]\n",
      "Training Loss: 0.0038\n",
      "Validation Pearson Correlation: 0.7988\n"
     ]
    },
    {
     "name": "stderr",
     "output_type": "stream",
     "text": [
      "Epoch 106/150: 100%|██████████| 323/323 [00:01<00:00, 215.68it/s]\n"
     ]
    },
    {
     "name": "stdout",
     "output_type": "stream",
     "text": [
      "Model saved with Pearson correlation: 0.8265\n",
      "Epoch [106/150]\n",
      "Training Loss: 0.0036\n",
      "Validation Pearson Correlation: 0.7801\n"
     ]
    },
    {
     "name": "stderr",
     "output_type": "stream",
     "text": [
      "Epoch 107/150: 100%|██████████| 323/323 [00:01<00:00, 204.97it/s]\n"
     ]
    },
    {
     "name": "stdout",
     "output_type": "stream",
     "text": [
      "Model saved with Pearson correlation: 0.8265\n",
      "Epoch [107/150]\n",
      "Training Loss: 0.0036\n",
      "Validation Pearson Correlation: 0.7862\n"
     ]
    },
    {
     "name": "stderr",
     "output_type": "stream",
     "text": [
      "Epoch 108/150: 100%|██████████| 323/323 [00:01<00:00, 202.23it/s]\n"
     ]
    },
    {
     "name": "stdout",
     "output_type": "stream",
     "text": [
      "Model saved with Pearson correlation: 0.8265\n",
      "Epoch [108/150]\n",
      "Training Loss: 0.0036\n",
      "Validation Pearson Correlation: 0.7737\n"
     ]
    },
    {
     "name": "stderr",
     "output_type": "stream",
     "text": [
      "Epoch 109/150: 100%|██████████| 323/323 [00:01<00:00, 206.71it/s]\n"
     ]
    },
    {
     "name": "stdout",
     "output_type": "stream",
     "text": [
      "Model saved with Pearson correlation: 0.8265\n",
      "Epoch [109/150]\n",
      "Training Loss: 0.0038\n",
      "Validation Pearson Correlation: 0.7939\n"
     ]
    },
    {
     "name": "stderr",
     "output_type": "stream",
     "text": [
      "Epoch 110/150: 100%|██████████| 323/323 [00:01<00:00, 204.62it/s]\n"
     ]
    },
    {
     "name": "stdout",
     "output_type": "stream",
     "text": [
      "Model saved with Pearson correlation: 0.8265\n",
      "Epoch [110/150]\n",
      "Training Loss: 0.0034\n",
      "Validation Pearson Correlation: 0.7663\n"
     ]
    },
    {
     "name": "stderr",
     "output_type": "stream",
     "text": [
      "Epoch 111/150: 100%|██████████| 323/323 [00:01<00:00, 212.02it/s]\n"
     ]
    },
    {
     "name": "stdout",
     "output_type": "stream",
     "text": [
      "Model saved with Pearson correlation: 0.8265\n",
      "Epoch [111/150]\n",
      "Training Loss: 0.0030\n",
      "Validation Pearson Correlation: 0.8035\n"
     ]
    },
    {
     "name": "stderr",
     "output_type": "stream",
     "text": [
      "Epoch 112/150: 100%|██████████| 323/323 [00:01<00:00, 200.43it/s]\n"
     ]
    },
    {
     "name": "stdout",
     "output_type": "stream",
     "text": [
      "Model saved with Pearson correlation: 0.8265\n",
      "Epoch [112/150]\n",
      "Training Loss: 0.0030\n",
      "Validation Pearson Correlation: 0.7916\n"
     ]
    },
    {
     "name": "stderr",
     "output_type": "stream",
     "text": [
      "Epoch 113/150: 100%|██████████| 323/323 [00:01<00:00, 202.70it/s]\n"
     ]
    },
    {
     "name": "stdout",
     "output_type": "stream",
     "text": [
      "Model saved with Pearson correlation: 0.8265\n",
      "Epoch [113/150]\n",
      "Training Loss: 0.0030\n",
      "Validation Pearson Correlation: 0.7931\n"
     ]
    },
    {
     "name": "stderr",
     "output_type": "stream",
     "text": [
      "Epoch 114/150: 100%|██████████| 323/323 [00:01<00:00, 205.50it/s]\n"
     ]
    },
    {
     "name": "stdout",
     "output_type": "stream",
     "text": [
      "Model saved with Pearson correlation: 0.8265\n",
      "Epoch [114/150]\n",
      "Training Loss: 0.0028\n",
      "Validation Pearson Correlation: 0.7893\n"
     ]
    },
    {
     "name": "stderr",
     "output_type": "stream",
     "text": [
      "Epoch 115/150: 100%|██████████| 323/323 [00:01<00:00, 205.79it/s]\n"
     ]
    },
    {
     "name": "stdout",
     "output_type": "stream",
     "text": [
      "Model saved with Pearson correlation: 0.8265\n",
      "Epoch [115/150]\n",
      "Training Loss: 0.0028\n",
      "Validation Pearson Correlation: 0.7959\n"
     ]
    },
    {
     "name": "stderr",
     "output_type": "stream",
     "text": [
      "Epoch 116/150: 100%|██████████| 323/323 [00:01<00:00, 204.17it/s]\n"
     ]
    },
    {
     "name": "stdout",
     "output_type": "stream",
     "text": [
      "Model saved with Pearson correlation: 0.8265\n",
      "Epoch [116/150]\n",
      "Training Loss: 0.0026\n",
      "Validation Pearson Correlation: 0.8000\n"
     ]
    },
    {
     "name": "stderr",
     "output_type": "stream",
     "text": [
      "Epoch 117/150: 100%|██████████| 323/323 [00:01<00:00, 206.14it/s]\n"
     ]
    },
    {
     "name": "stdout",
     "output_type": "stream",
     "text": [
      "Model saved with Pearson correlation: 0.8265\n",
      "Epoch [117/150]\n",
      "Training Loss: 0.0025\n",
      "Validation Pearson Correlation: 0.8053\n"
     ]
    },
    {
     "name": "stderr",
     "output_type": "stream",
     "text": [
      "Epoch 118/150: 100%|██████████| 323/323 [00:01<00:00, 201.62it/s]\n"
     ]
    },
    {
     "name": "stdout",
     "output_type": "stream",
     "text": [
      "Model saved with Pearson correlation: 0.8265\n",
      "Epoch [118/150]\n",
      "Training Loss: 0.0026\n",
      "Validation Pearson Correlation: 0.7911\n"
     ]
    },
    {
     "name": "stderr",
     "output_type": "stream",
     "text": [
      "Epoch 119/150: 100%|██████████| 323/323 [00:01<00:00, 201.43it/s]\n"
     ]
    },
    {
     "name": "stdout",
     "output_type": "stream",
     "text": [
      "Model saved with Pearson correlation: 0.8265\n",
      "Epoch [119/150]\n",
      "Training Loss: 0.0023\n",
      "Validation Pearson Correlation: 0.7920\n"
     ]
    },
    {
     "name": "stderr",
     "output_type": "stream",
     "text": [
      "Epoch 120/150: 100%|██████████| 323/323 [00:01<00:00, 204.15it/s]\n"
     ]
    },
    {
     "name": "stdout",
     "output_type": "stream",
     "text": [
      "Model saved with Pearson correlation: 0.8265\n",
      "Epoch [120/150]\n",
      "Training Loss: 0.0022\n",
      "Validation Pearson Correlation: 0.7938\n"
     ]
    },
    {
     "name": "stderr",
     "output_type": "stream",
     "text": [
      "Epoch 121/150: 100%|██████████| 323/323 [00:01<00:00, 202.53it/s]\n"
     ]
    },
    {
     "name": "stdout",
     "output_type": "stream",
     "text": [
      "Model saved with Pearson correlation: 0.8265\n",
      "Epoch [121/150]\n",
      "Training Loss: 0.0021\n",
      "Validation Pearson Correlation: 0.7963\n"
     ]
    },
    {
     "name": "stderr",
     "output_type": "stream",
     "text": [
      "Epoch 122/150: 100%|██████████| 323/323 [00:01<00:00, 225.51it/s]\n"
     ]
    },
    {
     "name": "stdout",
     "output_type": "stream",
     "text": [
      "Model saved with Pearson correlation: 0.8265\n",
      "Epoch [122/150]\n",
      "Training Loss: 0.0020\n",
      "Validation Pearson Correlation: 0.7894\n"
     ]
    },
    {
     "name": "stderr",
     "output_type": "stream",
     "text": [
      "Epoch 123/150: 100%|██████████| 323/323 [00:01<00:00, 227.19it/s]\n"
     ]
    },
    {
     "name": "stdout",
     "output_type": "stream",
     "text": [
      "Model saved with Pearson correlation: 0.8265\n",
      "Epoch [123/150]\n",
      "Training Loss: 0.0019\n",
      "Validation Pearson Correlation: 0.7947\n"
     ]
    },
    {
     "name": "stderr",
     "output_type": "stream",
     "text": [
      "Epoch 124/150: 100%|██████████| 323/323 [00:01<00:00, 223.84it/s]\n"
     ]
    },
    {
     "name": "stdout",
     "output_type": "stream",
     "text": [
      "Model saved with Pearson correlation: 0.8265\n",
      "Epoch [124/150]\n",
      "Training Loss: 0.0019\n",
      "Validation Pearson Correlation: 0.7995\n"
     ]
    },
    {
     "name": "stderr",
     "output_type": "stream",
     "text": [
      "Epoch 125/150: 100%|██████████| 323/323 [00:01<00:00, 229.48it/s]\n"
     ]
    },
    {
     "name": "stdout",
     "output_type": "stream",
     "text": [
      "Model saved with Pearson correlation: 0.8265\n",
      "Epoch [125/150]\n",
      "Training Loss: 0.0018\n",
      "Validation Pearson Correlation: 0.8049\n"
     ]
    },
    {
     "name": "stderr",
     "output_type": "stream",
     "text": [
      "Epoch 126/150: 100%|██████████| 323/323 [00:01<00:00, 228.08it/s]\n"
     ]
    },
    {
     "name": "stdout",
     "output_type": "stream",
     "text": [
      "Model saved with Pearson correlation: 0.8265\n",
      "Epoch [126/150]\n",
      "Training Loss: 0.0018\n",
      "Validation Pearson Correlation: 0.7997\n"
     ]
    },
    {
     "name": "stderr",
     "output_type": "stream",
     "text": [
      "Epoch 127/150: 100%|██████████| 323/323 [00:01<00:00, 227.27it/s]\n"
     ]
    },
    {
     "name": "stdout",
     "output_type": "stream",
     "text": [
      "Model saved with Pearson correlation: 0.8265\n",
      "Epoch [127/150]\n",
      "Training Loss: 0.0016\n",
      "Validation Pearson Correlation: 0.7989\n"
     ]
    },
    {
     "name": "stderr",
     "output_type": "stream",
     "text": [
      "Epoch 128/150: 100%|██████████| 323/323 [00:01<00:00, 226.16it/s]\n"
     ]
    },
    {
     "name": "stdout",
     "output_type": "stream",
     "text": [
      "Model saved with Pearson correlation: 0.8265\n",
      "Epoch [128/150]\n",
      "Training Loss: 0.0016\n",
      "Validation Pearson Correlation: 0.7995\n"
     ]
    },
    {
     "name": "stderr",
     "output_type": "stream",
     "text": [
      "Epoch 129/150: 100%|██████████| 323/323 [00:01<00:00, 204.25it/s]\n"
     ]
    },
    {
     "name": "stdout",
     "output_type": "stream",
     "text": [
      "Model saved with Pearson correlation: 0.8265\n",
      "Epoch [129/150]\n",
      "Training Loss: 0.0015\n",
      "Validation Pearson Correlation: 0.8055\n"
     ]
    },
    {
     "name": "stderr",
     "output_type": "stream",
     "text": [
      "Epoch 130/150: 100%|██████████| 323/323 [00:01<00:00, 208.73it/s]\n"
     ]
    },
    {
     "name": "stdout",
     "output_type": "stream",
     "text": [
      "Model saved with Pearson correlation: 0.8265\n",
      "Epoch [130/150]\n",
      "Training Loss: 0.0015\n",
      "Validation Pearson Correlation: 0.7989\n"
     ]
    },
    {
     "name": "stderr",
     "output_type": "stream",
     "text": [
      "Epoch 131/150: 100%|██████████| 323/323 [00:01<00:00, 171.22it/s]\n"
     ]
    },
    {
     "name": "stdout",
     "output_type": "stream",
     "text": [
      "Model saved with Pearson correlation: 0.8265\n",
      "Epoch [131/150]\n",
      "Training Loss: 0.0015\n",
      "Validation Pearson Correlation: 0.7938\n"
     ]
    },
    {
     "name": "stderr",
     "output_type": "stream",
     "text": [
      "Epoch 132/150: 100%|██████████| 323/323 [00:01<00:00, 177.92it/s]\n"
     ]
    },
    {
     "name": "stdout",
     "output_type": "stream",
     "text": [
      "Model saved with Pearson correlation: 0.8265\n",
      "Epoch [132/150]\n",
      "Training Loss: 0.0014\n",
      "Validation Pearson Correlation: 0.8050\n"
     ]
    },
    {
     "name": "stderr",
     "output_type": "stream",
     "text": [
      "Epoch 133/150: 100%|██████████| 323/323 [00:01<00:00, 199.40it/s]\n"
     ]
    },
    {
     "name": "stdout",
     "output_type": "stream",
     "text": [
      "Model saved with Pearson correlation: 0.8265\n",
      "Epoch [133/150]\n",
      "Training Loss: 0.0013\n",
      "Validation Pearson Correlation: 0.8045\n"
     ]
    },
    {
     "name": "stderr",
     "output_type": "stream",
     "text": [
      "Epoch 134/150: 100%|██████████| 323/323 [00:01<00:00, 210.55it/s]\n"
     ]
    },
    {
     "name": "stdout",
     "output_type": "stream",
     "text": [
      "Model saved with Pearson correlation: 0.8265\n",
      "Epoch [134/150]\n",
      "Training Loss: 0.0013\n",
      "Validation Pearson Correlation: 0.8016\n"
     ]
    },
    {
     "name": "stderr",
     "output_type": "stream",
     "text": [
      "Epoch 135/150: 100%|██████████| 323/323 [00:01<00:00, 198.75it/s]\n"
     ]
    },
    {
     "name": "stdout",
     "output_type": "stream",
     "text": [
      "Model saved with Pearson correlation: 0.8265\n",
      "Epoch [135/150]\n",
      "Training Loss: 0.0012\n",
      "Validation Pearson Correlation: 0.8033\n"
     ]
    },
    {
     "name": "stderr",
     "output_type": "stream",
     "text": [
      "Epoch 136/150: 100%|██████████| 323/323 [00:01<00:00, 218.14it/s]\n"
     ]
    },
    {
     "name": "stdout",
     "output_type": "stream",
     "text": [
      "Model saved with Pearson correlation: 0.8265\n",
      "Epoch [136/150]\n",
      "Training Loss: 0.0012\n",
      "Validation Pearson Correlation: 0.8012\n"
     ]
    },
    {
     "name": "stderr",
     "output_type": "stream",
     "text": [
      "Epoch 137/150: 100%|██████████| 323/323 [00:01<00:00, 216.11it/s]\n"
     ]
    },
    {
     "name": "stdout",
     "output_type": "stream",
     "text": [
      "Model saved with Pearson correlation: 0.8265\n",
      "Epoch [137/150]\n",
      "Training Loss: 0.0011\n",
      "Validation Pearson Correlation: 0.8060\n"
     ]
    },
    {
     "name": "stderr",
     "output_type": "stream",
     "text": [
      "Epoch 138/150: 100%|██████████| 323/323 [00:01<00:00, 219.42it/s]\n"
     ]
    },
    {
     "name": "stdout",
     "output_type": "stream",
     "text": [
      "Model saved with Pearson correlation: 0.8265\n",
      "Epoch [138/150]\n",
      "Training Loss: 0.0011\n",
      "Validation Pearson Correlation: 0.8076\n"
     ]
    },
    {
     "name": "stderr",
     "output_type": "stream",
     "text": [
      "Epoch 139/150: 100%|██████████| 323/323 [00:01<00:00, 217.22it/s]\n"
     ]
    },
    {
     "name": "stdout",
     "output_type": "stream",
     "text": [
      "Model saved with Pearson correlation: 0.8265\n",
      "Epoch [139/150]\n",
      "Training Loss: 0.0010\n",
      "Validation Pearson Correlation: 0.8087\n"
     ]
    },
    {
     "name": "stderr",
     "output_type": "stream",
     "text": [
      "Epoch 140/150: 100%|██████████| 323/323 [00:01<00:00, 222.86it/s]\n"
     ]
    },
    {
     "name": "stdout",
     "output_type": "stream",
     "text": [
      "Model saved with Pearson correlation: 0.8265\n",
      "Epoch [140/150]\n",
      "Training Loss: 0.0010\n",
      "Validation Pearson Correlation: 0.8152\n"
     ]
    },
    {
     "name": "stderr",
     "output_type": "stream",
     "text": [
      "Epoch 141/150: 100%|██████████| 323/323 [00:01<00:00, 227.94it/s]\n"
     ]
    },
    {
     "name": "stdout",
     "output_type": "stream",
     "text": [
      "Model saved with Pearson correlation: 0.8265\n",
      "Epoch [141/150]\n",
      "Training Loss: 0.0009\n",
      "Validation Pearson Correlation: 0.8132\n"
     ]
    },
    {
     "name": "stderr",
     "output_type": "stream",
     "text": [
      "Epoch 142/150: 100%|██████████| 323/323 [00:01<00:00, 226.82it/s]\n"
     ]
    },
    {
     "name": "stdout",
     "output_type": "stream",
     "text": [
      "Model saved with Pearson correlation: 0.8265\n",
      "Epoch [142/150]\n",
      "Training Loss: 0.0009\n",
      "Validation Pearson Correlation: 0.8147\n"
     ]
    },
    {
     "name": "stderr",
     "output_type": "stream",
     "text": [
      "Epoch 143/150: 100%|██████████| 323/323 [00:01<00:00, 211.59it/s]\n"
     ]
    },
    {
     "name": "stdout",
     "output_type": "stream",
     "text": [
      "Model saved with Pearson correlation: 0.8265\n",
      "Epoch [143/150]\n",
      "Training Loss: 0.0008\n",
      "Validation Pearson Correlation: 0.8159\n"
     ]
    },
    {
     "name": "stderr",
     "output_type": "stream",
     "text": [
      "Epoch 144/150: 100%|██████████| 323/323 [00:01<00:00, 202.20it/s]\n"
     ]
    },
    {
     "name": "stdout",
     "output_type": "stream",
     "text": [
      "Model saved with Pearson correlation: 0.8265\n",
      "Epoch [144/150]\n",
      "Training Loss: 0.0008\n",
      "Validation Pearson Correlation: 0.8166\n"
     ]
    },
    {
     "name": "stderr",
     "output_type": "stream",
     "text": [
      "Epoch 145/150: 100%|██████████| 323/323 [00:01<00:00, 211.07it/s]\n"
     ]
    },
    {
     "name": "stdout",
     "output_type": "stream",
     "text": [
      "Model saved with Pearson correlation: 0.8265\n",
      "Epoch [145/150]\n",
      "Training Loss: 0.0008\n",
      "Validation Pearson Correlation: 0.8159\n"
     ]
    },
    {
     "name": "stderr",
     "output_type": "stream",
     "text": [
      "Epoch 146/150: 100%|██████████| 323/323 [00:01<00:00, 210.71it/s]\n"
     ]
    },
    {
     "name": "stdout",
     "output_type": "stream",
     "text": [
      "Model saved with Pearson correlation: 0.8265\n",
      "Epoch [146/150]\n",
      "Training Loss: 0.0008\n",
      "Validation Pearson Correlation: 0.8172\n"
     ]
    },
    {
     "name": "stderr",
     "output_type": "stream",
     "text": [
      "Epoch 147/150: 100%|██████████| 323/323 [00:01<00:00, 211.72it/s]\n"
     ]
    },
    {
     "name": "stdout",
     "output_type": "stream",
     "text": [
      "Model saved with Pearson correlation: 0.8265\n",
      "Epoch [147/150]\n",
      "Training Loss: 0.0008\n",
      "Validation Pearson Correlation: 0.8175\n"
     ]
    },
    {
     "name": "stderr",
     "output_type": "stream",
     "text": [
      "Epoch 148/150: 100%|██████████| 323/323 [00:01<00:00, 208.93it/s]\n"
     ]
    },
    {
     "name": "stdout",
     "output_type": "stream",
     "text": [
      "Model saved with Pearson correlation: 0.8265\n",
      "Epoch [148/150]\n",
      "Training Loss: 0.0008\n",
      "Validation Pearson Correlation: 0.8178\n"
     ]
    },
    {
     "name": "stderr",
     "output_type": "stream",
     "text": [
      "Epoch 149/150: 100%|██████████| 323/323 [00:01<00:00, 220.29it/s]\n"
     ]
    },
    {
     "name": "stdout",
     "output_type": "stream",
     "text": [
      "Model saved with Pearson correlation: 0.8265\n",
      "Epoch [149/150]\n",
      "Training Loss: 0.0008\n",
      "Validation Pearson Correlation: 0.8176\n"
     ]
    },
    {
     "name": "stderr",
     "output_type": "stream",
     "text": [
      "Epoch 150/150: 100%|██████████| 323/323 [00:01<00:00, 220.44it/s]\n"
     ]
    },
    {
     "name": "stdout",
     "output_type": "stream",
     "text": [
      "Model saved with Pearson correlation: 0.8265\n",
      "Epoch [150/150]\n",
      "Training Loss: 0.0008\n",
      "Validation Pearson Correlation: 0.8173\n"
     ]
    },
    {
     "data": {
      "text/plain": [
       "<Figure size 640x480 with 0 Axes>"
      ]
     },
     "metadata": {},
     "output_type": "display_data"
    },
    {
     "data": {
      "image/png": "[encoded data removed]",
      "text/plain": [
       "<Figure size 640x480 with 2 Axes>"
      ]
     },
     "metadata": {},
     "output_type": "display_data"
    }
   ],
   "source": [
    "import time\n",
    "from torchsummary import summary\n",
    "import os\n",
    "import random\n",
    "timestamp = time.strftime('%Y%m%d_%H%M%S')\n",
    "save_dir = f'D:/01IscBML/logfile/{timestamp}/'\n",
    "os.mkdir(save_dir)\n",
    "torch.manual_seed(42)\n",
    "sequence_length = FeatureProcessor(file_path='D:/01IscBML/',file_name='A_to_G_S18_Train_del1700_90%.xlsx').sequence_length\n",
    "# Initialize the model, loss function, and optimizer\n",
    "model = LocalCNN(sequence_length=sequence_length)\n",
    "\n",
    "\n",
    "# criterion = BCEFocalLoss()\n",
    "criterion = nn.MSELoss()\n",
    "optimizer = optim.Adam(model.parameters(), lr=0.001, weight_decay=0.0001)\n",
    "scheduler = optim.lr_scheduler.CosineAnnealingWarmRestarts(optimizer, T_0=10, T_mult=2, eta_min=0.00001)\n",
    "\n",
    "device = torch.device('cuda' if torch.cuda.is_available() else 'cpu')\n",
    "\n",
    "# Training and validation setup\n",
    "num_epochs = 150  # Adjust as needed\n",
    "\n",
    "# Function to calculate Pearson correlation coefficient\n",
    "def pearson_correlation(predicted, actual):\n",
    "    pred_mean = predicted.mean()\n",
    "    actual_mean = actual.mean()\n",
    "    covariance = ((predicted - pred_mean) * (actual - actual_mean)).sum()\n",
    "    pred_std = ((predicted - pred_mean) ** 2).sum().sqrt()\n",
    "    actual_std = ((actual - actual_mean) ** 2).sum().sqrt()\n",
    "    return (covariance / (pred_std * actual_std)).item()\n",
    "\n",
    "plot_loss = []\n",
    "plot_pearson = []\n",
    "max_r = 0.0\n",
    "for epoch in range(num_epochs):\n",
    "    # if epoch == 0:  # Save the architecture only in the first epoch\n",
    "    #     # for MLP\n",
    "    #     input_size = sequence_length * channel\n",
    "    #     model_architecture = summary(model,input_size=(sequence_length,channel))\n",
    "    model.train()  # Set model to training mode\n",
    "    running_loss = 0.0\n",
    "\n",
    "    train_pearson = 0.0  # To accumulate Pearson correlation coefficient for training\n",
    "    \n",
    "    # Training loop\n",
    "    for batch_features,batch_tam_features, batch_labels in tqdm(train_dataloader, desc=f\"Epoch {epoch+1}/{num_epochs}\"):\n",
    "        # Move data to appropriate device (e.g., GPU if available)\n",
    "        batch_features, batch_tam_features, batch_labels = batch_features.to(device), batch_tam_features.to(device), batch_labels.to(device)\n",
    "        \n",
    "        # Zero the gradients\n",
    "        optimizer.zero_grad()\n",
    "        model.to(device)\n",
    "        # Forward pass\n",
    "        outputs = model(batch_features, batch_tam_features)\n",
    "        loss = criterion(outputs, batch_labels)\n",
    "        \n",
    "        # Backward pass\n",
    "        loss.backward(retain_graph=True)\n",
    "        optimizer.step()\n",
    "        \n",
    "        running_loss += loss.item()\n",
    "        \n",
    "        # Calculate Pearson correlation for the batch\n",
    "        predicted = outputs.squeeze(1)  # Remove singleton dimension\n",
    "        actual = batch_labels.squeeze(1)\n",
    "        train_pearson += pearson_correlation(predicted, actual)\n",
    "\n",
    "    # Compute average training loss and Pearson correlation for the epoch\n",
    "    epoch_loss = running_loss / len(train_dataloader)\n",
    "    plot_loss.append(epoch_loss)\n",
    "    epoch_train_pearson = train_pearson / len(train_dataloader)\n",
    "\n",
    "    # Validation phase\n",
    "    model.eval()  # Set model to evaluation mode\n",
    "    val_pearson = 0.0\n",
    "    with torch.no_grad():\n",
    "        for val_features, val_tam_features, val_labels in val_dataloader:  # Use a separate validation DataLoader\n",
    "            val_features, val_tam_features,  val_labels = val_features.to(device),val_tam_features.to(device), val_labels.to(device)\n",
    "            \n",
    "            val_outputs = model(val_features,val_tam_features)\n",
    "            predicted = val_outputs.squeeze(1)\n",
    "            # print(predicted)\n",
    "            actual = val_labels.squeeze(1)\n",
    "            # print(actual)\n",
    "\n",
    "            # Calculate Pearson correlation for the validation set\n",
    "            val_pearson += pearson_correlation(predicted, actual)\n",
    "    \n",
    "    # Compute average validation Pearson correlation for the epoch\n",
    "    epoch_val_pearson = val_pearson / len(val_dataloader)\n",
    "    plot_pearson.append(epoch_val_pearson)\n",
    "\n",
    "    ##save the model and architecture\n",
    "    if epoch_val_pearson > max_r:\n",
    "        max_r = epoch_val_pearson\n",
    "        model_name = model.__class__.__name__\n",
    "        save_model_path = f'{save_dir}{model_name}.pth'\n",
    "        # model_architecture = summary(model, input_size=(sequence_length,channel))\n",
    "        torch.save({\n",
    "                    'epoch': epoch,\n",
    "                    'model_state_dict': model.state_dict(),\n",
    "                    # 'optimizer_state_dict': optimizer.state_dict(),\n",
    "                    'loss': loss,\n",
    "                    # 'architecture': model_architecture,\n",
    "                    # 'lr': optimizer.param_groups[0]['lr'],\n",
    "                    }, save_model_path)\n",
    "    scheduler.step()\n",
    "    # lr = scheduler.get_last_lr()[0]\n",
    "    print(f\"Model saved with Pearson correlation: {max_r:.4f}\")\n",
    "\n",
    "    # Print training and validation metrics\n",
    "    print(f\"Epoch [{epoch + 1}/{num_epochs}]\")\n",
    "    print(f\"Training Loss: {epoch_loss:.4f}\")\n",
    "    print(f\"Validation Pearson Correlation: {epoch_val_pearson:.4f}\")\n",
    "    # print(f\"lr:{lr:.4f}\")\n",
    "\n",
    "plt.figure()\n",
    "# plt.switch_backend('agg')\n",
    "fig, ax1 = plt.subplots()\n",
    "\n",
    "# model.predict()\n",
    "\n",
    "ax1.set_xlabel('Epochs')\n",
    "ax1.set_ylabel('Training Loss', color='r')\n",
    "ax1.plot(range(num_epochs), plot_loss, 'r', label='Training loss')\n",
    "ax1.tick_params(axis='y', labelcolor='r')\n",
    "\n",
    "ax2 = ax1.twinx()\n",
    "ax2.set_ylabel('Validation Pearson Correlation', color='b')\n",
    "ax2.plot(range(num_epochs), plot_pearson, 'b', label='Validation Pearson Correlation')\n",
    "ax2.tick_params(axis='y', labelcolor='b')\n",
    "\n",
    "ax1.legend(loc='upper left')\n",
    "ax2.legend(loc='upper right')\n",
    "# plt.ylabel('Loss')\n",
    "plt.xlabel('Epochs')\n",
    "plt.ylim(0, 1)\n",
    "plt.legend()\n",
    "# plt.show()\n",
    "file_path = os.path.join(save_dir, 'loss_plot_MLP.png')\n",
    "plt.savefig(file_path)\n"
   ]
  },
  {
   "cell_type": "markdown",
   "metadata": {},
   "source": []
  },
  {
   "cell_type": "code",
   "execution_count": 24,
   "metadata": {},
   "outputs": [
    {
     "name": "stderr",
     "output_type": "stream",
     "text": [
      "C:\\Users\\SHO\\AppData\\Local\\Temp\\ipykernel_21212\\3952504352.py:5: FutureWarning: You are using `torch.load` with `weights_only=False` (the current default value), which uses the default pickle module implicitly. It is possible to construct malicious pickle data which will execute arbitrary code during unpickling (See https://github.com/pytorch/pytorch/blob/main/SECURITY.md#untrusted-models for more details). In a future release, the default value for `weights_only` will be flipped to `True`. This limits the functions that could be executed during unpickling. Arbitrary objects will no longer be allowed to be loaded via this mode unless they are explicitly allowlisted by the user via `torch.serialization.add_safe_globals`. We recommend you start setting `weights_only=True` for any use case where you don't have full control of the loaded file. Please open an issue on GitHub for any issues related to this experimental feature.\n",
      "  model.load_state_dict(torch.load(save_model_path)['model_state_dict'])\n"
     ]
    },
    {
     "name": "stdout",
     "output_type": "stream",
     "text": [
      "torch.Size([2864, 56, 6]) torch.Size([2864, 4, 6])\n",
      "Average test Pearson Correlation: 0.8113413453102112\n",
      "test results saved to 'test_results.csv'.\n"
     ]
    }
   ],
   "source": [
    "###---------test the model----------------\n",
    "import torch\n",
    "import pandas as pd\n",
    "\n",
    "model.load_state_dict(torch.load(save_model_path)['model_state_dict'])\n",
    "model.eval()\n",
    "# Initialize variables for tracking\n",
    "test_results = []  # To store results for each test sample\n",
    "test_pearson = 0.0\n",
    "\n",
    "with torch.no_grad():  # Disable gradient computation for evaluation\n",
    "    for test_features, test_Tam_features, test_labels in test_dataloader:  # Use the test DataLoader\n",
    "        # Move data to the appropriate device (e.g., CPU)\n",
    "        test_features, test_labels, test_Tam_features = test_features.to(device), test_labels.to(device), test_Tam_features.to(device)\n",
    "        print(test_features.shape, test_Tam_features.shape)\n",
    "        # Perform predictions\n",
    "        test_outputs = model(test_features, test_Tam_features)\n",
    "        predicted = test_outputs.squeeze(1)  # Detach to numpy for processing\n",
    "        actual = test_labels.squeeze(1)\n",
    "\n",
    "        # Store each prediction with its actual label\n",
    "        for pred, act in zip(predicted, actual):\n",
    "            test_results.append({'Predicted': pred.item(), 'Actual': act.item()})\n",
    "        \n",
    "        # Calculate Pearson correlation for this batch\n",
    "        test_pearson += pearson_correlation(predicted, actual)\n",
    "\n",
    "# Compute average test Pearson correlation\n",
    "avg_test_pearson = test_pearson / len(test_dataloader)\n",
    "print(f\"Average test Pearson Correlation: {avg_test_pearson}\")\n",
    "\n",
    "# Save test results to a DataFrame and export to a CSV file\n",
    "results_df = pd.DataFrame(test_results)\n",
    "test_result_path = f'{save_dir}{timestamp}.csv'\n",
    "test_result_path2 = f'{save_dir}{timestamp}_2.csv'\n",
    "results_df.to_csv(f'{save_dir}{timestamp}.csv', index=False)\n",
    "print(\"test results saved to 'test_results.csv'.\")\n",
    "\n"
   ]
  },
  {
   "cell_type": "code",
   "execution_count": 12,
   "metadata": {},
   "outputs": [
    {
     "name": "stderr",
     "output_type": "stream",
     "text": [
      "C:\\Users\\SHO\\AppData\\Local\\Temp\\ipykernel_33716\\2864004338.py:15: FutureWarning: You are using `torch.load` with `weights_only=False` (the current default value), which uses the default pickle module implicitly. It is possible to construct malicious pickle data which will execute arbitrary code during unpickling (See https://github.com/pytorch/pytorch/blob/main/SECURITY.md#untrusted-models for more details). In a future release, the default value for `weights_only` will be flipped to `True`. This limits the functions that could be executed during unpickling. Arbitrary objects will no longer be allowed to be loaded via this mode unless they are explicitly allowlisted by the user via `torch.serialization.add_safe_globals`. We recommend you start setting `weights_only=True` for any use case where you don't have full control of the loaded file. Please open an issue on GitHub for any issues related to this experimental feature.\n",
      "  model.load_state_dict(torch.load(save_model_path)['model_state_dict'])\n"
     ]
    },
    {
     "name": "stdout",
     "output_type": "stream",
     "text": [
      "预测结果已写入原始文件。\n"
     ]
    }
   ],
   "source": [
    "## double check to see if the model test the real test dataset\n",
    "\n",
    "###---------pred the model----------------\n",
    "import torch\n",
    "from torch.utils.data import TensorDataset, DataLoader\n",
    "import pandas as pd\n",
    "sequence_length = FeatureProcessor(file_path='D:/01IscBML/',file_name='A_to_G_S18_Train_del1700_90%.xlsx').sequence_length\n",
    "# Initialize the model, loss function, and optimizer\n",
    "model = LocalCNN(sequence_length=sequence_length)\n",
    "\n",
    "\n",
    "# 加载模型\n",
    "device = torch.device('cuda' if torch.cuda.is_available() else 'cpu')\n",
    "save_model_path = 'D:/01IscBML/logfile/20250316_1930_save_for_predict/LocalCNN.pth'\n",
    "model.load_state_dict(torch.load(save_model_path)['model_state_dict'])\n",
    "model = model.to(device)\n",
    "model.eval()\n",
    "\n",
    "# 加载数据和提取特征\n",
    "predict_combined_features = FeatureProcessor(file_path='D:/01IscBML/', file_name='test_del_keep1700.xlsx').combined_features\n",
    "predict_Tam_features = predict_combined_features[:, 36:40, :].long()\n",
    "\n",
    "# 创建数据集和数据加载器\n",
    "pred_dataset = TensorDataset(predict_combined_features, predict_Tam_features)\n",
    "pred_dataloader = DataLoader(pred_dataset, batch_size=1, shuffle=False, drop_last=False)\n",
    "\n",
    "# 初始化一个列表来存储预测结果\n",
    "pred_results = []\n",
    "\n",
    "# 进行预测\n",
    "with torch.no_grad():\n",
    "    for pred_features, pred_Tam_features in pred_dataloader:\n",
    "        pred_features, pred_Tam_features = pred_features.to(device), pred_Tam_features.to(device)\n",
    "        pred_outputs = model(pred_features, pred_Tam_features)\n",
    "        predicted = pred_outputs.squeeze(1).item()\n",
    "        pred_results.append(predicted)\n",
    "\n",
    "# 读取原始数据\n",
    "file_path = 'D:/01IscBML/test_del_keep1700.xlsx'\n",
    "df = pd.read_excel(file_path)\n",
    "\n",
    "# 将预测结果写入原始数据的相应列中\n",
    "df['a_to_g(%)predict'] = pred_results\n",
    "\n",
    "# 保存修改后的数据到原始文件\n",
    "df.to_excel(file_path, index=False)\n",
    "print(\"预测结果已写入原始文件。\")"
   ]
  },
  {
   "cell_type": "code",
   "execution_count": 30,
   "metadata": {},
   "outputs": [
    {
     "name": "stderr",
     "output_type": "stream",
     "text": [
      "C:\\Users\\SHO\\AppData\\Local\\Temp\\ipykernel_21212\\2491088466.py:8: FutureWarning: You are using `torch.load` with `weights_only=False` (the current default value), which uses the default pickle module implicitly. It is possible to construct malicious pickle data which will execute arbitrary code during unpickling (See https://github.com/pytorch/pytorch/blob/main/SECURITY.md#untrusted-models for more details). In a future release, the default value for `weights_only` will be flipped to `True`. This limits the functions that could be executed during unpickling. Arbitrary objects will no longer be allowed to be loaded via this mode unless they are explicitly allowlisted by the user via `torch.serialization.add_safe_globals`. We recommend you start setting `weights_only=True` for any use case where you don't have full control of the loaded file. Please open an issue on GitHub for any issues related to this experimental feature.\n",
      "  model.load_state_dict(torch.load(save_model_path)['model_state_dict'])\n"
     ]
    },
    {
     "name": "stdout",
     "output_type": "stream",
     "text": [
      "预测结果已写入原始文件。\n"
     ]
    }
   ],
   "source": [
    "###---------pred the model----------------\n",
    "import torch\n",
    "from torch.utils.data import TensorDataset, DataLoader\n",
    "import pandas as pd\n",
    "\n",
    "# 加载模型\n",
    "device = torch.device('cuda' if torch.cuda.is_available() else 'cpu')\n",
    "model.load_state_dict(torch.load(save_model_path)['model_state_dict'])\n",
    "model = model.to(device)\n",
    "model.eval()\n",
    "\n",
    "# 加载数据和提取特征\n",
    "predict_combined_features = FeatureProcessor(file_path='D:/01IscBML/Prediction/', file_name='TTR_shuffled.xlsx').combined_features\n",
    "predict_Tam_features = predict_combined_features[:, 36:40, :].long()\n",
    "\n",
    "# 创建数据集和数据加载器\n",
    "pred_dataset = TensorDataset(predict_combined_features, predict_Tam_features)\n",
    "pred_dataloader = DataLoader(pred_dataset, batch_size=1, shuffle=False, drop_last=False)\n",
    "\n",
    "# 初始化一个列表来存储预测结果\n",
    "pred_results = []\n",
    "\n",
    "# 进行预测\n",
    "with torch.no_grad():\n",
    "    for pred_features, pred_Tam_features in pred_dataloader:\n",
    "        pred_features, pred_Tam_features = pred_features.to(device), pred_Tam_features.to(device)\n",
    "        pred_outputs = model(pred_features, pred_Tam_features)\n",
    "        predicted = pred_outputs.squeeze(1).item()\n",
    "        pred_results.append(predicted)\n",
    "\n",
    "# 读取原始数据\n",
    "file_path = 'D:/01IscBML/Prediction/TTR_shuffled.xlsx'\n",
    "df = pd.read_excel(file_path)\n",
    "\n",
    "# 将预测结果写入原始数据的相应列中\n",
    "df['a_to_g(%)'] = pred_results\n",
    "\n",
    "# 保存修改后的数据到原始文件\n",
    "df.to_excel(file_path, index=False)\n",
    "print(\"预测结果已写入原始文件。\")"
   ]
  },
  {
   "cell_type": "code",
   "execution_count": 16,
   "metadata": {},
   "outputs": [],
   "source": [
    "# class Pred_featureProcessor:\n",
    "#     def __init__(self, file_path='D:/01IscBML/', file_name='IscB_gRNA spacer sequence.xlsx'):\n",
    "#         self.category_map = {'A': 0, 'T': 1, 'C': 2, 'G': 3}\n",
    "#         self.data_path = file_path + file_name\n",
    "#         self.df, self.index_tensor = self.load_data(self.data_path)  # load the df and index tensor\n",
    "\n",
    "#     def __len__(self):\n",
    "#         return len(self.df)\n",
    "\n",
    "#     def load_data(self, data_path):\n",
    "#         df = pd.read_excel(data_path)\n",
    "#         index_tensor = (df['A_position_counted_from_5_end_of_gRNA'] + 20).astype(int) - 1  # Warning: 0-indexed\n",
    "#         return df, index_tensor\n",
    "\n",
    "#     def sequence_to_one_hot(self, sequence, categories=\"ATCG\"):\n",
    "#         category_map = {char: idx for idx, char in enumerate(categories)}\n",
    "#         one_hot = []\n",
    "#         for char in sequence:\n",
    "#             one_hot_char = [0] * len(categories)\n",
    "#             if char in category_map:\n",
    "#                 one_hot_char[category_map[char]] = 1\n",
    "#             one_hot.append(one_hot_char)\n",
    "#         return one_hot\n",
    "\n",
    "#     def process_row(self, row):\n",
    "#         sequence = row['Target_site_sequence']\n",
    "#         sequence_length = len(sequence)\n",
    "#         one_hot_features = self.sequence_to_one_hot(sequence)\n",
    "\n",
    "#         features_tensor = torch.tensor(one_hot_features, dtype=torch.float32)\n",
    "#         print(features_tensor.shape)\n",
    "\n",
    "#         # Create index one-hot feature\n",
    "#         index = int(row['A_position_counted_from_5_end_of_gRNA'] + 20 - 1)  # Adjust to 0-indexed\n",
    "#         index_one_hot = [0] * sequence_length\n",
    "#         if 0 <= index < sequence_length:\n",
    "#             index_one_hot[index] = 1\n",
    "\n",
    "#         # Create TAM one-hot feature\n",
    "#         TAM_one_hot = [0] * sequence_length\n",
    "#         valid_extra_idxs = [i for i in range(36, 40) if 0 <= i < sequence_length]\n",
    "#         for extra_idx in valid_extra_idxs:\n",
    "#             TAM_one_hot[extra_idx] = 2 if extra_idx in range(36, 38) else 3\n",
    "\n",
    "#         # Combine features\n",
    "#         index_one_hot_tensor = torch.tensor(index_one_hot, dtype=torch.float32).unsqueeze(1)\n",
    "#         print(index_one_hot_tensor.shape)\n",
    "#         TAM_one_hot_tensor = torch.tensor(TAM_one_hot, dtype=torch.float32).unsqueeze(1)\n",
    "#         print(TAM_one_hot_tensor.shape)\n",
    "        \n",
    "#         combined_features = torch.cat((features_tensor, index_one_hot_tensor, TAM_one_hot_tensor), dim=1)\n",
    "#         print(combined_features.shape)\n",
    "\n",
    "#         return combined_features, TAM_one_hot_tensor, sequence_length"
   ]
  },
  {
   "cell_type": "code",
   "execution_count": 17,
   "metadata": {},
   "outputs": [],
   "source": [
    "# ###---------Predict module----------------\n",
    "# import torch\n",
    "# import pandas as pd\n",
    "\n",
    "# # Load the saved model\n",
    "# model.load_state_dict(torch.load(save_model_path)['model_state_dict'])\n",
    "# model.eval()\n",
    "\n",
    "# # Load the Excel file row by row\n",
    "# file_path = 'D:/01IscBML/'\n",
    "# file_name = 'IscB_gRNA spacer sequence.xlsx'\n",
    "# sheet_name = 'IscB gRNA'\n",
    "# predict_data = pd.read_excel(file_path+file_name, sheet_name=sheet_name)\n",
    "\n",
    "# # Initialize variables for storing results\n",
    "# predict_results = []\n",
    "\n",
    "# # Iterate through each row in the DataFrame\n",
    "# with torch.no_grad():\n",
    "#     feature_processor = Pred_featureProcessor(file_path=file_path, file_name=file_name)\n",
    "#     for index, row in predict_data.iterrows():\n",
    "#         # Extract features for the current row\n",
    "#         predict_combined_features,TAM_one_hot_tensor,sequence_length = feature_processor.process_row(row)\n",
    "#         predict_Tam_features = predict_combined_features[36:40,:].long()\n",
    "\n",
    "#         # Perform prediction\n",
    "#         predict_combined_features = predict_combined_features.to(device)\n",
    "#         TAM_one_hot_tensor = TAM_one_hot_tensor.to(device)\n",
    "#         predict_output = model(predict_combined_features, TAM_one_hot_tensor)\n",
    "#         predicted_value = predict_output.squeeze(1).item()\n",
    "\n",
    "#         # Append prediction to the results\n",
    "#         predict_results.append(predicted_value)\n",
    "\n",
    "# # Update the original DataFrame with predictions\n",
    "# predict_data['a-to-g%'] = predict_results\n",
    "\n",
    "# # Save the updated DataFrame with predictions\n",
    "# output_path = f'{save_dir}{timestamp}_predictions.xlsx'\n",
    "# predict_data.to_excel(output_path, index=False)\n",
    "\n",
    "# print(f\"Predictions saved to '{output_path}'.\")\n"
   ]
  },
  {
   "cell_type": "code",
   "execution_count": 18,
   "metadata": {},
   "outputs": [
    {
     "name": "stdout",
     "output_type": "stream",
     "text": [
      "0.6843791546467142 0.672136239539635\n"
     ]
    }
   ],
   "source": [
    "from scipy.stats import pearsonr\n",
    "from scipy.stats import spearmanr\n",
    "#output higher efficiency's test correlation\n",
    "\n",
    "#open the test result file\n",
    "test_result_2 = pd.read_csv(test_result_path)\n",
    "#filter all the actural value > 0.2\n",
    "test_result_2 = test_result_2[test_result_2['Actual'] > 0.2]\n",
    "test_result_2.to_csv(test_result_path2)\n",
    "\n",
    "test_values = test_result_2['Predicted']\n",
    "actual_values = test_result_2['Actual']\n",
    "\n",
    "# Calculate Pearson correlation\n",
    "pearson_corr_2 = pearsonr(test_values, actual_values)\n",
    "spearmanr_2 = spearmanr(test_values, actual_values)[0]\n",
    "pearson_correlation_2 = pearson_corr_2[0]\n",
    "print(pearson_correlation_2, spearmanr_2)\n"
   ]
  },
  {
   "cell_type": "code",
   "execution_count": null,
   "metadata": {},
   "outputs": [],
   "source": []
  },
  {
   "cell_type": "code",
   "execution_count": 19,
   "metadata": {},
   "outputs": [
    {
     "data": {
      "image/png": "[encoded data removed]",
      "text/plain": [
       "<Figure size 2100x600 with 5 Axes>"
      ]
     },
     "metadata": {},
     "output_type": "display_data"
    }
   ],
   "source": [
    "import os\n",
    "import matplotlib.pyplot as plt\n",
    "from scipy.stats import gaussian_kde\n",
    "import matplotlib.gridspec as gridspec\n",
    "import io\n",
    "import contextlib\n",
    "\n",
    "# Load first dataset\n",
    "test_results_1 = pd.read_csv(test_result_path)\n",
    "actual_1 = test_results_1['Actual'].values\n",
    "predicted_1 = test_results_1['Predicted'].values\n",
    "\n",
    "# Calculate density for first dataset\n",
    "xy_1 = np.vstack([actual_1, predicted_1])\n",
    "density_1 = gaussian_kde(xy_1)(xy_1)\n",
    "sorted_indices_1 = density_1.argsort()\n",
    "actual_sorted_1 = actual_1[sorted_indices_1]\n",
    "predicted_sorted_1 = predicted_1[sorted_indices_1]\n",
    "density_sorted_1 = density_1[sorted_indices_1]\n",
    "\n",
    "# Load second dataset\n",
    "test_results_2 = pd.read_csv(test_result_path2)\n",
    "actual_2 = test_results_2['Actual'].values\n",
    "predicted_2 = test_results_2['Predicted'].values\n",
    "\n",
    "# Calculate density for second dataset\n",
    "xy_2 = np.vstack([actual_2, predicted_2])\n",
    "density_2 = gaussian_kde(xy_2)(xy_2)\n",
    "sorted_indices_2 = density_2.argsort()\n",
    "actual_sorted_2 = actual_2[sorted_indices_2]\n",
    "predicted_sorted_2 = predicted_2[sorted_indices_2]\n",
    "density_sorted_2 = density_2[sorted_indices_2]\n",
    "\n",
    "# Create the plot\n",
    "plt.figure(figsize=(21, 6))\n",
    "gs = gridspec.GridSpec(1, 3, width_ratios=[1.5, 1.5,1])\n",
    "\n",
    "# Plot first dataset\n",
    "scatter_1 = plt.subplot(gs[0, 0])\n",
    "scatter_1 = plt.scatter(\n",
    "    actual_sorted_1,\n",
    "    predicted_sorted_1,\n",
    "    c=density_sorted_1,\n",
    "    cmap='viridis',\n",
    "    s=5,\n",
    "    label='Data Points'\n",
    ")\n",
    "plt.colorbar(scatter_1, label='Density')\n",
    "plt.plot(\n",
    "    np.unique(actual_1),\n",
    "    np.poly1d(np.polyfit(actual_1, predicted_1, 1))(np.unique(actual_1)),\n",
    "    color='red',\n",
    "    linestyle='--',\n",
    "    label='Regression Line'\n",
    ")\n",
    "plt.title('Dataset 1')\n",
    "plt.xlim(-0.07, 1.2)\n",
    "plt.ylim(-0.07, 1.2)\n",
    "\n",
    "# Plot second dataset\n",
    "scatter_2 = plt.subplot(gs[0, 1])\n",
    "scatter_2 = plt.scatter(\n",
    "    actual_sorted_2,\n",
    "    predicted_sorted_2,\n",
    "    c=density_sorted_2,\n",
    "    cmap='viridis',\n",
    "    s=5,\n",
    "    label='Data Points'\n",
    ")\n",
    "plt.colorbar(scatter_2, label='Density')\n",
    "plt.plot(\n",
    "    np.unique(actual_2),\n",
    "    np.poly1d(np.polyfit(actual_2, predicted_2, 1))(np.unique(actual_2)),\n",
    "    color='red',\n",
    "    linestyle='--',\n",
    "    label='Regression Line'\n",
    ")\n",
    "plt.title('Dataset 2')\n",
    "plt.xlim(-0.07, 1.2)\n",
    "plt.ylim(-0.07, 1.2)\n",
    "\n",
    "# Add the model architecture\n",
    "ax_text = plt.subplot(gs[0,2])  # Use the second section of the grid\n",
    "ax_text.axis('off')  # Turn off the axes for the text area\n",
    "info_text = f\"Model: {model.__class__.__name__}\\n\" \\\n",
    "            f\"test Pearson Correlation: {avg_test_pearson:.4f}\\n\" \\\n",
    "            f\"test Pearson Correlation2: {pearson_correlation_2:.4f}\\n\" \\\n",
    "            f\"Timestamp: {timestamp}\"\n",
    "\n",
    "plt.tight_layout()\n",
    "plt.subplots_adjust(wspace=0)\n",
    "plt.text(0.02, 0.98, info_text, transform=plt.gca().transAxes, fontsize=8, verticalalignment='top')\n",
    "\n",
    "save_path = os.path.join(save_dir, f\"{timestamp}_{avg_test_pearson:.4f}.png\")\n",
    "plt.savefig(save_dir+f'{timestamp}_{avg_test_pearson:.4f}.png')\n"
   ]
  }
 ],
 "metadata": {
  "kernelspec": {
   "display_name": "Python 3",
   "language": "python",
   "name": "python3"
  },
  "language_info": {
   "codemirror_mode": {
    "name": "ipython",
    "version": 3
   },
   "file_extension": ".py",
   "mimetype": "text/x-python",
   "name": "python",
   "nbconvert_exporter": "python",
   "pygments_lexer": "ipython3",
   "version": "3.10.5"
  }
 },
 "nbformat": 4,
 "nbformat_minor": 2
}
