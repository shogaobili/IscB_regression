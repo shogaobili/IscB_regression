{
 "cells": [
  {
   "cell_type": "code",
   "execution_count": 41,
   "metadata": {},
   "outputs": [],
   "source": [
    "import numpy as np \n",
    "import torch \n",
    "from torch.utils.data import TensorDataset,Dataset,DataLoader,random_split\n",
    "import pandas as pd\n",
    "from tqdm import tqdm\n",
    "\n",
    "import pandas as pd\n",
    "import torch\n",
    "from torch.utils.data import DataLoader, TensorDataset\n",
    "import torch.nn as nn\n",
    "import torch.optim as optim\n",
    "import matplotlib.pyplot as plt"
   ]
  },
  {
   "cell_type": "code",
   "execution_count": 42,
   "metadata": {},
   "outputs": [],
   "source": [
    "#----------------------Load the Excel file-----------------------\n",
    "def load_data(file_path, sheet_name):\n",
    "    sheet_name = sheet_name\n",
    "    df = pd.read_excel(file_path, sheet_name=sheet_name)\n",
    "    index_tensor = (df['A_position_counted_from_5_end_of_gRNA'] + 20).astype(int) \n",
    "    return df, index_tensor"
   ]
  },
  {
   "cell_type": "code",
   "execution_count": 43,
   "metadata": {},
   "outputs": [],
   "source": [
    "import pandas as pd\n",
    "import torch\n",
    "\n",
    "class FeatureProcessor:\n",
    "    def __init__(self, file_path='D:/01IscBML/', file_name = 'train_del_keep1700.xlsx'):\n",
    "        self.category_map = {'A': 0, 'T': 1, 'C': 2, 'G': 3}\n",
    "        self.data_path = file_path + file_name\n",
    "        self.df, self.index_tensor = self.load_data(self.data_path)  # load the df and index tensor as self attributes\n",
    "        self.combined_features, self.sequence_length = self.feature_processing()\n",
    "        self.labels_tensor = self.label()\n",
    "\n",
    "    def __len__(self):\n",
    "        return len(self.df.shape[0])\n",
    "\n",
    "    def load_data(self, data_path):\n",
    "        df = pd.read_excel(data_path)\n",
    "        index_tensor = (df['A_position_counted_from_5_end_of_gRNA'] + 20).astype(int)-1 # Warning: 0-indexed\n",
    "        return df, index_tensor\n",
    "\n",
    "    def sequence_to_one_hot(self, sequence, categories=\"ATCG\"):\n",
    "        category_map = {char: idx for idx, char in enumerate(categories)}\n",
    "        one_hot = []\n",
    "        for char in sequence:\n",
    "            one_hot_char = [0] * len(categories)\n",
    "            if char in category_map:\n",
    "                one_hot_char[category_map[char]] = 1\n",
    "            one_hot.append(one_hot_char)\n",
    "        return one_hot\n",
    "\n",
    "    def feature_processing(self):\n",
    "        sequence_data = self.df['Target_Site_sequence']\n",
    "        sequence_length = len(sequence_data.iloc[0])\n",
    "        one_hot_features = sequence_data.apply(self.sequence_to_one_hot)\n",
    "\n",
    "        features_tensor = torch.tensor(list(one_hot_features), dtype=torch.float32)\n",
    "\n",
    "        index_one_hot_features = []\n",
    "        for idx in self.index_tensor:\n",
    "            index_one_hot = [0] * sequence_length\n",
    "            if 0 <= idx < sequence_length:\n",
    "                index_one_hot[idx] = 1\n",
    "            index_one_hot_features.append(index_one_hot)\n",
    "\n",
    "        index_one_hot_tensor = torch.tensor(index_one_hot_features, dtype=torch.float32).unsqueeze(2)\n",
    "\n",
    "        combined_features = torch.cat((features_tensor, index_one_hot_tensor), dim=2)\n",
    "        return combined_features, sequence_length\n",
    "    \n",
    "    def label(self):\n",
    "        #---------------------Prepare labels tensor-----------------------\n",
    "        labels_tensor = torch.tensor(self.df['a-to-g(%)'].values/100, dtype=torch.float32).unsqueeze(1)  # Add a dimension for labels\n",
    "        return labels_tensor\n",
    "    \n",
    "\n"
   ]
  },
  {
   "cell_type": "code",
   "execution_count": 44,
   "metadata": {},
   "outputs": [],
   "source": [
    "label_data = FeatureProcessor(file_path='D:/01IscBML/').labels_tensor\n",
    "combined_features = FeatureProcessor(file_path='D:/01IscBML/').combined_features"
   ]
  },
  {
   "cell_type": "code",
   "execution_count": 45,
   "metadata": {},
   "outputs": [],
   "source": [
    "sequence_length = FeatureProcessor(file_path='D:/01IscBML/').sequence_length"
   ]
  },
  {
   "cell_type": "code",
   "execution_count": 46,
   "metadata": {},
   "outputs": [
    {
     "data": {
      "text/plain": [
       "56"
      ]
     },
     "execution_count": 46,
     "metadata": {},
     "output_type": "execute_result"
    }
   ],
   "source": [
    "sequence_length"
   ]
  },
  {
   "cell_type": "code",
   "execution_count": null,
   "metadata": {},
   "outputs": [],
   "source": []
  },
  {
   "cell_type": "code",
   "execution_count": 47,
   "metadata": {},
   "outputs": [],
   "source": [
    "#---------------------Prepare labels tensor-----------------------\n",
    "# labels_tensor = torch.tensor(df['a-to-g(%)'].values/100, dtype=torch.float32).unsqueeze(1)  # Add a dimension for labels\n",
    "\n",
    "#---------------------Create dataset and dataloader-----------------\n",
    "dataset = TensorDataset(combined_features, label_data)\n",
    "\n",
    "# Turn shuffle to False if you want to keep the predefined order of the data\n",
    "# dataloader = DataLoader(dataset, batch_size=32, shuffle=False)  # You can adjust the batch size as needed\n",
    "# i= 0\n",
    "# #----------------------Example to check batches---------------------\n",
    "# for i, (batch_features, batch_labels) in enumerate(dataloader):\n",
    "#     print(\"Batch\", i)\n",
    "#     print(\"Features Batch Shape:\", batch_features[20,20:36,:])  # (batch_size, sequence_length, channel_size)\n",
    "#     print(\"Labels Batch Shape:\", batch_labels[20])  # (batch_size, 1)\n",
    "#     i+=1\n",
    "#     if i == 2:\n",
    "#         break\n"
   ]
  },
  {
   "cell_type": "code",
   "execution_count": 48,
   "metadata": {},
   "outputs": [],
   "source": [
    "# Define a simple 1D CNN model\n",
    "# class CNN(nn.Module):\n",
    "#     def __init__(self, sequence_length):\n",
    "#         super(CNN, self).__init__()\n",
    "#         self.conv1 = nn.Conv1d(in_channels=5, out_channels=16, kernel_size=3, padding=1)  # Update in_channels to 5\n",
    "#         self.relu = nn.ReLU()\n",
    "#         self.pool = nn.MaxPool1d(kernel_size=2)\n",
    "        \n",
    "#         # Dynamically compute the size of the flattened feature map\n",
    "#         self.flattened_size = 16 * (sequence_length // 2)  # After one max pooling (sequence_length // 2)\n",
    "#         self.fc1 = nn.Linear(self.flattened_size, 1)  # Fully connected layer\n",
    "        \n",
    "#     def forward(self, x):\n",
    "#         x = x.permute(0, 2, 1)  # Change shape to (batch_size, channels, sequence_length)\n",
    "#         x = self.conv1(x)\n",
    "#         x = self.relu(x)\n",
    "#         x = self.pool(x)\n",
    "#         x = x.view(x.size(0), -1)  # Flatten\n",
    "#         x = self.fc1(x)\n",
    "#         return x\n",
    "\n",
    "# class OptimizedCNN(nn.Module):\n",
    "#     def __init__(self, sequence_length):\n",
    "#         super(OptimizedCNN, self).__init__()\n",
    "#         self.conv1 = nn.Conv1d(in_channels=5, out_channels=16, kernel_size=3, padding=1)  # 卷积层\n",
    "#         self.relu = nn.ReLU()\n",
    "        \n",
    "#         # 计算全连接层输入的维度\n",
    "#         self.flattened_size = 16 * sequence_length  # 无池化层时，序列长度不变\n",
    "#         self.fc1 = nn.Linear(self.flattened_size, 1)  # 全连接层\n",
    "\n",
    "#     def forward(self, x):\n",
    "#         x = x.permute(0, 2, 1)  # 调整维度为 (batch_size, channels, sequence_length)\n",
    "#         x = self.conv1(x)\n",
    "#         x = self.relu(x)\n",
    "#         x = x.view(x.size(0), -1)  # 展平\n",
    "#         x = self.fc1(x)\n",
    "#         return x"
   ]
  },
  {
   "cell_type": "code",
   "execution_count": 49,
   "metadata": {},
   "outputs": [],
   "source": [
    "class LocalCNN(nn.Module):\n",
    "    def __init__(self, sequence_length, kernel_size=21):\n",
    "        super(LocalCNN, self).__init__()\n",
    "        self.conv1 = nn.Conv1d(in_channels=5, out_channels=32, kernel_size=kernel_size, padding=kernel_size // 2)\n",
    "        self.conv2 = nn.Conv1d(in_channels=32, out_channels=32, kernel_size=kernel_size, padding=kernel_size // 2)\n",
    "        self.conv3 = nn.Conv1d(in_channels=32, out_channels=32, kernel_size=kernel_size, padding=kernel_size // 2)\n",
    "        self.relu = nn.ReLU()\n",
    "        self.hardtanh = nn.Hardtanh(min_val=0, max_val=1)\n",
    "        # self.clipper = nn.clippedReLU()\n",
    "        self.fc1 = nn.Linear(32 * sequence_length, 128)\n",
    "        self.fc2 = nn.Linear(128, 32)\n",
    "        self.fc3 = nn.Linear(32, 1)\n",
    "\n",
    "    def forward(self, x):\n",
    "        x = x.permute(0, 2, 1)  # Change shape to (batch_size, channels, sequence_length)\n",
    "        x = self.conv1(x)  # Apply convolution\n",
    "        x = self.relu(x)\n",
    "        x = self.conv2(x) # Apply convolution\n",
    "        x = self.relu(x)\n",
    "        x = self.conv3(x)  # Apply convolution\n",
    "        x = self.relu(x)\n",
    "        x = x.view(x.size(0), -1)  # Flatten for fully connected layer\n",
    "        x = self.fc1(x)\n",
    "        x = self.relu(x)\n",
    "        x = self.fc2(x)\n",
    "        x = self.relu(x)\n",
    "        x = self.fc3(x)\n",
    "        return x\n",
    "\n",
    "\n",
    "class MLP(nn.Module):\n",
    "    def __init__(self, sequence_length):\n",
    "        super(MLP, self).__init__()\n",
    "        input_size = sequence_length * 5  # Flattened input size\n",
    "        hidden_size = 512  # Number of neurons in each hidden layer\n",
    "        self.layers = nn.Sequential(\n",
    "            nn.Linear(input_size, hidden_size),\n",
    "            nn.ReLU(),\n",
    "            nn.Dropout(0.3),  # Add dropout for regularization\n",
    "            nn.Linear(hidden_size, hidden_size),\n",
    "            nn.ReLU(),\n",
    "            nn.Dropout(0.3),\n",
    "            nn.Linear(hidden_size, hidden_size),\n",
    "            nn.ReLU(),\n",
    "            nn.Dropout(0.3),\n",
    "            nn.Linear(hidden_size, 1),  # Final output layer\n",
    "            nn.Hardtanh(min_val=0, max_val=1)\n",
    "        )\n",
    "\n",
    "    def forward(self, x):\n",
    "        x = x.view(x.size(0), -1)  # Flatten input to (batch_size, sequence_length * 5)\n",
    "        x = self.layers(x)\n",
    "        return x"
   ]
  },
  {
   "cell_type": "code",
   "execution_count": 50,
   "metadata": {},
   "outputs": [
    {
     "name": "stdout",
     "output_type": "stream",
     "text": [
      "2292\n",
      "Batch 0\n",
      "Features Batch Shape: torch.Size([64, 56, 5])\n",
      "Labels Batch Shape: torch.Size([64, 1])\n",
      "Batch 1\n",
      "Features Batch Shape: torch.Size([64, 56, 5])\n",
      "Labels Batch Shape: torch.Size([64, 1])\n"
     ]
    }
   ],
   "source": [
    "#------------------split train&validation dataset---------------------\n",
    "from torch.utils.data import random_split, DataLoader\n",
    "\n",
    "dataset_size = len(dataset)\n",
    "train_size = int(0.8 * dataset_size) \n",
    "\n",
    "val_size = dataset_size - train_size  \n",
    "print(val_size)\n",
    "\n",
    "train_dataset, val_dataset = random_split(dataset, [train_size, val_size])\n",
    "\n",
    "train_dataloader = DataLoader(train_dataset, batch_size=64, shuffle=True, drop_last=True)\n",
    "val_dataloader = DataLoader(val_dataset, batch_size=val_size, shuffle=False, drop_last=True)    \n",
    "\n",
    "for i, train_data in enumerate(train_dataloader):\n",
    "    print(\"Batch\", i)\n",
    "    channel = train_data[0].shape[2]\n",
    "    print(\"Features Batch Shape:\", train_data[0].shape)  # (batch_size, sequence_length, channel_size)\n",
    "    print(\"Labels Batch Shape:\", train_data[1].shape)  # (batch_size, 1)\n",
    "    i+=1\n",
    "    if i == 2:\n",
    "        break"
   ]
  },
  {
   "cell_type": "code",
   "execution_count": null,
   "metadata": {},
   "outputs": [],
   "source": []
  },
  {
   "cell_type": "code",
   "execution_count": 51,
   "metadata": {},
   "outputs": [
    {
     "name": "stdout",
     "output_type": "stream",
     "text": [
      "----------------------------------------------------------------\n",
      "        Layer (type)               Output Shape         Param #\n",
      "================================================================\n",
      "            Conv1d-1               [-1, 32, 56]           3,392\n",
      "              ReLU-2               [-1, 32, 56]               0\n",
      "            Conv1d-3               [-1, 32, 56]          21,536\n",
      "              ReLU-4               [-1, 32, 56]               0\n",
      "            Conv1d-5               [-1, 32, 56]          21,536\n",
      "              ReLU-6               [-1, 32, 56]               0\n",
      "            Linear-7                  [-1, 128]         229,504\n",
      "              ReLU-8                  [-1, 128]               0\n",
      "            Linear-9                   [-1, 32]           4,128\n",
      "             ReLU-10                   [-1, 32]               0\n",
      "           Linear-11                    [-1, 1]              33\n",
      "================================================================\n",
      "Total params: 280,129\n",
      "Trainable params: 280,129\n",
      "Non-trainable params: 0\n",
      "----------------------------------------------------------------\n",
      "Input size (MB): 0.00\n",
      "Forward/backward pass size (MB): 0.08\n",
      "Params size (MB): 1.07\n",
      "Estimated Total Size (MB): 1.15\n",
      "----------------------------------------------------------------\n"
     ]
    },
    {
     "name": "stderr",
     "output_type": "stream",
     "text": [
      "Epoch 1/100: 100%|██████████| 143/143 [00:02<00:00, 68.00it/s]\n"
     ]
    },
    {
     "name": "stdout",
     "output_type": "stream",
     "text": [
      "----------------------------------------------------------------\n",
      "        Layer (type)               Output Shape         Param #\n",
      "================================================================\n",
      "            Conv1d-1               [-1, 32, 56]           3,392\n",
      "              ReLU-2               [-1, 32, 56]               0\n",
      "            Conv1d-3               [-1, 32, 56]          21,536\n",
      "              ReLU-4               [-1, 32, 56]               0\n",
      "            Conv1d-5               [-1, 32, 56]          21,536\n",
      "              ReLU-6               [-1, 32, 56]               0\n",
      "            Linear-7                  [-1, 128]         229,504\n",
      "              ReLU-8                  [-1, 128]               0\n",
      "            Linear-9                   [-1, 32]           4,128\n",
      "             ReLU-10                   [-1, 32]               0\n",
      "           Linear-11                    [-1, 1]              33\n",
      "================================================================\n",
      "Total params: 280,129\n",
      "Trainable params: 280,129\n",
      "Non-trainable params: 0\n",
      "----------------------------------------------------------------\n",
      "Input size (MB): 0.00\n",
      "Forward/backward pass size (MB): 0.08\n",
      "Params size (MB): 1.07\n",
      "Estimated Total Size (MB): 1.15\n",
      "----------------------------------------------------------------\n",
      "Model saved with Pearson correlation: 0.5307\n",
      "Epoch [1/100]\n",
      "Training Loss: 0.0569\n",
      "Validation Pearson Correlation: 0.5307\n"
     ]
    },
    {
     "name": "stderr",
     "output_type": "stream",
     "text": [
      "Epoch 2/100: 100%|██████████| 143/143 [00:01<00:00, 72.58it/s]\n"
     ]
    },
    {
     "name": "stdout",
     "output_type": "stream",
     "text": [
      "----------------------------------------------------------------\n",
      "        Layer (type)               Output Shape         Param #\n",
      "================================================================\n",
      "            Conv1d-1               [-1, 32, 56]           3,392\n",
      "              ReLU-2               [-1, 32, 56]               0\n",
      "            Conv1d-3               [-1, 32, 56]          21,536\n",
      "              ReLU-4               [-1, 32, 56]               0\n",
      "            Conv1d-5               [-1, 32, 56]          21,536\n",
      "              ReLU-6               [-1, 32, 56]               0\n",
      "            Linear-7                  [-1, 128]         229,504\n",
      "              ReLU-8                  [-1, 128]               0\n",
      "            Linear-9                   [-1, 32]           4,128\n",
      "             ReLU-10                   [-1, 32]               0\n",
      "           Linear-11                    [-1, 1]              33\n",
      "================================================================\n",
      "Total params: 280,129\n",
      "Trainable params: 280,129\n",
      "Non-trainable params: 0\n",
      "----------------------------------------------------------------\n",
      "Input size (MB): 0.00\n",
      "Forward/backward pass size (MB): 0.08\n",
      "Params size (MB): 1.07\n",
      "Estimated Total Size (MB): 1.15\n",
      "----------------------------------------------------------------\n",
      "Model saved with Pearson correlation: 0.6754\n",
      "Epoch [2/100]\n",
      "Training Loss: 0.0378\n",
      "Validation Pearson Correlation: 0.6754\n"
     ]
    },
    {
     "name": "stderr",
     "output_type": "stream",
     "text": [
      "Epoch 3/100: 100%|██████████| 143/143 [00:01<00:00, 73.97it/s]\n"
     ]
    },
    {
     "name": "stdout",
     "output_type": "stream",
     "text": [
      "----------------------------------------------------------------\n",
      "        Layer (type)               Output Shape         Param #\n",
      "================================================================\n",
      "            Conv1d-1               [-1, 32, 56]           3,392\n",
      "              ReLU-2               [-1, 32, 56]               0\n",
      "            Conv1d-3               [-1, 32, 56]          21,536\n",
      "              ReLU-4               [-1, 32, 56]               0\n",
      "            Conv1d-5               [-1, 32, 56]          21,536\n",
      "              ReLU-6               [-1, 32, 56]               0\n",
      "            Linear-7                  [-1, 128]         229,504\n",
      "              ReLU-8                  [-1, 128]               0\n",
      "            Linear-9                   [-1, 32]           4,128\n",
      "             ReLU-10                   [-1, 32]               0\n",
      "           Linear-11                    [-1, 1]              33\n",
      "================================================================\n",
      "Total params: 280,129\n",
      "Trainable params: 280,129\n",
      "Non-trainable params: 0\n",
      "----------------------------------------------------------------\n",
      "Input size (MB): 0.00\n",
      "Forward/backward pass size (MB): 0.08\n",
      "Params size (MB): 1.07\n",
      "Estimated Total Size (MB): 1.15\n",
      "----------------------------------------------------------------\n",
      "Model saved with Pearson correlation: 0.7003\n",
      "Epoch [3/100]\n",
      "Training Loss: 0.0307\n",
      "Validation Pearson Correlation: 0.7003\n"
     ]
    },
    {
     "name": "stderr",
     "output_type": "stream",
     "text": [
      "Epoch 4/100: 100%|██████████| 143/143 [00:01<00:00, 75.23it/s]\n"
     ]
    },
    {
     "name": "stdout",
     "output_type": "stream",
     "text": [
      "----------------------------------------------------------------\n",
      "        Layer (type)               Output Shape         Param #\n",
      "================================================================\n",
      "            Conv1d-1               [-1, 32, 56]           3,392\n",
      "              ReLU-2               [-1, 32, 56]               0\n",
      "            Conv1d-3               [-1, 32, 56]          21,536\n",
      "              ReLU-4               [-1, 32, 56]               0\n",
      "            Conv1d-5               [-1, 32, 56]          21,536\n",
      "              ReLU-6               [-1, 32, 56]               0\n",
      "            Linear-7                  [-1, 128]         229,504\n",
      "              ReLU-8                  [-1, 128]               0\n",
      "            Linear-9                   [-1, 32]           4,128\n",
      "             ReLU-10                   [-1, 32]               0\n",
      "           Linear-11                    [-1, 1]              33\n",
      "================================================================\n",
      "Total params: 280,129\n",
      "Trainable params: 280,129\n",
      "Non-trainable params: 0\n",
      "----------------------------------------------------------------\n",
      "Input size (MB): 0.00\n",
      "Forward/backward pass size (MB): 0.08\n",
      "Params size (MB): 1.07\n",
      "Estimated Total Size (MB): 1.15\n",
      "----------------------------------------------------------------\n",
      "Model saved with Pearson correlation: 0.7352\n",
      "Epoch [4/100]\n",
      "Training Loss: 0.0262\n",
      "Validation Pearson Correlation: 0.7352\n"
     ]
    },
    {
     "name": "stderr",
     "output_type": "stream",
     "text": [
      "Epoch 5/100: 100%|██████████| 143/143 [00:02<00:00, 68.48it/s]\n"
     ]
    },
    {
     "name": "stdout",
     "output_type": "stream",
     "text": [
      "----------------------------------------------------------------\n",
      "        Layer (type)               Output Shape         Param #\n",
      "================================================================\n",
      "            Conv1d-1               [-1, 32, 56]           3,392\n",
      "              ReLU-2               [-1, 32, 56]               0\n",
      "            Conv1d-3               [-1, 32, 56]          21,536\n",
      "              ReLU-4               [-1, 32, 56]               0\n",
      "            Conv1d-5               [-1, 32, 56]          21,536\n",
      "              ReLU-6               [-1, 32, 56]               0\n",
      "            Linear-7                  [-1, 128]         229,504\n",
      "              ReLU-8                  [-1, 128]               0\n",
      "            Linear-9                   [-1, 32]           4,128\n",
      "             ReLU-10                   [-1, 32]               0\n",
      "           Linear-11                    [-1, 1]              33\n",
      "================================================================\n",
      "Total params: 280,129\n",
      "Trainable params: 280,129\n",
      "Non-trainable params: 0\n",
      "----------------------------------------------------------------\n",
      "Input size (MB): 0.00\n",
      "Forward/backward pass size (MB): 0.08\n",
      "Params size (MB): 1.07\n",
      "Estimated Total Size (MB): 1.15\n",
      "----------------------------------------------------------------\n",
      "Model saved with Pearson correlation: 0.7365\n",
      "Epoch [5/100]\n",
      "Training Loss: 0.0230\n",
      "Validation Pearson Correlation: 0.7365\n"
     ]
    },
    {
     "name": "stderr",
     "output_type": "stream",
     "text": [
      "Epoch 6/100: 100%|██████████| 143/143 [00:02<00:00, 61.83it/s]\n"
     ]
    },
    {
     "name": "stdout",
     "output_type": "stream",
     "text": [
      "----------------------------------------------------------------\n",
      "        Layer (type)               Output Shape         Param #\n",
      "================================================================\n",
      "            Conv1d-1               [-1, 32, 56]           3,392\n",
      "              ReLU-2               [-1, 32, 56]               0\n",
      "            Conv1d-3               [-1, 32, 56]          21,536\n",
      "              ReLU-4               [-1, 32, 56]               0\n",
      "            Conv1d-5               [-1, 32, 56]          21,536\n",
      "              ReLU-6               [-1, 32, 56]               0\n",
      "            Linear-7                  [-1, 128]         229,504\n",
      "              ReLU-8                  [-1, 128]               0\n",
      "            Linear-9                   [-1, 32]           4,128\n",
      "             ReLU-10                   [-1, 32]               0\n",
      "           Linear-11                    [-1, 1]              33\n",
      "================================================================\n",
      "Total params: 280,129\n",
      "Trainable params: 280,129\n",
      "Non-trainable params: 0\n",
      "----------------------------------------------------------------\n",
      "Input size (MB): 0.00\n",
      "Forward/backward pass size (MB): 0.08\n",
      "Params size (MB): 1.07\n",
      "Estimated Total Size (MB): 1.15\n",
      "----------------------------------------------------------------\n",
      "Model saved with Pearson correlation: 0.7627\n",
      "Epoch [6/100]\n",
      "Training Loss: 0.0194\n",
      "Validation Pearson Correlation: 0.7627\n"
     ]
    },
    {
     "name": "stderr",
     "output_type": "stream",
     "text": [
      "Epoch 7/100: 100%|██████████| 143/143 [00:02<00:00, 64.22it/s]\n"
     ]
    },
    {
     "name": "stdout",
     "output_type": "stream",
     "text": [
      "----------------------------------------------------------------\n",
      "        Layer (type)               Output Shape         Param #\n",
      "================================================================\n",
      "            Conv1d-1               [-1, 32, 56]           3,392\n",
      "              ReLU-2               [-1, 32, 56]               0\n",
      "            Conv1d-3               [-1, 32, 56]          21,536\n",
      "              ReLU-4               [-1, 32, 56]               0\n",
      "            Conv1d-5               [-1, 32, 56]          21,536\n",
      "              ReLU-6               [-1, 32, 56]               0\n",
      "            Linear-7                  [-1, 128]         229,504\n",
      "              ReLU-8                  [-1, 128]               0\n",
      "            Linear-9                   [-1, 32]           4,128\n",
      "             ReLU-10                   [-1, 32]               0\n",
      "           Linear-11                    [-1, 1]              33\n",
      "================================================================\n",
      "Total params: 280,129\n",
      "Trainable params: 280,129\n",
      "Non-trainable params: 0\n",
      "----------------------------------------------------------------\n",
      "Input size (MB): 0.00\n",
      "Forward/backward pass size (MB): 0.08\n",
      "Params size (MB): 1.07\n",
      "Estimated Total Size (MB): 1.15\n",
      "----------------------------------------------------------------\n",
      "Model saved with Pearson correlation: 0.7660\n",
      "Epoch [7/100]\n",
      "Training Loss: 0.0160\n",
      "Validation Pearson Correlation: 0.7660\n"
     ]
    },
    {
     "name": "stderr",
     "output_type": "stream",
     "text": [
      "Epoch 8/100: 100%|██████████| 143/143 [00:02<00:00, 62.94it/s]\n"
     ]
    },
    {
     "name": "stdout",
     "output_type": "stream",
     "text": [
      "----------------------------------------------------------------\n",
      "        Layer (type)               Output Shape         Param #\n",
      "================================================================\n",
      "            Conv1d-1               [-1, 32, 56]           3,392\n",
      "              ReLU-2               [-1, 32, 56]               0\n",
      "            Conv1d-3               [-1, 32, 56]          21,536\n",
      "              ReLU-4               [-1, 32, 56]               0\n",
      "            Conv1d-5               [-1, 32, 56]          21,536\n",
      "              ReLU-6               [-1, 32, 56]               0\n",
      "            Linear-7                  [-1, 128]         229,504\n",
      "              ReLU-8                  [-1, 128]               0\n",
      "            Linear-9                   [-1, 32]           4,128\n",
      "             ReLU-10                   [-1, 32]               0\n",
      "           Linear-11                    [-1, 1]              33\n",
      "================================================================\n",
      "Total params: 280,129\n",
      "Trainable params: 280,129\n",
      "Non-trainable params: 0\n",
      "----------------------------------------------------------------\n",
      "Input size (MB): 0.00\n",
      "Forward/backward pass size (MB): 0.08\n",
      "Params size (MB): 1.07\n",
      "Estimated Total Size (MB): 1.15\n",
      "----------------------------------------------------------------\n",
      "Model saved with Pearson correlation: 0.7701\n",
      "Epoch [8/100]\n",
      "Training Loss: 0.0132\n",
      "Validation Pearson Correlation: 0.7701\n"
     ]
    },
    {
     "name": "stderr",
     "output_type": "stream",
     "text": [
      "Epoch 9/100: 100%|██████████| 143/143 [00:02<00:00, 63.59it/s]\n"
     ]
    },
    {
     "name": "stdout",
     "output_type": "stream",
     "text": [
      "----------------------------------------------------------------\n",
      "        Layer (type)               Output Shape         Param #\n",
      "================================================================\n",
      "            Conv1d-1               [-1, 32, 56]           3,392\n",
      "              ReLU-2               [-1, 32, 56]               0\n",
      "            Conv1d-3               [-1, 32, 56]          21,536\n",
      "              ReLU-4               [-1, 32, 56]               0\n",
      "            Conv1d-5               [-1, 32, 56]          21,536\n",
      "              ReLU-6               [-1, 32, 56]               0\n",
      "            Linear-7                  [-1, 128]         229,504\n",
      "              ReLU-8                  [-1, 128]               0\n",
      "            Linear-9                   [-1, 32]           4,128\n",
      "             ReLU-10                   [-1, 32]               0\n",
      "           Linear-11                    [-1, 1]              33\n",
      "================================================================\n",
      "Total params: 280,129\n",
      "Trainable params: 280,129\n",
      "Non-trainable params: 0\n",
      "----------------------------------------------------------------\n",
      "Input size (MB): 0.00\n",
      "Forward/backward pass size (MB): 0.08\n",
      "Params size (MB): 1.07\n",
      "Estimated Total Size (MB): 1.15\n",
      "----------------------------------------------------------------\n",
      "Model saved with Pearson correlation: 0.7795\n",
      "Epoch [9/100]\n",
      "Training Loss: 0.0110\n",
      "Validation Pearson Correlation: 0.7795\n"
     ]
    },
    {
     "name": "stderr",
     "output_type": "stream",
     "text": [
      "Epoch 10/100: 100%|██████████| 143/143 [00:02<00:00, 63.36it/s]\n"
     ]
    },
    {
     "name": "stdout",
     "output_type": "stream",
     "text": [
      "Model saved with Pearson correlation: 0.7795\n",
      "Epoch [10/100]\n",
      "Training Loss: 0.0089\n",
      "Validation Pearson Correlation: 0.7785\n"
     ]
    },
    {
     "name": "stderr",
     "output_type": "stream",
     "text": [
      "Epoch 11/100: 100%|██████████| 143/143 [00:02<00:00, 53.68it/s]\n"
     ]
    },
    {
     "name": "stdout",
     "output_type": "stream",
     "text": [
      "----------------------------------------------------------------\n",
      "        Layer (type)               Output Shape         Param #\n",
      "================================================================\n",
      "            Conv1d-1               [-1, 32, 56]           3,392\n",
      "              ReLU-2               [-1, 32, 56]               0\n",
      "            Conv1d-3               [-1, 32, 56]          21,536\n",
      "              ReLU-4               [-1, 32, 56]               0\n",
      "            Conv1d-5               [-1, 32, 56]          21,536\n",
      "              ReLU-6               [-1, 32, 56]               0\n",
      "            Linear-7                  [-1, 128]         229,504\n",
      "              ReLU-8                  [-1, 128]               0\n",
      "            Linear-9                   [-1, 32]           4,128\n",
      "             ReLU-10                   [-1, 32]               0\n",
      "           Linear-11                    [-1, 1]              33\n",
      "================================================================\n",
      "Total params: 280,129\n",
      "Trainable params: 280,129\n",
      "Non-trainable params: 0\n",
      "----------------------------------------------------------------\n",
      "Input size (MB): 0.00\n",
      "Forward/backward pass size (MB): 0.08\n",
      "Params size (MB): 1.07\n",
      "Estimated Total Size (MB): 1.15\n",
      "----------------------------------------------------------------\n",
      "Model saved with Pearson correlation: 0.7852\n",
      "Epoch [11/100]\n",
      "Training Loss: 0.0075\n",
      "Validation Pearson Correlation: 0.7852\n"
     ]
    },
    {
     "name": "stderr",
     "output_type": "stream",
     "text": [
      "Epoch 12/100: 100%|██████████| 143/143 [00:02<00:00, 49.46it/s]\n"
     ]
    },
    {
     "name": "stdout",
     "output_type": "stream",
     "text": [
      "Model saved with Pearson correlation: 0.7852\n",
      "Epoch [12/100]\n",
      "Training Loss: 0.0067\n",
      "Validation Pearson Correlation: 0.7770\n"
     ]
    },
    {
     "name": "stderr",
     "output_type": "stream",
     "text": [
      "Epoch 13/100: 100%|██████████| 143/143 [00:02<00:00, 52.59it/s]\n"
     ]
    },
    {
     "name": "stdout",
     "output_type": "stream",
     "text": [
      "----------------------------------------------------------------\n",
      "        Layer (type)               Output Shape         Param #\n",
      "================================================================\n",
      "            Conv1d-1               [-1, 32, 56]           3,392\n",
      "              ReLU-2               [-1, 32, 56]               0\n",
      "            Conv1d-3               [-1, 32, 56]          21,536\n",
      "              ReLU-4               [-1, 32, 56]               0\n",
      "            Conv1d-5               [-1, 32, 56]          21,536\n",
      "              ReLU-6               [-1, 32, 56]               0\n",
      "            Linear-7                  [-1, 128]         229,504\n",
      "              ReLU-8                  [-1, 128]               0\n",
      "            Linear-9                   [-1, 32]           4,128\n",
      "             ReLU-10                   [-1, 32]               0\n",
      "           Linear-11                    [-1, 1]              33\n",
      "================================================================\n",
      "Total params: 280,129\n",
      "Trainable params: 280,129\n",
      "Non-trainable params: 0\n",
      "----------------------------------------------------------------\n",
      "Input size (MB): 0.00\n",
      "Forward/backward pass size (MB): 0.08\n",
      "Params size (MB): 1.07\n",
      "Estimated Total Size (MB): 1.15\n",
      "----------------------------------------------------------------\n",
      "Model saved with Pearson correlation: 0.7857\n",
      "Epoch [13/100]\n",
      "Training Loss: 0.0056\n",
      "Validation Pearson Correlation: 0.7857\n"
     ]
    },
    {
     "name": "stderr",
     "output_type": "stream",
     "text": [
      "Epoch 14/100: 100%|██████████| 143/143 [00:09<00:00, 14.90it/s]\n"
     ]
    },
    {
     "name": "stdout",
     "output_type": "stream",
     "text": [
      "----------------------------------------------------------------\n",
      "        Layer (type)               Output Shape         Param #\n",
      "================================================================\n",
      "            Conv1d-1               [-1, 32, 56]           3,392\n",
      "              ReLU-2               [-1, 32, 56]               0\n",
      "            Conv1d-3               [-1, 32, 56]          21,536\n",
      "              ReLU-4               [-1, 32, 56]               0\n",
      "            Conv1d-5               [-1, 32, 56]          21,536\n",
      "              ReLU-6               [-1, 32, 56]               0\n",
      "            Linear-7                  [-1, 128]         229,504\n",
      "              ReLU-8                  [-1, 128]               0\n",
      "            Linear-9                   [-1, 32]           4,128\n",
      "             ReLU-10                   [-1, 32]               0\n",
      "           Linear-11                    [-1, 1]              33\n",
      "================================================================\n",
      "Total params: 280,129\n",
      "Trainable params: 280,129\n",
      "Non-trainable params: 0\n",
      "----------------------------------------------------------------\n",
      "Input size (MB): 0.00\n",
      "Forward/backward pass size (MB): 0.08\n",
      "Params size (MB): 1.07\n",
      "Estimated Total Size (MB): 1.15\n",
      "----------------------------------------------------------------\n",
      "Model saved with Pearson correlation: 0.7880\n",
      "Epoch [14/100]\n",
      "Training Loss: 0.0048\n",
      "Validation Pearson Correlation: 0.7880\n"
     ]
    },
    {
     "name": "stderr",
     "output_type": "stream",
     "text": [
      "Epoch 15/100: 100%|██████████| 143/143 [00:08<00:00, 16.56it/s]\n"
     ]
    },
    {
     "name": "stdout",
     "output_type": "stream",
     "text": [
      "----------------------------------------------------------------\n",
      "        Layer (type)               Output Shape         Param #\n",
      "================================================================\n",
      "            Conv1d-1               [-1, 32, 56]           3,392\n",
      "              ReLU-2               [-1, 32, 56]               0\n",
      "            Conv1d-3               [-1, 32, 56]          21,536\n",
      "              ReLU-4               [-1, 32, 56]               0\n",
      "            Conv1d-5               [-1, 32, 56]          21,536\n",
      "              ReLU-6               [-1, 32, 56]               0\n",
      "            Linear-7                  [-1, 128]         229,504\n",
      "              ReLU-8                  [-1, 128]               0\n",
      "            Linear-9                   [-1, 32]           4,128\n",
      "             ReLU-10                   [-1, 32]               0\n",
      "           Linear-11                    [-1, 1]              33\n",
      "================================================================\n",
      "Total params: 280,129\n",
      "Trainable params: 280,129\n",
      "Non-trainable params: 0\n",
      "----------------------------------------------------------------\n",
      "Input size (MB): 0.00\n",
      "Forward/backward pass size (MB): 0.08\n",
      "Params size (MB): 1.07\n",
      "Estimated Total Size (MB): 1.15\n",
      "----------------------------------------------------------------\n",
      "Model saved with Pearson correlation: 0.7924\n",
      "Epoch [15/100]\n",
      "Training Loss: 0.0041\n",
      "Validation Pearson Correlation: 0.7924\n"
     ]
    },
    {
     "name": "stderr",
     "output_type": "stream",
     "text": [
      "Epoch 16/100: 100%|██████████| 143/143 [00:13<00:00, 10.54it/s]\n"
     ]
    },
    {
     "name": "stdout",
     "output_type": "stream",
     "text": [
      "Model saved with Pearson correlation: 0.7924\n",
      "Epoch [16/100]\n",
      "Training Loss: 0.0037\n",
      "Validation Pearson Correlation: 0.7852\n"
     ]
    },
    {
     "name": "stderr",
     "output_type": "stream",
     "text": [
      "Epoch 17/100: 100%|██████████| 143/143 [00:14<00:00,  9.88it/s]\n"
     ]
    },
    {
     "name": "stdout",
     "output_type": "stream",
     "text": [
      "----------------------------------------------------------------\n",
      "        Layer (type)               Output Shape         Param #\n",
      "================================================================\n",
      "            Conv1d-1               [-1, 32, 56]           3,392\n",
      "              ReLU-2               [-1, 32, 56]               0\n",
      "            Conv1d-3               [-1, 32, 56]          21,536\n",
      "              ReLU-4               [-1, 32, 56]               0\n",
      "            Conv1d-5               [-1, 32, 56]          21,536\n",
      "              ReLU-6               [-1, 32, 56]               0\n",
      "            Linear-7                  [-1, 128]         229,504\n",
      "              ReLU-8                  [-1, 128]               0\n",
      "            Linear-9                   [-1, 32]           4,128\n",
      "             ReLU-10                   [-1, 32]               0\n",
      "           Linear-11                    [-1, 1]              33\n",
      "================================================================\n",
      "Total params: 280,129\n",
      "Trainable params: 280,129\n",
      "Non-trainable params: 0\n",
      "----------------------------------------------------------------\n",
      "Input size (MB): 0.00\n",
      "Forward/backward pass size (MB): 0.08\n",
      "Params size (MB): 1.07\n",
      "Estimated Total Size (MB): 1.15\n",
      "----------------------------------------------------------------\n",
      "Model saved with Pearson correlation: 0.8006\n",
      "Epoch [17/100]\n",
      "Training Loss: 0.0032\n",
      "Validation Pearson Correlation: 0.8006\n"
     ]
    },
    {
     "name": "stderr",
     "output_type": "stream",
     "text": [
      "Epoch 18/100: 100%|██████████| 143/143 [00:09<00:00, 14.57it/s]\n"
     ]
    },
    {
     "name": "stdout",
     "output_type": "stream",
     "text": [
      "Model saved with Pearson correlation: 0.8006\n",
      "Epoch [18/100]\n",
      "Training Loss: 0.0028\n",
      "Validation Pearson Correlation: 0.7936\n"
     ]
    },
    {
     "name": "stderr",
     "output_type": "stream",
     "text": [
      "Epoch 19/100: 100%|██████████| 143/143 [00:10<00:00, 13.31it/s]\n"
     ]
    },
    {
     "name": "stdout",
     "output_type": "stream",
     "text": [
      "----------------------------------------------------------------\n",
      "        Layer (type)               Output Shape         Param #\n",
      "================================================================\n",
      "            Conv1d-1               [-1, 32, 56]           3,392\n",
      "              ReLU-2               [-1, 32, 56]               0\n",
      "            Conv1d-3               [-1, 32, 56]          21,536\n",
      "              ReLU-4               [-1, 32, 56]               0\n",
      "            Conv1d-5               [-1, 32, 56]          21,536\n",
      "              ReLU-6               [-1, 32, 56]               0\n",
      "            Linear-7                  [-1, 128]         229,504\n",
      "              ReLU-8                  [-1, 128]               0\n",
      "            Linear-9                   [-1, 32]           4,128\n",
      "             ReLU-10                   [-1, 32]               0\n",
      "           Linear-11                    [-1, 1]              33\n",
      "================================================================\n",
      "Total params: 280,129\n",
      "Trainable params: 280,129\n",
      "Non-trainable params: 0\n",
      "----------------------------------------------------------------\n",
      "Input size (MB): 0.00\n",
      "Forward/backward pass size (MB): 0.08\n",
      "Params size (MB): 1.07\n",
      "Estimated Total Size (MB): 1.15\n",
      "----------------------------------------------------------------\n",
      "Model saved with Pearson correlation: 0.8009\n",
      "Epoch [19/100]\n",
      "Training Loss: 0.0024\n",
      "Validation Pearson Correlation: 0.8009\n"
     ]
    },
    {
     "name": "stderr",
     "output_type": "stream",
     "text": [
      "Epoch 20/100: 100%|██████████| 143/143 [00:12<00:00, 11.41it/s]\n"
     ]
    },
    {
     "name": "stdout",
     "output_type": "stream",
     "text": [
      "----------------------------------------------------------------\n",
      "        Layer (type)               Output Shape         Param #\n",
      "================================================================\n",
      "            Conv1d-1               [-1, 32, 56]           3,392\n",
      "              ReLU-2               [-1, 32, 56]               0\n",
      "            Conv1d-3               [-1, 32, 56]          21,536\n",
      "              ReLU-4               [-1, 32, 56]               0\n",
      "            Conv1d-5               [-1, 32, 56]          21,536\n",
      "              ReLU-6               [-1, 32, 56]               0\n",
      "            Linear-7                  [-1, 128]         229,504\n",
      "              ReLU-8                  [-1, 128]               0\n",
      "            Linear-9                   [-1, 32]           4,128\n",
      "             ReLU-10                   [-1, 32]               0\n",
      "           Linear-11                    [-1, 1]              33\n",
      "================================================================\n",
      "Total params: 280,129\n",
      "Trainable params: 280,129\n",
      "Non-trainable params: 0\n",
      "----------------------------------------------------------------\n",
      "Input size (MB): 0.00\n",
      "Forward/backward pass size (MB): 0.08\n",
      "Params size (MB): 1.07\n",
      "Estimated Total Size (MB): 1.15\n",
      "----------------------------------------------------------------\n",
      "Model saved with Pearson correlation: 0.8061\n",
      "Epoch [20/100]\n",
      "Training Loss: 0.0023\n",
      "Validation Pearson Correlation: 0.8061\n"
     ]
    },
    {
     "name": "stderr",
     "output_type": "stream",
     "text": [
      "Epoch 21/100: 100%|██████████| 143/143 [00:13<00:00, 10.62it/s]\n"
     ]
    },
    {
     "name": "stdout",
     "output_type": "stream",
     "text": [
      "Model saved with Pearson correlation: 0.8061\n",
      "Epoch [21/100]\n",
      "Training Loss: 0.0022\n",
      "Validation Pearson Correlation: 0.8023\n"
     ]
    },
    {
     "name": "stderr",
     "output_type": "stream",
     "text": [
      "Epoch 22/100: 100%|██████████| 143/143 [00:09<00:00, 15.33it/s]\n"
     ]
    },
    {
     "name": "stdout",
     "output_type": "stream",
     "text": [
      "Model saved with Pearson correlation: 0.8061\n",
      "Epoch [22/100]\n",
      "Training Loss: 0.0020\n",
      "Validation Pearson Correlation: 0.8056\n"
     ]
    },
    {
     "name": "stderr",
     "output_type": "stream",
     "text": [
      "Epoch 23/100: 100%|██████████| 143/143 [00:10<00:00, 13.78it/s]\n"
     ]
    },
    {
     "name": "stdout",
     "output_type": "stream",
     "text": [
      "Model saved with Pearson correlation: 0.8061\n",
      "Epoch [23/100]\n",
      "Training Loss: 0.0020\n",
      "Validation Pearson Correlation: 0.8025\n"
     ]
    },
    {
     "name": "stderr",
     "output_type": "stream",
     "text": [
      "Epoch 24/100: 100%|██████████| 143/143 [00:12<00:00, 11.04it/s]\n"
     ]
    },
    {
     "name": "stdout",
     "output_type": "stream",
     "text": [
      "Model saved with Pearson correlation: 0.8061\n",
      "Epoch [24/100]\n",
      "Training Loss: 0.0018\n",
      "Validation Pearson Correlation: 0.8012\n"
     ]
    },
    {
     "name": "stderr",
     "output_type": "stream",
     "text": [
      "Epoch 25/100: 100%|██████████| 143/143 [00:11<00:00, 12.89it/s]\n"
     ]
    },
    {
     "name": "stdout",
     "output_type": "stream",
     "text": [
      "Model saved with Pearson correlation: 0.8061\n",
      "Epoch [25/100]\n",
      "Training Loss: 0.0017\n",
      "Validation Pearson Correlation: 0.8049\n"
     ]
    },
    {
     "name": "stderr",
     "output_type": "stream",
     "text": [
      "Epoch 26/100: 100%|██████████| 143/143 [00:09<00:00, 14.48it/s]\n"
     ]
    },
    {
     "name": "stdout",
     "output_type": "stream",
     "text": [
      "Model saved with Pearson correlation: 0.8061\n",
      "Epoch [26/100]\n",
      "Training Loss: 0.0016\n",
      "Validation Pearson Correlation: 0.8042\n"
     ]
    },
    {
     "name": "stderr",
     "output_type": "stream",
     "text": [
      "Epoch 27/100: 100%|██████████| 143/143 [00:12<00:00, 11.83it/s]\n"
     ]
    },
    {
     "name": "stdout",
     "output_type": "stream",
     "text": [
      "----------------------------------------------------------------\n",
      "        Layer (type)               Output Shape         Param #\n",
      "================================================================\n",
      "            Conv1d-1               [-1, 32, 56]           3,392\n",
      "              ReLU-2               [-1, 32, 56]               0\n",
      "            Conv1d-3               [-1, 32, 56]          21,536\n",
      "              ReLU-4               [-1, 32, 56]               0\n",
      "            Conv1d-5               [-1, 32, 56]          21,536\n",
      "              ReLU-6               [-1, 32, 56]               0\n",
      "            Linear-7                  [-1, 128]         229,504\n",
      "              ReLU-8                  [-1, 128]               0\n",
      "            Linear-9                   [-1, 32]           4,128\n",
      "             ReLU-10                   [-1, 32]               0\n",
      "           Linear-11                    [-1, 1]              33\n",
      "================================================================\n",
      "Total params: 280,129\n",
      "Trainable params: 280,129\n",
      "Non-trainable params: 0\n",
      "----------------------------------------------------------------\n",
      "Input size (MB): 0.00\n",
      "Forward/backward pass size (MB): 0.08\n",
      "Params size (MB): 1.07\n",
      "Estimated Total Size (MB): 1.15\n",
      "----------------------------------------------------------------\n",
      "Model saved with Pearson correlation: 0.8093\n",
      "Epoch [27/100]\n",
      "Training Loss: 0.0015\n",
      "Validation Pearson Correlation: 0.8093\n"
     ]
    },
    {
     "name": "stderr",
     "output_type": "stream",
     "text": [
      "Epoch 28/100: 100%|██████████| 143/143 [00:14<00:00, 10.09it/s]\n"
     ]
    },
    {
     "name": "stdout",
     "output_type": "stream",
     "text": [
      "Model saved with Pearson correlation: 0.8093\n",
      "Epoch [28/100]\n",
      "Training Loss: 0.0014\n",
      "Validation Pearson Correlation: 0.8061\n"
     ]
    },
    {
     "name": "stderr",
     "output_type": "stream",
     "text": [
      "Epoch 29/100: 100%|██████████| 143/143 [00:13<00:00, 10.89it/s]\n"
     ]
    },
    {
     "name": "stdout",
     "output_type": "stream",
     "text": [
      "Model saved with Pearson correlation: 0.8093\n",
      "Epoch [29/100]\n",
      "Training Loss: 0.0015\n",
      "Validation Pearson Correlation: 0.8053\n"
     ]
    },
    {
     "name": "stderr",
     "output_type": "stream",
     "text": [
      "Epoch 30/100: 100%|██████████| 143/143 [00:08<00:00, 16.52it/s]\n"
     ]
    },
    {
     "name": "stdout",
     "output_type": "stream",
     "text": [
      "----------------------------------------------------------------\n",
      "        Layer (type)               Output Shape         Param #\n",
      "================================================================\n",
      "            Conv1d-1               [-1, 32, 56]           3,392\n",
      "              ReLU-2               [-1, 32, 56]               0\n",
      "            Conv1d-3               [-1, 32, 56]          21,536\n",
      "              ReLU-4               [-1, 32, 56]               0\n",
      "            Conv1d-5               [-1, 32, 56]          21,536\n",
      "              ReLU-6               [-1, 32, 56]               0\n",
      "            Linear-7                  [-1, 128]         229,504\n",
      "              ReLU-8                  [-1, 128]               0\n",
      "            Linear-9                   [-1, 32]           4,128\n",
      "             ReLU-10                   [-1, 32]               0\n",
      "           Linear-11                    [-1, 1]              33\n",
      "================================================================\n",
      "Total params: 280,129\n",
      "Trainable params: 280,129\n",
      "Non-trainable params: 0\n",
      "----------------------------------------------------------------\n",
      "Input size (MB): 0.00\n",
      "Forward/backward pass size (MB): 0.08\n",
      "Params size (MB): 1.07\n",
      "Estimated Total Size (MB): 1.15\n",
      "----------------------------------------------------------------\n",
      "Model saved with Pearson correlation: 0.8172\n",
      "Epoch [30/100]\n",
      "Training Loss: 0.0017\n",
      "Validation Pearson Correlation: 0.8172\n"
     ]
    },
    {
     "name": "stderr",
     "output_type": "stream",
     "text": [
      "Epoch 31/100: 100%|██████████| 143/143 [00:12<00:00, 11.43it/s]\n"
     ]
    },
    {
     "name": "stdout",
     "output_type": "stream",
     "text": [
      "Model saved with Pearson correlation: 0.8172\n",
      "Epoch [31/100]\n",
      "Training Loss: 0.0016\n",
      "Validation Pearson Correlation: 0.8120\n"
     ]
    },
    {
     "name": "stderr",
     "output_type": "stream",
     "text": [
      "Epoch 32/100: 100%|██████████| 143/143 [00:14<00:00, 10.14it/s]\n"
     ]
    },
    {
     "name": "stdout",
     "output_type": "stream",
     "text": [
      "Model saved with Pearson correlation: 0.8172\n",
      "Epoch [32/100]\n",
      "Training Loss: 0.0015\n",
      "Validation Pearson Correlation: 0.8076\n"
     ]
    },
    {
     "name": "stderr",
     "output_type": "stream",
     "text": [
      "Epoch 33/100: 100%|██████████| 143/143 [00:10<00:00, 14.03it/s]\n"
     ]
    },
    {
     "name": "stdout",
     "output_type": "stream",
     "text": [
      "Model saved with Pearson correlation: 0.8172\n",
      "Epoch [33/100]\n",
      "Training Loss: 0.0014\n",
      "Validation Pearson Correlation: 0.8147\n"
     ]
    },
    {
     "name": "stderr",
     "output_type": "stream",
     "text": [
      "Epoch 34/100: 100%|██████████| 143/143 [00:08<00:00, 16.07it/s]\n"
     ]
    },
    {
     "name": "stdout",
     "output_type": "stream",
     "text": [
      "Model saved with Pearson correlation: 0.8172\n",
      "Epoch [34/100]\n",
      "Training Loss: 0.0014\n",
      "Validation Pearson Correlation: 0.8115\n"
     ]
    },
    {
     "name": "stderr",
     "output_type": "stream",
     "text": [
      "Epoch 35/100: 100%|██████████| 143/143 [00:12<00:00, 11.51it/s]\n"
     ]
    },
    {
     "name": "stdout",
     "output_type": "stream",
     "text": [
      "Model saved with Pearson correlation: 0.8172\n",
      "Epoch [35/100]\n",
      "Training Loss: 0.0013\n",
      "Validation Pearson Correlation: 0.8115\n"
     ]
    },
    {
     "name": "stderr",
     "output_type": "stream",
     "text": [
      "Epoch 36/100: 100%|██████████| 143/143 [00:13<00:00, 10.76it/s]\n"
     ]
    },
    {
     "name": "stdout",
     "output_type": "stream",
     "text": [
      "Model saved with Pearson correlation: 0.8172\n",
      "Epoch [36/100]\n",
      "Training Loss: 0.0012\n",
      "Validation Pearson Correlation: 0.8140\n"
     ]
    },
    {
     "name": "stderr",
     "output_type": "stream",
     "text": [
      "Epoch 37/100: 100%|██████████| 143/143 [00:10<00:00, 14.11it/s]\n"
     ]
    },
    {
     "name": "stdout",
     "output_type": "stream",
     "text": [
      "Model saved with Pearson correlation: 0.8172\n",
      "Epoch [37/100]\n",
      "Training Loss: 0.0011\n",
      "Validation Pearson Correlation: 0.8161\n"
     ]
    },
    {
     "name": "stderr",
     "output_type": "stream",
     "text": [
      "Epoch 38/100: 100%|██████████| 143/143 [00:11<00:00, 12.50it/s]\n"
     ]
    },
    {
     "name": "stdout",
     "output_type": "stream",
     "text": [
      "Model saved with Pearson correlation: 0.8172\n",
      "Epoch [38/100]\n",
      "Training Loss: 0.0011\n",
      "Validation Pearson Correlation: 0.8124\n"
     ]
    },
    {
     "name": "stderr",
     "output_type": "stream",
     "text": [
      "Epoch 39/100: 100%|██████████| 143/143 [00:14<00:00,  9.82it/s]\n"
     ]
    },
    {
     "name": "stdout",
     "output_type": "stream",
     "text": [
      "Model saved with Pearson correlation: 0.8172\n",
      "Epoch [39/100]\n",
      "Training Loss: 0.0012\n",
      "Validation Pearson Correlation: 0.8148\n"
     ]
    },
    {
     "name": "stderr",
     "output_type": "stream",
     "text": [
      "Epoch 40/100: 100%|██████████| 143/143 [00:13<00:00, 10.38it/s]\n"
     ]
    },
    {
     "name": "stdout",
     "output_type": "stream",
     "text": [
      "Model saved with Pearson correlation: 0.8172\n",
      "Epoch [40/100]\n",
      "Training Loss: 0.0013\n",
      "Validation Pearson Correlation: 0.8136\n"
     ]
    },
    {
     "name": "stderr",
     "output_type": "stream",
     "text": [
      "Epoch 41/100: 100%|██████████| 143/143 [00:09<00:00, 15.58it/s]\n"
     ]
    },
    {
     "name": "stdout",
     "output_type": "stream",
     "text": [
      "Model saved with Pearson correlation: 0.8172\n",
      "Epoch [41/100]\n",
      "Training Loss: 0.0011\n",
      "Validation Pearson Correlation: 0.8089\n"
     ]
    },
    {
     "name": "stderr",
     "output_type": "stream",
     "text": [
      "Epoch 42/100: 100%|██████████| 143/143 [00:13<00:00, 10.75it/s]\n"
     ]
    },
    {
     "name": "stdout",
     "output_type": "stream",
     "text": [
      "Model saved with Pearson correlation: 0.8172\n",
      "Epoch [42/100]\n",
      "Training Loss: 0.0013\n",
      "Validation Pearson Correlation: 0.8090\n"
     ]
    },
    {
     "name": "stderr",
     "output_type": "stream",
     "text": [
      "Epoch 43/100: 100%|██████████| 143/143 [00:13<00:00, 10.58it/s]\n"
     ]
    },
    {
     "name": "stdout",
     "output_type": "stream",
     "text": [
      "----------------------------------------------------------------\n",
      "        Layer (type)               Output Shape         Param #\n",
      "================================================================\n",
      "            Conv1d-1               [-1, 32, 56]           3,392\n",
      "              ReLU-2               [-1, 32, 56]               0\n",
      "            Conv1d-3               [-1, 32, 56]          21,536\n",
      "              ReLU-4               [-1, 32, 56]               0\n",
      "            Conv1d-5               [-1, 32, 56]          21,536\n",
      "              ReLU-6               [-1, 32, 56]               0\n",
      "            Linear-7                  [-1, 128]         229,504\n",
      "              ReLU-8                  [-1, 128]               0\n",
      "            Linear-9                   [-1, 32]           4,128\n",
      "             ReLU-10                   [-1, 32]               0\n",
      "           Linear-11                    [-1, 1]              33\n",
      "================================================================\n",
      "Total params: 280,129\n",
      "Trainable params: 280,129\n",
      "Non-trainable params: 0\n",
      "----------------------------------------------------------------\n",
      "Input size (MB): 0.00\n",
      "Forward/backward pass size (MB): 0.08\n",
      "Params size (MB): 1.07\n",
      "Estimated Total Size (MB): 1.15\n",
      "----------------------------------------------------------------\n",
      "Model saved with Pearson correlation: 0.8172\n",
      "Epoch [43/100]\n",
      "Training Loss: 0.0012\n",
      "Validation Pearson Correlation: 0.8172\n"
     ]
    },
    {
     "name": "stderr",
     "output_type": "stream",
     "text": [
      "Epoch 44/100: 100%|██████████| 143/143 [00:11<00:00, 12.97it/s]\n"
     ]
    },
    {
     "name": "stdout",
     "output_type": "stream",
     "text": [
      "Model saved with Pearson correlation: 0.8172\n",
      "Epoch [44/100]\n",
      "Training Loss: 0.0012\n",
      "Validation Pearson Correlation: 0.8128\n"
     ]
    },
    {
     "name": "stderr",
     "output_type": "stream",
     "text": [
      "Epoch 45/100: 100%|██████████| 143/143 [00:10<00:00, 13.79it/s]\n"
     ]
    },
    {
     "name": "stdout",
     "output_type": "stream",
     "text": [
      "----------------------------------------------------------------\n",
      "        Layer (type)               Output Shape         Param #\n",
      "================================================================\n",
      "            Conv1d-1               [-1, 32, 56]           3,392\n",
      "              ReLU-2               [-1, 32, 56]               0\n",
      "            Conv1d-3               [-1, 32, 56]          21,536\n",
      "              ReLU-4               [-1, 32, 56]               0\n",
      "            Conv1d-5               [-1, 32, 56]          21,536\n",
      "              ReLU-6               [-1, 32, 56]               0\n",
      "            Linear-7                  [-1, 128]         229,504\n",
      "              ReLU-8                  [-1, 128]               0\n",
      "            Linear-9                   [-1, 32]           4,128\n",
      "             ReLU-10                   [-1, 32]               0\n",
      "           Linear-11                    [-1, 1]              33\n",
      "================================================================\n",
      "Total params: 280,129\n",
      "Trainable params: 280,129\n",
      "Non-trainable params: 0\n",
      "----------------------------------------------------------------\n",
      "Input size (MB): 0.00\n",
      "Forward/backward pass size (MB): 0.08\n",
      "Params size (MB): 1.07\n",
      "Estimated Total Size (MB): 1.15\n",
      "----------------------------------------------------------------\n",
      "Model saved with Pearson correlation: 0.8173\n",
      "Epoch [45/100]\n",
      "Training Loss: 0.0010\n",
      "Validation Pearson Correlation: 0.8173\n"
     ]
    },
    {
     "name": "stderr",
     "output_type": "stream",
     "text": [
      "Epoch 46/100: 100%|██████████| 143/143 [00:13<00:00, 10.60it/s]\n"
     ]
    },
    {
     "name": "stdout",
     "output_type": "stream",
     "text": [
      "----------------------------------------------------------------\n",
      "        Layer (type)               Output Shape         Param #\n",
      "================================================================\n",
      "            Conv1d-1               [-1, 32, 56]           3,392\n",
      "              ReLU-2               [-1, 32, 56]               0\n",
      "            Conv1d-3               [-1, 32, 56]          21,536\n",
      "              ReLU-4               [-1, 32, 56]               0\n",
      "            Conv1d-5               [-1, 32, 56]          21,536\n",
      "              ReLU-6               [-1, 32, 56]               0\n",
      "            Linear-7                  [-1, 128]         229,504\n",
      "              ReLU-8                  [-1, 128]               0\n",
      "            Linear-9                   [-1, 32]           4,128\n",
      "             ReLU-10                   [-1, 32]               0\n",
      "           Linear-11                    [-1, 1]              33\n",
      "================================================================\n",
      "Total params: 280,129\n",
      "Trainable params: 280,129\n",
      "Non-trainable params: 0\n",
      "----------------------------------------------------------------\n",
      "Input size (MB): 0.00\n",
      "Forward/backward pass size (MB): 0.08\n",
      "Params size (MB): 1.07\n",
      "Estimated Total Size (MB): 1.15\n",
      "----------------------------------------------------------------\n",
      "Model saved with Pearson correlation: 0.8208\n",
      "Epoch [46/100]\n",
      "Training Loss: 0.0009\n",
      "Validation Pearson Correlation: 0.8208\n"
     ]
    },
    {
     "name": "stderr",
     "output_type": "stream",
     "text": [
      "Epoch 47/100: 100%|██████████| 143/143 [00:14<00:00, 10.13it/s]\n"
     ]
    },
    {
     "name": "stdout",
     "output_type": "stream",
     "text": [
      "Model saved with Pearson correlation: 0.8208\n",
      "Epoch [47/100]\n",
      "Training Loss: 0.0008\n",
      "Validation Pearson Correlation: 0.8164\n"
     ]
    },
    {
     "name": "stderr",
     "output_type": "stream",
     "text": [
      "Epoch 48/100: 100%|██████████| 143/143 [00:07<00:00, 18.22it/s]\n"
     ]
    },
    {
     "name": "stdout",
     "output_type": "stream",
     "text": [
      "Model saved with Pearson correlation: 0.8208\n",
      "Epoch [48/100]\n",
      "Training Loss: 0.0006\n",
      "Validation Pearson Correlation: 0.8181\n"
     ]
    },
    {
     "name": "stderr",
     "output_type": "stream",
     "text": [
      "Epoch 49/100: 100%|██████████| 143/143 [00:12<00:00, 11.36it/s]\n"
     ]
    },
    {
     "name": "stdout",
     "output_type": "stream",
     "text": [
      "Model saved with Pearson correlation: 0.8208\n",
      "Epoch [49/100]\n",
      "Training Loss: 0.0006\n",
      "Validation Pearson Correlation: 0.8180\n"
     ]
    },
    {
     "name": "stderr",
     "output_type": "stream",
     "text": [
      "Epoch 50/100: 100%|██████████| 143/143 [00:13<00:00, 10.55it/s]\n"
     ]
    },
    {
     "name": "stdout",
     "output_type": "stream",
     "text": [
      "Model saved with Pearson correlation: 0.8208\n",
      "Epoch [50/100]\n",
      "Training Loss: 0.0007\n",
      "Validation Pearson Correlation: 0.8146\n"
     ]
    },
    {
     "name": "stderr",
     "output_type": "stream",
     "text": [
      "Epoch 51/100: 100%|██████████| 143/143 [00:12<00:00, 11.83it/s]\n"
     ]
    },
    {
     "name": "stdout",
     "output_type": "stream",
     "text": [
      "----------------------------------------------------------------\n",
      "        Layer (type)               Output Shape         Param #\n",
      "================================================================\n",
      "            Conv1d-1               [-1, 32, 56]           3,392\n",
      "              ReLU-2               [-1, 32, 56]               0\n",
      "            Conv1d-3               [-1, 32, 56]          21,536\n",
      "              ReLU-4               [-1, 32, 56]               0\n",
      "            Conv1d-5               [-1, 32, 56]          21,536\n",
      "              ReLU-6               [-1, 32, 56]               0\n",
      "            Linear-7                  [-1, 128]         229,504\n",
      "              ReLU-8                  [-1, 128]               0\n",
      "            Linear-9                   [-1, 32]           4,128\n",
      "             ReLU-10                   [-1, 32]               0\n",
      "           Linear-11                    [-1, 1]              33\n",
      "================================================================\n",
      "Total params: 280,129\n",
      "Trainable params: 280,129\n",
      "Non-trainable params: 0\n",
      "----------------------------------------------------------------\n",
      "Input size (MB): 0.00\n",
      "Forward/backward pass size (MB): 0.08\n",
      "Params size (MB): 1.07\n",
      "Estimated Total Size (MB): 1.15\n",
      "----------------------------------------------------------------\n",
      "Model saved with Pearson correlation: 0.8216\n",
      "Epoch [51/100]\n",
      "Training Loss: 0.0009\n",
      "Validation Pearson Correlation: 0.8216\n"
     ]
    },
    {
     "name": "stderr",
     "output_type": "stream",
     "text": [
      "Epoch 52/100: 100%|██████████| 143/143 [00:08<00:00, 16.12it/s]\n"
     ]
    },
    {
     "name": "stdout",
     "output_type": "stream",
     "text": [
      "Model saved with Pearson correlation: 0.8216\n",
      "Epoch [52/100]\n",
      "Training Loss: 0.0011\n",
      "Validation Pearson Correlation: 0.8132\n"
     ]
    },
    {
     "name": "stderr",
     "output_type": "stream",
     "text": [
      "Epoch 53/100: 100%|██████████| 143/143 [00:14<00:00, 10.14it/s]\n"
     ]
    },
    {
     "name": "stdout",
     "output_type": "stream",
     "text": [
      "Model saved with Pearson correlation: 0.8216\n",
      "Epoch [53/100]\n",
      "Training Loss: 0.0012\n",
      "Validation Pearson Correlation: 0.8148\n"
     ]
    },
    {
     "name": "stderr",
     "output_type": "stream",
     "text": [
      "Epoch 54/100: 100%|██████████| 143/143 [00:10<00:00, 14.07it/s]\n"
     ]
    },
    {
     "name": "stdout",
     "output_type": "stream",
     "text": [
      "Model saved with Pearson correlation: 0.8216\n",
      "Epoch [54/100]\n",
      "Training Loss: 0.0010\n",
      "Validation Pearson Correlation: 0.8192\n"
     ]
    },
    {
     "name": "stderr",
     "output_type": "stream",
     "text": [
      "Epoch 55/100: 100%|██████████| 143/143 [00:03<00:00, 38.26it/s]\n"
     ]
    },
    {
     "name": "stdout",
     "output_type": "stream",
     "text": [
      "Model saved with Pearson correlation: 0.8216\n",
      "Epoch [55/100]\n",
      "Training Loss: 0.0010\n",
      "Validation Pearson Correlation: 0.8174\n"
     ]
    },
    {
     "name": "stderr",
     "output_type": "stream",
     "text": [
      "Epoch 56/100: 100%|██████████| 143/143 [00:02<00:00, 59.29it/s]\n"
     ]
    },
    {
     "name": "stdout",
     "output_type": "stream",
     "text": [
      "Model saved with Pearson correlation: 0.8216\n",
      "Epoch [56/100]\n",
      "Training Loss: 0.0010\n",
      "Validation Pearson Correlation: 0.8132\n"
     ]
    },
    {
     "name": "stderr",
     "output_type": "stream",
     "text": [
      "Epoch 57/100: 100%|██████████| 143/143 [00:02<00:00, 59.84it/s]\n"
     ]
    },
    {
     "name": "stdout",
     "output_type": "stream",
     "text": [
      "Model saved with Pearson correlation: 0.8216\n",
      "Epoch [57/100]\n",
      "Training Loss: 0.0008\n",
      "Validation Pearson Correlation: 0.8196\n"
     ]
    },
    {
     "name": "stderr",
     "output_type": "stream",
     "text": [
      "Epoch 58/100: 100%|██████████| 143/143 [00:02<00:00, 59.67it/s]\n"
     ]
    },
    {
     "name": "stdout",
     "output_type": "stream",
     "text": [
      "----------------------------------------------------------------\n",
      "        Layer (type)               Output Shape         Param #\n",
      "================================================================\n",
      "            Conv1d-1               [-1, 32, 56]           3,392\n",
      "              ReLU-2               [-1, 32, 56]               0\n",
      "            Conv1d-3               [-1, 32, 56]          21,536\n",
      "              ReLU-4               [-1, 32, 56]               0\n",
      "            Conv1d-5               [-1, 32, 56]          21,536\n",
      "              ReLU-6               [-1, 32, 56]               0\n",
      "            Linear-7                  [-1, 128]         229,504\n",
      "              ReLU-8                  [-1, 128]               0\n",
      "            Linear-9                   [-1, 32]           4,128\n",
      "             ReLU-10                   [-1, 32]               0\n",
      "           Linear-11                    [-1, 1]              33\n",
      "================================================================\n",
      "Total params: 280,129\n",
      "Trainable params: 280,129\n",
      "Non-trainable params: 0\n",
      "----------------------------------------------------------------\n",
      "Input size (MB): 0.00\n",
      "Forward/backward pass size (MB): 0.08\n",
      "Params size (MB): 1.07\n",
      "Estimated Total Size (MB): 1.15\n",
      "----------------------------------------------------------------\n",
      "Model saved with Pearson correlation: 0.8232\n",
      "Epoch [58/100]\n",
      "Training Loss: 0.0007\n",
      "Validation Pearson Correlation: 0.8232\n"
     ]
    },
    {
     "name": "stderr",
     "output_type": "stream",
     "text": [
      "Epoch 59/100: 100%|██████████| 143/143 [00:02<00:00, 61.95it/s]\n"
     ]
    },
    {
     "name": "stdout",
     "output_type": "stream",
     "text": [
      "Model saved with Pearson correlation: 0.8232\n",
      "Epoch [59/100]\n",
      "Training Loss: 0.0006\n",
      "Validation Pearson Correlation: 0.8206\n"
     ]
    },
    {
     "name": "stderr",
     "output_type": "stream",
     "text": [
      "Epoch 60/100: 100%|██████████| 143/143 [00:02<00:00, 61.32it/s]\n"
     ]
    },
    {
     "name": "stdout",
     "output_type": "stream",
     "text": [
      "Model saved with Pearson correlation: 0.8232\n",
      "Epoch [60/100]\n",
      "Training Loss: 0.0005\n",
      "Validation Pearson Correlation: 0.8215\n"
     ]
    },
    {
     "name": "stderr",
     "output_type": "stream",
     "text": [
      "Epoch 61/100: 100%|██████████| 143/143 [00:10<00:00, 13.74it/s]\n"
     ]
    },
    {
     "name": "stdout",
     "output_type": "stream",
     "text": [
      "Model saved with Pearson correlation: 0.8232\n",
      "Epoch [61/100]\n",
      "Training Loss: 0.0005\n",
      "Validation Pearson Correlation: 0.8198\n"
     ]
    },
    {
     "name": "stderr",
     "output_type": "stream",
     "text": [
      "Epoch 62/100: 100%|██████████| 143/143 [00:12<00:00, 11.66it/s]\n"
     ]
    },
    {
     "name": "stdout",
     "output_type": "stream",
     "text": [
      "Model saved with Pearson correlation: 0.8232\n",
      "Epoch [62/100]\n",
      "Training Loss: 0.0006\n",
      "Validation Pearson Correlation: 0.8174\n"
     ]
    },
    {
     "name": "stderr",
     "output_type": "stream",
     "text": [
      "Epoch 63/100: 100%|██████████| 143/143 [00:12<00:00, 11.11it/s]\n"
     ]
    },
    {
     "name": "stdout",
     "output_type": "stream",
     "text": [
      "Model saved with Pearson correlation: 0.8232\n",
      "Epoch [63/100]\n",
      "Training Loss: 0.0006\n",
      "Validation Pearson Correlation: 0.8232\n"
     ]
    },
    {
     "name": "stderr",
     "output_type": "stream",
     "text": [
      "Epoch 64/100: 100%|██████████| 143/143 [00:11<00:00, 12.94it/s]\n"
     ]
    },
    {
     "name": "stdout",
     "output_type": "stream",
     "text": [
      "Model saved with Pearson correlation: 0.8232\n",
      "Epoch [64/100]\n",
      "Training Loss: 0.0008\n",
      "Validation Pearson Correlation: 0.8218\n"
     ]
    },
    {
     "name": "stderr",
     "output_type": "stream",
     "text": [
      "Epoch 65/100: 100%|██████████| 143/143 [00:10<00:00, 13.09it/s]\n"
     ]
    },
    {
     "name": "stdout",
     "output_type": "stream",
     "text": [
      "----------------------------------------------------------------\n",
      "        Layer (type)               Output Shape         Param #\n",
      "================================================================\n",
      "            Conv1d-1               [-1, 32, 56]           3,392\n",
      "              ReLU-2               [-1, 32, 56]               0\n",
      "            Conv1d-3               [-1, 32, 56]          21,536\n",
      "              ReLU-4               [-1, 32, 56]               0\n",
      "            Conv1d-5               [-1, 32, 56]          21,536\n",
      "              ReLU-6               [-1, 32, 56]               0\n",
      "            Linear-7                  [-1, 128]         229,504\n",
      "              ReLU-8                  [-1, 128]               0\n",
      "            Linear-9                   [-1, 32]           4,128\n",
      "             ReLU-10                   [-1, 32]               0\n",
      "           Linear-11                    [-1, 1]              33\n",
      "================================================================\n",
      "Total params: 280,129\n",
      "Trainable params: 280,129\n",
      "Non-trainable params: 0\n",
      "----------------------------------------------------------------\n",
      "Input size (MB): 0.00\n",
      "Forward/backward pass size (MB): 0.08\n",
      "Params size (MB): 1.07\n",
      "Estimated Total Size (MB): 1.15\n",
      "----------------------------------------------------------------\n",
      "Model saved with Pearson correlation: 0.8246\n",
      "Epoch [65/100]\n",
      "Training Loss: 0.0007\n",
      "Validation Pearson Correlation: 0.8246\n"
     ]
    },
    {
     "name": "stderr",
     "output_type": "stream",
     "text": [
      "Epoch 66/100: 100%|██████████| 143/143 [00:13<00:00, 10.68it/s]\n"
     ]
    },
    {
     "name": "stdout",
     "output_type": "stream",
     "text": [
      "Model saved with Pearson correlation: 0.8246\n",
      "Epoch [66/100]\n",
      "Training Loss: 0.0007\n",
      "Validation Pearson Correlation: 0.8190\n"
     ]
    },
    {
     "name": "stderr",
     "output_type": "stream",
     "text": [
      "Epoch 67/100: 100%|██████████| 143/143 [00:12<00:00, 11.25it/s]\n"
     ]
    },
    {
     "name": "stdout",
     "output_type": "stream",
     "text": [
      "Model saved with Pearson correlation: 0.8246\n",
      "Epoch [67/100]\n",
      "Training Loss: 0.0008\n",
      "Validation Pearson Correlation: 0.8203\n"
     ]
    },
    {
     "name": "stderr",
     "output_type": "stream",
     "text": [
      "Epoch 68/100: 100%|██████████| 143/143 [00:08<00:00, 16.29it/s]\n"
     ]
    },
    {
     "name": "stdout",
     "output_type": "stream",
     "text": [
      "Model saved with Pearson correlation: 0.8246\n",
      "Epoch [68/100]\n",
      "Training Loss: 0.0009\n",
      "Validation Pearson Correlation: 0.8155\n"
     ]
    },
    {
     "name": "stderr",
     "output_type": "stream",
     "text": [
      "Epoch 69/100: 100%|██████████| 143/143 [00:11<00:00, 12.23it/s]\n"
     ]
    },
    {
     "name": "stdout",
     "output_type": "stream",
     "text": [
      "Model saved with Pearson correlation: 0.8246\n",
      "Epoch [69/100]\n",
      "Training Loss: 0.0007\n",
      "Validation Pearson Correlation: 0.8184\n"
     ]
    },
    {
     "name": "stderr",
     "output_type": "stream",
     "text": [
      "Epoch 70/100: 100%|██████████| 143/143 [00:12<00:00, 11.10it/s]\n"
     ]
    },
    {
     "name": "stdout",
     "output_type": "stream",
     "text": [
      "Model saved with Pearson correlation: 0.8246\n",
      "Epoch [70/100]\n",
      "Training Loss: 0.0006\n",
      "Validation Pearson Correlation: 0.8200\n"
     ]
    },
    {
     "name": "stderr",
     "output_type": "stream",
     "text": [
      "Epoch 71/100: 100%|██████████| 143/143 [00:12<00:00, 11.55it/s]\n"
     ]
    },
    {
     "name": "stdout",
     "output_type": "stream",
     "text": [
      "Model saved with Pearson correlation: 0.8246\n",
      "Epoch [71/100]\n",
      "Training Loss: 0.0006\n",
      "Validation Pearson Correlation: 0.8192\n"
     ]
    },
    {
     "name": "stderr",
     "output_type": "stream",
     "text": [
      "Epoch 72/100: 100%|██████████| 143/143 [00:08<00:00, 17.17it/s]\n"
     ]
    },
    {
     "name": "stdout",
     "output_type": "stream",
     "text": [
      "Model saved with Pearson correlation: 0.8246\n",
      "Epoch [72/100]\n",
      "Training Loss: 0.0006\n",
      "Validation Pearson Correlation: 0.8214\n"
     ]
    },
    {
     "name": "stderr",
     "output_type": "stream",
     "text": [
      "Epoch 73/100: 100%|██████████| 143/143 [00:13<00:00, 10.31it/s]\n"
     ]
    },
    {
     "name": "stdout",
     "output_type": "stream",
     "text": [
      "Model saved with Pearson correlation: 0.8246\n",
      "Epoch [73/100]\n",
      "Training Loss: 0.0006\n",
      "Validation Pearson Correlation: 0.8172\n"
     ]
    },
    {
     "name": "stderr",
     "output_type": "stream",
     "text": [
      "Epoch 74/100: 100%|██████████| 143/143 [00:13<00:00, 10.64it/s]\n"
     ]
    },
    {
     "name": "stdout",
     "output_type": "stream",
     "text": [
      "Model saved with Pearson correlation: 0.8246\n",
      "Epoch [74/100]\n",
      "Training Loss: 0.0006\n",
      "Validation Pearson Correlation: 0.8178\n"
     ]
    },
    {
     "name": "stderr",
     "output_type": "stream",
     "text": [
      "Epoch 75/100: 100%|██████████| 143/143 [00:10<00:00, 14.02it/s]\n"
     ]
    },
    {
     "name": "stdout",
     "output_type": "stream",
     "text": [
      "Model saved with Pearson correlation: 0.8246\n",
      "Epoch [75/100]\n",
      "Training Loss: 0.0006\n",
      "Validation Pearson Correlation: 0.8162\n"
     ]
    },
    {
     "name": "stderr",
     "output_type": "stream",
     "text": [
      "Epoch 76/100: 100%|██████████| 143/143 [00:10<00:00, 13.34it/s]\n"
     ]
    },
    {
     "name": "stdout",
     "output_type": "stream",
     "text": [
      "Model saved with Pearson correlation: 0.8246\n",
      "Epoch [76/100]\n",
      "Training Loss: 0.0005\n",
      "Validation Pearson Correlation: 0.8183\n"
     ]
    },
    {
     "name": "stderr",
     "output_type": "stream",
     "text": [
      "Epoch 77/100: 100%|██████████| 143/143 [00:13<00:00, 10.42it/s]\n"
     ]
    },
    {
     "name": "stdout",
     "output_type": "stream",
     "text": [
      "Model saved with Pearson correlation: 0.8246\n",
      "Epoch [77/100]\n",
      "Training Loss: 0.0006\n",
      "Validation Pearson Correlation: 0.8204\n"
     ]
    },
    {
     "name": "stderr",
     "output_type": "stream",
     "text": [
      "Epoch 78/100: 100%|██████████| 143/143 [00:13<00:00, 10.75it/s]\n"
     ]
    },
    {
     "name": "stdout",
     "output_type": "stream",
     "text": [
      "Model saved with Pearson correlation: 0.8246\n",
      "Epoch [78/100]\n",
      "Training Loss: 0.0006\n",
      "Validation Pearson Correlation: 0.8192\n"
     ]
    },
    {
     "name": "stderr",
     "output_type": "stream",
     "text": [
      "Epoch 79/100: 100%|██████████| 143/143 [00:08<00:00, 16.57it/s]\n"
     ]
    },
    {
     "name": "stdout",
     "output_type": "stream",
     "text": [
      "Model saved with Pearson correlation: 0.8246\n",
      "Epoch [79/100]\n",
      "Training Loss: 0.0007\n",
      "Validation Pearson Correlation: 0.8125\n"
     ]
    },
    {
     "name": "stderr",
     "output_type": "stream",
     "text": [
      "Epoch 80/100: 100%|██████████| 143/143 [00:12<00:00, 11.87it/s]\n"
     ]
    },
    {
     "name": "stdout",
     "output_type": "stream",
     "text": [
      "Model saved with Pearson correlation: 0.8246\n",
      "Epoch [80/100]\n",
      "Training Loss: 0.0006\n",
      "Validation Pearson Correlation: 0.8160\n"
     ]
    },
    {
     "name": "stderr",
     "output_type": "stream",
     "text": [
      "Epoch 81/100: 100%|██████████| 143/143 [00:13<00:00, 10.69it/s]\n"
     ]
    },
    {
     "name": "stdout",
     "output_type": "stream",
     "text": [
      "Model saved with Pearson correlation: 0.8246\n",
      "Epoch [81/100]\n",
      "Training Loss: 0.0005\n",
      "Validation Pearson Correlation: 0.8204\n"
     ]
    },
    {
     "name": "stderr",
     "output_type": "stream",
     "text": [
      "Epoch 82/100: 100%|██████████| 143/143 [00:09<00:00, 14.51it/s]\n"
     ]
    },
    {
     "name": "stdout",
     "output_type": "stream",
     "text": [
      "Model saved with Pearson correlation: 0.8246\n",
      "Epoch [82/100]\n",
      "Training Loss: 0.0004\n",
      "Validation Pearson Correlation: 0.8219\n"
     ]
    },
    {
     "name": "stderr",
     "output_type": "stream",
     "text": [
      "Epoch 83/100: 100%|██████████| 143/143 [00:09<00:00, 15.85it/s]\n"
     ]
    },
    {
     "name": "stdout",
     "output_type": "stream",
     "text": [
      "Model saved with Pearson correlation: 0.8246\n",
      "Epoch [83/100]\n",
      "Training Loss: 0.0004\n",
      "Validation Pearson Correlation: 0.8188\n"
     ]
    },
    {
     "name": "stderr",
     "output_type": "stream",
     "text": [
      "Epoch 84/100: 100%|██████████| 143/143 [00:12<00:00, 11.04it/s]\n"
     ]
    },
    {
     "name": "stdout",
     "output_type": "stream",
     "text": [
      "Model saved with Pearson correlation: 0.8246\n",
      "Epoch [84/100]\n",
      "Training Loss: 0.0004\n",
      "Validation Pearson Correlation: 0.8196\n"
     ]
    },
    {
     "name": "stderr",
     "output_type": "stream",
     "text": [
      "Epoch 85/100: 100%|██████████| 143/143 [00:11<00:00, 12.46it/s]\n"
     ]
    },
    {
     "name": "stdout",
     "output_type": "stream",
     "text": [
      "Model saved with Pearson correlation: 0.8246\n",
      "Epoch [85/100]\n",
      "Training Loss: 0.0005\n",
      "Validation Pearson Correlation: 0.8229\n"
     ]
    },
    {
     "name": "stderr",
     "output_type": "stream",
     "text": [
      "Epoch 86/100: 100%|██████████| 143/143 [00:10<00:00, 13.30it/s]\n"
     ]
    },
    {
     "name": "stdout",
     "output_type": "stream",
     "text": [
      "Model saved with Pearson correlation: 0.8246\n",
      "Epoch [86/100]\n",
      "Training Loss: 0.0006\n",
      "Validation Pearson Correlation: 0.8174\n"
     ]
    },
    {
     "name": "stderr",
     "output_type": "stream",
     "text": [
      "Epoch 87/100: 100%|██████████| 143/143 [00:09<00:00, 15.54it/s]\n"
     ]
    },
    {
     "name": "stdout",
     "output_type": "stream",
     "text": [
      "Model saved with Pearson correlation: 0.8246\n",
      "Epoch [87/100]\n",
      "Training Loss: 0.0007\n",
      "Validation Pearson Correlation: 0.8160\n"
     ]
    },
    {
     "name": "stderr",
     "output_type": "stream",
     "text": [
      "Epoch 88/100: 100%|██████████| 143/143 [00:12<00:00, 11.29it/s]\n"
     ]
    },
    {
     "name": "stdout",
     "output_type": "stream",
     "text": [
      "Model saved with Pearson correlation: 0.8246\n",
      "Epoch [88/100]\n",
      "Training Loss: 0.0007\n",
      "Validation Pearson Correlation: 0.8238\n"
     ]
    },
    {
     "name": "stderr",
     "output_type": "stream",
     "text": [
      "Epoch 89/100: 100%|██████████| 143/143 [00:12<00:00, 11.54it/s]\n"
     ]
    },
    {
     "name": "stdout",
     "output_type": "stream",
     "text": [
      "Model saved with Pearson correlation: 0.8246\n",
      "Epoch [89/100]\n",
      "Training Loss: 0.0007\n",
      "Validation Pearson Correlation: 0.8176\n"
     ]
    },
    {
     "name": "stderr",
     "output_type": "stream",
     "text": [
      "Epoch 90/100: 100%|██████████| 143/143 [00:09<00:00, 15.09it/s]\n"
     ]
    },
    {
     "name": "stdout",
     "output_type": "stream",
     "text": [
      "Model saved with Pearson correlation: 0.8246\n",
      "Epoch [90/100]\n",
      "Training Loss: 0.0008\n",
      "Validation Pearson Correlation: 0.8189\n"
     ]
    },
    {
     "name": "stderr",
     "output_type": "stream",
     "text": [
      "Epoch 91/100: 100%|██████████| 143/143 [00:09<00:00, 15.29it/s]\n"
     ]
    },
    {
     "name": "stdout",
     "output_type": "stream",
     "text": [
      "Model saved with Pearson correlation: 0.8246\n",
      "Epoch [91/100]\n",
      "Training Loss: 0.0007\n",
      "Validation Pearson Correlation: 0.8161\n"
     ]
    },
    {
     "name": "stderr",
     "output_type": "stream",
     "text": [
      "Epoch 92/100: 100%|██████████| 143/143 [00:12<00:00, 11.06it/s]\n"
     ]
    },
    {
     "name": "stdout",
     "output_type": "stream",
     "text": [
      "Model saved with Pearson correlation: 0.8246\n",
      "Epoch [92/100]\n",
      "Training Loss: 0.0005\n",
      "Validation Pearson Correlation: 0.8176\n"
     ]
    },
    {
     "name": "stderr",
     "output_type": "stream",
     "text": [
      "Epoch 93/100: 100%|██████████| 143/143 [00:12<00:00, 11.18it/s]\n"
     ]
    },
    {
     "name": "stdout",
     "output_type": "stream",
     "text": [
      "Model saved with Pearson correlation: 0.8246\n",
      "Epoch [93/100]\n",
      "Training Loss: 0.0004\n",
      "Validation Pearson Correlation: 0.8229\n"
     ]
    },
    {
     "name": "stderr",
     "output_type": "stream",
     "text": [
      "Epoch 94/100: 100%|██████████| 143/143 [00:07<00:00, 19.95it/s]\n"
     ]
    },
    {
     "name": "stdout",
     "output_type": "stream",
     "text": [
      "Model saved with Pearson correlation: 0.8246\n",
      "Epoch [94/100]\n",
      "Training Loss: 0.0003\n",
      "Validation Pearson Correlation: 0.8202\n"
     ]
    },
    {
     "name": "stderr",
     "output_type": "stream",
     "text": [
      "Epoch 95/100: 100%|██████████| 143/143 [00:12<00:00, 11.89it/s]\n"
     ]
    },
    {
     "name": "stdout",
     "output_type": "stream",
     "text": [
      "Model saved with Pearson correlation: 0.8246\n",
      "Epoch [95/100]\n",
      "Training Loss: 0.0002\n",
      "Validation Pearson Correlation: 0.8185\n"
     ]
    },
    {
     "name": "stderr",
     "output_type": "stream",
     "text": [
      "Epoch 96/100: 100%|██████████| 143/143 [00:13<00:00, 10.86it/s]\n"
     ]
    },
    {
     "name": "stdout",
     "output_type": "stream",
     "text": [
      "Model saved with Pearson correlation: 0.8246\n",
      "Epoch [96/100]\n",
      "Training Loss: 0.0003\n",
      "Validation Pearson Correlation: 0.8203\n"
     ]
    },
    {
     "name": "stderr",
     "output_type": "stream",
     "text": [
      "Epoch 97/100: 100%|██████████| 143/143 [00:12<00:00, 11.59it/s]\n"
     ]
    },
    {
     "name": "stdout",
     "output_type": "stream",
     "text": [
      "Model saved with Pearson correlation: 0.8246\n",
      "Epoch [97/100]\n",
      "Training Loss: 0.0003\n",
      "Validation Pearson Correlation: 0.8213\n"
     ]
    },
    {
     "name": "stderr",
     "output_type": "stream",
     "text": [
      "Epoch 98/100: 100%|██████████| 143/143 [00:08<00:00, 17.57it/s]\n"
     ]
    },
    {
     "name": "stdout",
     "output_type": "stream",
     "text": [
      "Model saved with Pearson correlation: 0.8246\n",
      "Epoch [98/100]\n",
      "Training Loss: 0.0003\n",
      "Validation Pearson Correlation: 0.8197\n"
     ]
    },
    {
     "name": "stderr",
     "output_type": "stream",
     "text": [
      "Epoch 99/100: 100%|██████████| 143/143 [00:12<00:00, 11.41it/s]\n"
     ]
    },
    {
     "name": "stdout",
     "output_type": "stream",
     "text": [
      "Model saved with Pearson correlation: 0.8246\n",
      "Epoch [99/100]\n",
      "Training Loss: 0.0003\n",
      "Validation Pearson Correlation: 0.8224\n"
     ]
    },
    {
     "name": "stderr",
     "output_type": "stream",
     "text": [
      "Epoch 100/100: 100%|██████████| 143/143 [00:12<00:00, 11.85it/s]\n"
     ]
    },
    {
     "name": "stdout",
     "output_type": "stream",
     "text": [
      "Model saved with Pearson correlation: 0.8246\n",
      "Epoch [100/100]\n",
      "Training Loss: 0.0005\n",
      "Validation Pearson Correlation: 0.8181\n"
     ]
    },
    {
     "data": {
      "text/plain": [
       "<Figure size 640x480 with 0 Axes>"
      ]
     },
     "metadata": {},
     "output_type": "display_data"
    },
    {
     "data": {
      "image/png": "[encoded data removed]",
      "text/plain": [
       "<Figure size 640x480 with 2 Axes>"
      ]
     },
     "metadata": {},
     "output_type": "display_data"
    }
   ],
   "source": [
    "import time\n",
    "from torchsummary import summary\n",
    "import os\n",
    "timestamp = time.strftime('%Y%m%d_%H%M%S')\n",
    "save_dir = f'D:/01IscBML/logfile/{timestamp}/'\n",
    "os.mkdir(save_dir)\n",
    "# Initialize the model, loss function, and optimizer\n",
    "model = LocalCNN(sequence_length = sequence_length)\n",
    "\n",
    "criterion = nn.MSELoss()\n",
    "optimizer = optim.Adam(model.parameters(), lr=0.0005)\n",
    "\n",
    "# Training and validation setup\n",
    "num_epochs = 100  # Adjust as needed\n",
    "\n",
    "# Function to calculate Pearson correlation coefficient\n",
    "def pearson_correlation(predicted, actual):\n",
    "    pred_mean = predicted.mean()\n",
    "    actual_mean = actual.mean()\n",
    "    covariance = ((predicted - pred_mean) * (actual - actual_mean)).sum()\n",
    "    pred_std = ((predicted - pred_mean) ** 2).sum().sqrt()\n",
    "    actual_std = ((actual - actual_mean) ** 2).sum().sqrt()\n",
    "    return (covariance / (pred_std * actual_std)).item()\n",
    "\n",
    "plot_loss = []\n",
    "plot_pearson = []\n",
    "max_r = 0.0\n",
    "for epoch in range(num_epochs):\n",
    "    if epoch == 0:  # Save the architecture only in the first epoch\n",
    "        ## for MLP\n",
    "        input_size = sequence_length * channel\n",
    "        model_architecture = summary(model, input_size=(sequence_length, channel))\n",
    "    model.train()  # Set model to training mode\n",
    "    running_loss = 0.0\n",
    "\n",
    "    train_pearson = 0.0  # To accumulate Pearson correlation coefficient for training\n",
    "    \n",
    "    # Training loop\n",
    "    for batch_features, batch_labels in tqdm(train_dataloader, desc=f\"Epoch {epoch+1}/{num_epochs}\"):\n",
    "        # Move data to appropriate device (e.g., GPU if available)\n",
    "        batch_features, batch_labels = batch_features.to('cpu'), batch_labels.to('cpu')\n",
    "        \n",
    "        # Zero the gradients\n",
    "        optimizer.zero_grad()\n",
    "        \n",
    "        # Forward pass\n",
    "        outputs = model(batch_features)\n",
    "        loss = criterion(outputs, batch_labels)\n",
    "        \n",
    "        # Backward pass\n",
    "        loss.backward()\n",
    "        optimizer.step()\n",
    "        \n",
    "        running_loss += loss.item()\n",
    "        \n",
    "        # Calculate Pearson correlation for the batch\n",
    "        predicted = outputs.squeeze(1)  # Remove singleton dimension\n",
    "        actual = batch_labels.squeeze(1)\n",
    "        train_pearson += pearson_correlation(predicted, actual)\n",
    "\n",
    "    # Compute average training loss and Pearson correlation for the epoch\n",
    "    epoch_loss = running_loss / len(train_dataloader)\n",
    "    plot_loss.append(epoch_loss)\n",
    "    epoch_train_pearson = train_pearson / len(train_dataloader)\n",
    "\n",
    "    # Validation phase\n",
    "    model.eval()  # Set model to evaluation mode\n",
    "    val_pearson = 0.0\n",
    "    with torch.no_grad():\n",
    "        for val_features, val_labels in val_dataloader:  # Use a separate validation DataLoader\n",
    "            val_features, val_labels = val_features.to('cpu'), val_labels.to('cpu')\n",
    "            \n",
    "            val_outputs = model(val_features)\n",
    "            predicted = val_outputs.squeeze(1)\n",
    "            # print(predicted)\n",
    "            actual = val_labels.squeeze(1)\n",
    "            # print(actual)\n",
    "\n",
    "            # Calculate Pearson correlation for the validation set\n",
    "            val_pearson += pearson_correlation(predicted, actual)\n",
    "    \n",
    "    # Compute average validation Pearson correlation for the epoch\n",
    "    epoch_val_pearson = val_pearson / len(val_dataloader)\n",
    "    plot_pearson.append(epoch_val_pearson)\n",
    "\n",
    "    ##save the model and architecture\n",
    "    if epoch_val_pearson > max_r:\n",
    "        max_r = epoch_val_pearson\n",
    "        model_name = model.__class__.__name__\n",
    "        save_model_path = f'{save_dir}{model_name}.pth'\n",
    "        model_architecture = summary(model, input_size=(sequence_length,channel))\n",
    "        torch.save({\n",
    "                    'epoch': epoch,\n",
    "                    'model_state_dict': model.state_dict(),\n",
    "                    # 'optimizer_state_dict': optimizer.state_dict(),\n",
    "                    'loss': loss,\n",
    "                    'architecture': model_architecture,\n",
    "                    }, save_model_path)\n",
    "          \n",
    "    print(f\"Model saved with Pearson correlation: {max_r:.4f}\")\n",
    "\n",
    "    # Print training and validation metrics\n",
    "    print(f\"Epoch [{epoch + 1}/{num_epochs}]\")\n",
    "    print(f\"Training Loss: {epoch_loss:.4f}\")\n",
    "    print(f\"Validation Pearson Correlation: {epoch_val_pearson:.4f}\")\n",
    "\n",
    "plt.figure()\n",
    "# plt.switch_backend('agg')\n",
    "fig, ax1 = plt.subplots()\n",
    "\n",
    "# model.predict()\n",
    "\n",
    "ax1.set_xlabel('Epochs')\n",
    "ax1.set_ylabel('Training Loss', color='r')\n",
    "ax1.plot(range(num_epochs), plot_loss, 'r', label='Training loss')\n",
    "ax1.tick_params(axis='y', labelcolor='r')\n",
    "\n",
    "ax2 = ax1.twinx()\n",
    "ax2.set_ylabel('Validation Pearson Correlation', color='b')\n",
    "ax2.plot(range(num_epochs), plot_pearson, 'b', label='Validation Pearson Correlation')\n",
    "ax2.tick_params(axis='y', labelcolor='b')\n",
    "\n",
    "ax1.legend(loc='upper left')\n",
    "ax2.legend(loc='upper right')\n",
    "# plt.ylabel('Loss')\n",
    "plt.xlabel('Epochs')\n",
    "plt.legend()\n",
    "# plt.show()\n",
    "file_path = os.path.join(save_dir, 'loss_plot_MLP.png')\n",
    "plt.savefig(file_path)\n"
   ]
  },
  {
   "cell_type": "code",
   "execution_count": 53,
   "metadata": {},
   "outputs": [
    {
     "name": "stdout",
     "output_type": "stream",
     "text": [
      "2097\n"
     ]
    }
   ],
   "source": [
    "#------------------test dataset---------------------\n",
    "from torch.utils.data import random_split, DataLoader\n",
    "\n",
    "test_label_data = FeatureProcessor(file_path='D:/01IscBML/',file_name='./test_reads_del50_keep1700.xlsx').labels_tensor\n",
    "test_combined_features = FeatureProcessor(file_path='D:/01IscBML/',file_name='./test_reads_del50_keep1700.xlsx').combined_features\n",
    "#---------------------Create dataset and dataloader-----------------\n",
    "dataset = TensorDataset(test_combined_features, test_label_data)\n",
    "testset_length = len(dataset)\n",
    "print(testset_length)\n",
    "\n",
    "# Turn shuffle to False if you want to keep the predefined order of the data\n",
    "test_dataloader = DataLoader(dataset, batch_size=testset_length, shuffle=False, drop_last=True)\n",
    "\n"
   ]
  },
  {
   "cell_type": "code",
   "execution_count": 55,
   "metadata": {},
   "outputs": [
    {
     "name": "stdout",
     "output_type": "stream",
     "text": [
      "Average Test Pearson Correlation: 0.9379265308380127\n",
      "Test results saved to 'test_results.csv'.\n"
     ]
    }
   ],
   "source": [
    "###---------test the model----------------\n",
    "import torch\n",
    "import pandas as pd\n",
    "\n",
    "model.eval()\n",
    "\n",
    "# Initialize variables for tracking\n",
    "test_results = []  # To store results for each test sample\n",
    "test_pearson = 0.0\n",
    "\n",
    "with torch.no_grad():  # Disable gradient computation for evaluation\n",
    "    for test_features, test_labels in test_dataloader:  # Use the test DataLoader\n",
    "        # Move data to the appropriate device (e.g., CPU)\n",
    "        test_features, test_labels = test_features.to('cpu'), test_labels.to('cpu')\n",
    "        \n",
    "        # Perform predictions\n",
    "        test_outputs = model(test_features)\n",
    "        predicted = test_outputs.squeeze(1)  # Detach to numpy for processing\n",
    "        actual = test_labels.squeeze(1)\n",
    "\n",
    "        # Store each prediction with its actual label\n",
    "        for pred, act in zip(predicted, actual):\n",
    "            test_results.append({'Predicted': pred.item(), 'Actual': act.item()})\n",
    "        \n",
    "        # Calculate Pearson correlation for this batch\n",
    "        test_pearson += pearson_correlation(predicted, actual)\n",
    "\n",
    "# Compute average test Pearson correlation\n",
    "avg_test_pearson = test_pearson / len(test_dataloader)\n",
    "print(f\"Average Test Pearson Correlation: {avg_test_pearson}\")\n",
    "\n",
    "# Save test results to a DataFrame and export to a CSV file\n",
    "results_df = pd.DataFrame(test_results)\n",
    "test_result_path = f'{save_dir}{timestamp}.csv'\n",
    "test_result_path2 = f'{save_dir}{timestamp}_2.csv'\n",
    "results_df.to_csv(f'{save_dir}{timestamp}.csv', index=False)\n",
    "print(\"Test results saved to 'test_results.csv'.\")\n"
   ]
  },
  {
   "cell_type": "code",
   "execution_count": null,
   "metadata": {},
   "outputs": [],
   "source": []
  },
  {
   "cell_type": "code",
   "execution_count": null,
   "metadata": {},
   "outputs": [],
   "source": [
    "from scipy.stats import pearsonr\n",
    "#output higher efficiency's pearson correlation\n",
    "\n",
    "#open the test result file\n",
    "test_result_2 = pd.read_csv(test_result_path)\n",
    "#filter all the actural value > 0.2\n",
    "test_result_2 = test_result_2[test_result_2['Actual'] > 0.2]\n",
    "test_result_2.to_csv(test_result_path2)\n",
    "\n",
    "predicted_values = test_result_2['Predicted']\n",
    "actual_values = test_result_2['Actual']\n",
    "\n",
    "# Calculate Pearson correlation\n",
    "pearson_corr_2 = pearsonr(predicted_values, actual_values)\n",
    "pearson_correlation_2 = pearson_corr_2[0]\n",
    "print(pearson_correlation_2)"
   ]
  },
  {
   "cell_type": "code",
   "execution_count": null,
   "metadata": {},
   "outputs": [],
   "source": [
    "model_architecture = str(summary(model, input_size=(sequence_length,channel)))\n",
    "print(model_architecture)"
   ]
  },
  {
   "cell_type": "code",
   "execution_count": null,
   "metadata": {},
   "outputs": [],
   "source": []
  },
  {
   "cell_type": "code",
   "execution_count": null,
   "metadata": {},
   "outputs": [],
   "source": [
    "##draw the correlation\n",
    "import os\n",
    "import matplotlib.pyplot as plt\n",
    "from scipy.stats import gaussian_kde\n",
    "import matplotlib.gridspec as gridspec\n",
    "import io\n",
    "import contextlib\n",
    "\n",
    "# Load first dataset\n",
    "test_results_1 = pd.read_csv(test_result_path)\n",
    "actual_1 = test_results_1['Actual'].values\n",
    "predicted_1 = test_results_1['Predicted'].values\n",
    "\n",
    "# Calculate density for first dataset\n",
    "xy_1 = np.vstack([actual_1, predicted_1])\n",
    "density_1 = gaussian_kde(xy_1)(xy_1)\n",
    "sorted_indices_1 = density_1.argsort()\n",
    "actual_sorted_1 = actual_1[sorted_indices_1]\n",
    "predicted_sorted_1 = predicted_1[sorted_indices_1]\n",
    "density_sorted_1 = density_1[sorted_indices_1]\n",
    "\n",
    "# Load second dataset\n",
    "test_results_2 = pd.read_csv(test_result_path2)\n",
    "actual_2 = test_results_2['Actual'].values\n",
    "predicted_2 = test_results_2['Predicted'].values\n",
    "\n",
    "# Calculate density for second dataset\n",
    "xy_2 = np.vstack([actual_2, predicted_2])\n",
    "density_2 = gaussian_kde(xy_2)(xy_2)\n",
    "sorted_indices_2 = density_2.argsort()\n",
    "actual_sorted_2 = actual_2[sorted_indices_2]\n",
    "predicted_sorted_2 = predicted_2[sorted_indices_2]\n",
    "density_sorted_2 = density_2[sorted_indices_2]\n",
    "\n",
    "# Create the plot\n",
    "plt.figure(figsize=(21, 6))\n",
    "gs = gridspec.GridSpec(1, 3, width_ratios=[1.5, 1.5,1])\n",
    "\n",
    "# Plot first dataset\n",
    "scatter_1 = plt.subplot(gs[0, 0])\n",
    "scatter_1 = plt.scatter(\n",
    "    actual_sorted_1,\n",
    "    predicted_sorted_1,\n",
    "    c=density_sorted_1,\n",
    "    cmap='viridis',\n",
    "    s=5,\n",
    "    label='Data Points'\n",
    ")\n",
    "plt.colorbar(scatter_1, label='Density')\n",
    "plt.plot(\n",
    "    np.unique(actual_1),\n",
    "    np.poly1d(np.polyfit(actual_1, predicted_1, 1))(np.unique(actual_1)),\n",
    "    color='red',\n",
    "    linestyle='--',\n",
    "    label='Regression Line'\n",
    ")\n",
    "plt.title('Dataset 1')\n",
    "plt.xlim(-0.07, 1.2)\n",
    "plt.ylim(-0.07, 1.2)\n",
    "\n",
    "# Plot second dataset\n",
    "scatter_2 = plt.subplot(gs[0, 1])\n",
    "scatter_2 = plt.scatter(\n",
    "    actual_sorted_2,\n",
    "    predicted_sorted_2,\n",
    "    c=density_sorted_2,\n",
    "    cmap='viridis',\n",
    "    s=5,\n",
    "    label='Data Points'\n",
    ")\n",
    "plt.colorbar(scatter_2, label='Density')\n",
    "plt.plot(\n",
    "    np.unique(actual_2),\n",
    "    np.poly1d(np.polyfit(actual_2, predicted_2, 1))(np.unique(actual_2)),\n",
    "    color='red',\n",
    "    linestyle='--',\n",
    "    label='Regression Line'\n",
    ")\n",
    "plt.title('Dataset 2')\n",
    "plt.xlim(-0.07, 1.2)\n",
    "plt.ylim(-0.07, 1.2)\n",
    "\n",
    "# Show the plot\n",
    "\n",
    "\n",
    "\n",
    "#####-----------------add the model architecture-----------------\n",
    "buffer = io.StringIO()\n",
    "with contextlib.redirect_stdout(buffer):\n",
    "    summary(model, input_size=(sequence_length,channel))\n",
    "output = buffer.getvalue()\n",
    "\n",
    "ax_text = plt.subplot(gs[0,2])  # Use the second section of the grid\n",
    "ax_text.axis('off')  # Turn off the axes for the text area\n",
    "info_text = f\"Model: {model.__class__.__name__}\\n\" \\\n",
    "            f\"Architecture: {output}\\n\" \\\n",
    "            f\"Test Pearson Correlation: {avg_test_pearson:.4f}\\n\" \\\n",
    "            f\"Test Pearson Correlation2: {pearson_correlation_2:.4f}\\n\" \\\n",
    "            f\"Timestamp: {timestamp}\"\n",
    "plt.tight_layout()\n",
    "plt.subplots_adjust(wspace=0)\n",
    "plt.text(0.02, 0.98, info_text, transform=plt.gca().transAxes, fontsize=8, verticalalignment='top')\n",
    "\n",
    "save_path = os.path.join(save_dir, f\"{timestamp}_{avg_test_pearson:.4f}.png\")\n",
    "plt.savefig(save_dir+f'{timestamp}_{avg_test_pearson:.4f}.png')\n"
   ]
  },
  {
   "cell_type": "code",
   "execution_count": 102,
   "metadata": {},
   "outputs": [],
   "source": [
    "from torchsummary import summary\n",
    "import torch.nn as nn\n",
    "import contextlib\n",
    "import io\n",
    "with open(f\"{save_dir}\"+f\"{timestamp}.txt\", \"w\") as f:\n",
    "    buffer = io.StringIO()\n",
    "    with contextlib.redirect_stdout(buffer):\n",
    "        summary(model, input_size=(sequence_length,channel))\n",
    "    f.write(buffer.getvalue())"
   ]
  },
  {
   "cell_type": "code",
   "execution_count": 37,
   "metadata": {},
   "outputs": [
    {
     "name": "stdout",
     "output_type": "stream",
     "text": [
      "[0]\ttrain-rmse:0.17585\teval-rmse:0.17988\n",
      "[1]\ttrain-rmse:0.17129\teval-rmse:0.17550\n",
      "[2]\ttrain-rmse:0.16731\teval-rmse:0.17155\n",
      "[3]\ttrain-rmse:0.16291\teval-rmse:0.16753\n",
      "[4]\ttrain-rmse:0.15964\teval-rmse:0.16436\n",
      "[5]\ttrain-rmse:0.15605\teval-rmse:0.16120\n",
      "[6]\ttrain-rmse:0.15289\teval-rmse:0.15840\n",
      "[7]\ttrain-rmse:0.15062\teval-rmse:0.15640\n",
      "[8]\ttrain-rmse:0.14830\teval-rmse:0.15430\n",
      "[9]\ttrain-rmse:0.14616\teval-rmse:0.15256\n",
      "[10]\ttrain-rmse:0.14419\teval-rmse:0.15111\n",
      "[11]\ttrain-rmse:0.14260\teval-rmse:0.14984\n",
      "[12]\ttrain-rmse:0.14137\teval-rmse:0.14872\n",
      "[13]\ttrain-rmse:0.13962\teval-rmse:0.14723\n",
      "[14]\ttrain-rmse:0.13814\teval-rmse:0.14610\n",
      "[15]\ttrain-rmse:0.13644\teval-rmse:0.14468\n",
      "[16]\ttrain-rmse:0.13497\teval-rmse:0.14350\n",
      "[17]\ttrain-rmse:0.13370\teval-rmse:0.14260\n",
      "[18]\ttrain-rmse:0.13247\teval-rmse:0.14165\n",
      "[19]\ttrain-rmse:0.13134\teval-rmse:0.14071\n",
      "[20]\ttrain-rmse:0.13032\teval-rmse:0.13990\n",
      "[21]\ttrain-rmse:0.12910\teval-rmse:0.13893\n",
      "[22]\ttrain-rmse:0.12823\teval-rmse:0.13830\n",
      "[23]\ttrain-rmse:0.12726\teval-rmse:0.13767\n",
      "[24]\ttrain-rmse:0.12623\teval-rmse:0.13680\n",
      "[25]\ttrain-rmse:0.12534\teval-rmse:0.13616\n",
      "[26]\ttrain-rmse:0.12459\teval-rmse:0.13552\n",
      "[27]\ttrain-rmse:0.12383\teval-rmse:0.13491\n",
      "[28]\ttrain-rmse:0.12311\teval-rmse:0.13443\n",
      "[29]\ttrain-rmse:0.12236\teval-rmse:0.13412\n",
      "[30]\ttrain-rmse:0.12177\teval-rmse:0.13363\n",
      "[31]\ttrain-rmse:0.12108\teval-rmse:0.13332\n",
      "[32]\ttrain-rmse:0.12053\teval-rmse:0.13290\n",
      "[33]\ttrain-rmse:0.11998\teval-rmse:0.13240\n",
      "[34]\ttrain-rmse:0.11925\teval-rmse:0.13194\n",
      "[35]\ttrain-rmse:0.11855\teval-rmse:0.13146\n",
      "[36]\ttrain-rmse:0.11800\teval-rmse:0.13099\n",
      "[37]\ttrain-rmse:0.11756\teval-rmse:0.13057\n",
      "[38]\ttrain-rmse:0.11692\teval-rmse:0.13013\n",
      "[39]\ttrain-rmse:0.11648\teval-rmse:0.12975\n",
      "[40]\ttrain-rmse:0.11587\teval-rmse:0.12935\n",
      "[41]\ttrain-rmse:0.11525\teval-rmse:0.12904\n",
      "[42]\ttrain-rmse:0.11463\teval-rmse:0.12857\n",
      "[43]\ttrain-rmse:0.11392\teval-rmse:0.12810\n",
      "[44]\ttrain-rmse:0.11351\teval-rmse:0.12786\n",
      "[45]\ttrain-rmse:0.11318\teval-rmse:0.12763\n",
      "[46]\ttrain-rmse:0.11286\teval-rmse:0.12739\n",
      "[47]\ttrain-rmse:0.11222\teval-rmse:0.12706\n",
      "[48]\ttrain-rmse:0.11186\teval-rmse:0.12685\n",
      "[49]\ttrain-rmse:0.11137\teval-rmse:0.12652\n",
      "[50]\ttrain-rmse:0.11101\teval-rmse:0.12639\n",
      "[51]\ttrain-rmse:0.11060\teval-rmse:0.12610\n",
      "[52]\ttrain-rmse:0.11032\teval-rmse:0.12586\n",
      "[53]\ttrain-rmse:0.10993\teval-rmse:0.12561\n",
      "[54]\ttrain-rmse:0.10951\teval-rmse:0.12538\n",
      "[55]\ttrain-rmse:0.10920\teval-rmse:0.12524\n",
      "[56]\ttrain-rmse:0.10877\teval-rmse:0.12501\n",
      "[57]\ttrain-rmse:0.10846\teval-rmse:0.12483\n",
      "[58]\ttrain-rmse:0.10807\teval-rmse:0.12464\n",
      "[59]\ttrain-rmse:0.10765\teval-rmse:0.12440\n",
      "[60]\ttrain-rmse:0.10726\teval-rmse:0.12410\n",
      "[61]\ttrain-rmse:0.10683\teval-rmse:0.12385\n",
      "[62]\ttrain-rmse:0.10649\teval-rmse:0.12380\n",
      "[63]\ttrain-rmse:0.10618\teval-rmse:0.12364\n",
      "[64]\ttrain-rmse:0.10591\teval-rmse:0.12345\n",
      "[65]\ttrain-rmse:0.10554\teval-rmse:0.12337\n",
      "[66]\ttrain-rmse:0.10511\teval-rmse:0.12312\n",
      "[67]\ttrain-rmse:0.10474\teval-rmse:0.12289\n",
      "[68]\ttrain-rmse:0.10427\teval-rmse:0.12275\n",
      "[69]\ttrain-rmse:0.10402\teval-rmse:0.12264\n",
      "[70]\ttrain-rmse:0.10371\teval-rmse:0.12247\n",
      "[71]\ttrain-rmse:0.10339\teval-rmse:0.12231\n",
      "[72]\ttrain-rmse:0.10306\teval-rmse:0.12210\n",
      "[73]\ttrain-rmse:0.10262\teval-rmse:0.12209\n",
      "[74]\ttrain-rmse:0.10223\teval-rmse:0.12195\n",
      "[75]\ttrain-rmse:0.10197\teval-rmse:0.12184\n",
      "[76]\ttrain-rmse:0.10163\teval-rmse:0.12177\n",
      "[77]\ttrain-rmse:0.10134\teval-rmse:0.12165\n",
      "[78]\ttrain-rmse:0.10090\teval-rmse:0.12149\n",
      "[79]\ttrain-rmse:0.10054\teval-rmse:0.12135\n",
      "[80]\ttrain-rmse:0.10015\teval-rmse:0.12122\n",
      "[81]\ttrain-rmse:0.09988\teval-rmse:0.12108\n",
      "[82]\ttrain-rmse:0.09957\teval-rmse:0.12091\n",
      "[83]\ttrain-rmse:0.09919\teval-rmse:0.12082\n",
      "[84]\ttrain-rmse:0.09898\teval-rmse:0.12073\n",
      "[85]\ttrain-rmse:0.09863\teval-rmse:0.12061\n",
      "[86]\ttrain-rmse:0.09831\teval-rmse:0.12046\n",
      "[87]\ttrain-rmse:0.09804\teval-rmse:0.12045\n",
      "[88]\ttrain-rmse:0.09779\teval-rmse:0.12028\n",
      "[89]\ttrain-rmse:0.09750\teval-rmse:0.12012\n",
      "[90]\ttrain-rmse:0.09714\teval-rmse:0.12011\n",
      "[91]\ttrain-rmse:0.09688\teval-rmse:0.12003\n",
      "[92]\ttrain-rmse:0.09659\teval-rmse:0.11999\n",
      "[93]\ttrain-rmse:0.09628\teval-rmse:0.11988\n",
      "[94]\ttrain-rmse:0.09606\teval-rmse:0.11979\n",
      "[95]\ttrain-rmse:0.09570\teval-rmse:0.11961\n",
      "[96]\ttrain-rmse:0.09547\teval-rmse:0.11948\n",
      "[97]\ttrain-rmse:0.09514\teval-rmse:0.11943\n",
      "[98]\ttrain-rmse:0.09495\teval-rmse:0.11934\n",
      "[99]\ttrain-rmse:0.09476\teval-rmse:0.11926\n",
      "Model saved to D:/01IscBML/logfile/20241216_204444/xgboost_model_20241216_204445.model\n",
      "Predictions saved to D:/01IscBML/logfile/20241216_204444/predictions_20241216_204444.csv\n"
     ]
    },
    {
     "name": "stderr",
     "output_type": "stream",
     "text": [
      "C:\\Users\\SHO\\AppData\\Roaming\\Python\\Python310\\site-packages\\xgboost\\core.py:158: UserWarning: [20:44:45] WARNING: C:\\buildkite-agent\\builds\\buildkite-windows-cpu-autoscaling-group-i-0c55ff5f71b100e98-1\\xgboost\\xgboost-ci-windows\\src\\c_api\\c_api.cc:1374: Saving model in the UBJSON format as default.  You can use file extension: `json`, `ubj` or `deprecated` to choose between formats.\n",
      "  warnings.warn(smsg, UserWarning)\n"
     ]
    }
   ],
   "source": [
    "import xgboost as xgb\n",
    "import os\n",
    "import time\n",
    "import numpy as np\n",
    "import pandas as pd\n",
    "import time\n",
    "timestamp = time.strftime('%Y%m%d_%H%M%S')\n",
    "save_dir = f'D:/01IscBML/logfile/{timestamp}/'\n",
    "save_path = os.path.join(save_dir, f'predictions_{timestamp}.csv')\n",
    "os.makedirs(save_dir, exist_ok=True)\n",
    "\n",
    "class XGBoostTrainer:\n",
    "    def __init__(self,save_dir, params=None):\n",
    "        self.save_dir = save_dir\n",
    "        self.params = params or {\n",
    "            'objective': 'reg:squarederror',\n",
    "            'eval_metric': 'rmse',\n",
    "            'max_depth': 6,\n",
    "            'eta': 0.1,\n",
    "            'subsample': 0.8,\n",
    "            'colsample_bytree': 0.8,\n",
    "            'seed': 42\n",
    "        }\n",
    "\n",
    "    def train(self, train_dataloader, val_dataloader):\n",
    "        train_features, train_labels = self._extract_from_dataloader(train_dataloader)\n",
    "        val_features, val_labels = self._extract_from_dataloader(val_dataloader)\n",
    "        # Flatten features if necessary\n",
    "        train_features = train_features.reshape(train_features.shape[0], -1)\n",
    "        val_features = val_features.reshape(val_features.shape[0], -1)\n",
    "\n",
    "        # # Reshape labels\n",
    "        # train_labels = train_labels.ravel()\n",
    "        # val_labels = val_labels.ravel()\n",
    "\n",
    "        # Convert to DMatrix\n",
    "        dtrain = xgb.DMatrix(train_features, label=train_labels)\n",
    "        dval = xgb.DMatrix(val_features, label=val_labels)\n",
    "\n",
    "        # Train model\n",
    "        evals = [(dtrain, 'train'), (dval, 'eval')]\n",
    "        model = xgb.train(\n",
    "            self.params,\n",
    "            dtrain,\n",
    "            num_boost_round=100,\n",
    "            evals=evals,\n",
    "            verbose_eval=True\n",
    "        )\n",
    "\n",
    "        # Save model\n",
    "        timestamp = time.strftime('%Y%m%d_%H%M%S')\n",
    "        save_path = os.path.join(self.save_dir, f'xgboost_model_{timestamp}.model')\n",
    "        model.save_model(save_path)\n",
    "        print(f\"Model saved to {save_path}\")\n",
    "\n",
    "        return model\n",
    "\n",
    "    def predict(self, model, test_dataloader):\n",
    "        test_features, test_labels = self._extract_from_dataloader(test_dataloader)\n",
    "        test_features = test_features.reshape(test_features.shape[0], -1)  # Flatten features\n",
    "\n",
    "        # Convert to DMatrix\n",
    "        dtest = xgb.DMatrix(test_features)\n",
    "        predictions = model.predict(dtest)\n",
    "\n",
    "        # Save predictions and actual labels to an Excel file\n",
    "        timestamp = time.strftime('%Y%m%d_%H%M%S')\n",
    "        \n",
    "        df = pd.DataFrame({\n",
    "            'Actual': test_labels.ravel(),\n",
    "            'Predicted': predictions\n",
    "        })\n",
    "        df.to_csv(save_path, index=False)\n",
    "        print(f\"Predictions saved to {save_path}\")\n",
    "\n",
    "        return predictions\n",
    "\n",
    "    def _extract_from_dataloader(self, dataloader):\n",
    "        features = []\n",
    "        labels = []\n",
    "        for batch in dataloader:\n",
    "            features.append(batch[0].numpy())\n",
    "            labels.append(batch[1].numpy())\n",
    "        return np.vstack(features), np.vstack(labels)\n",
    "    ###chatgpt previously mistook the vstack as hstack, which cannot work because of wrong alignment.\n",
    "    ##but why hstack will cause misalignment?\n",
    "# Example usage\n",
    "timestamp = time.strftime('%Y%m%d_%H%M%S')\n",
    "\n",
    "# Initialize and train model\n",
    "trainer = XGBoostTrainer(save_dir=save_dir)\n",
    "xgb_model = trainer.train(\n",
    "    train_dataloader=train_dataloader,\n",
    "    val_dataloader=val_dataloader\n",
    ")\n",
    "\n",
    "# Predict using the trained model\n",
    "test_predictions = trainer.predict(xgb_model, test_dataloader=test_dataloader)\n",
    "\n",
    "##draw the correlation\n",
    "\n",
    "\n",
    "\n"
   ]
  },
  {
   "cell_type": "code",
   "execution_count": null,
   "metadata": {},
   "outputs": [],
   "source": []
  },
  {
   "cell_type": "code",
   "execution_count": 30,
   "metadata": {},
   "outputs": [
    {
     "name": "stdout",
     "output_type": "stream",
     "text": [
      "Pearson correlation: 0.7560\n"
     ]
    },
    {
     "data": {
      "image/png": "[encoded data removed]",
      "text/plain": [
       "<Figure size 800x600 with 2 Axes>"
      ]
     },
     "metadata": {},
     "output_type": "display_data"
    }
   ],
   "source": [
    "import os\n",
    "import matplotlib.pyplot as plt\n",
    "from scipy.stats import gaussian_kde\n",
    "import matplotlib.gridspec as gridspec\n",
    "import io\n",
    "import contextlib\n",
    "\n",
    "import pandas as pd\n",
    "import numpy as np\n",
    "import matplotlib.pyplot as plt\n",
    "from scipy.stats import gaussian_kde\n",
    "from scipy.stats import pearsonr\n",
    "\n",
    "# Load dataset\n",
    "data = pd.read_csv(save_path)\n",
    "predicted = data['Predicted'].values\n",
    "actual = data['Actual']\n",
    "pearson_r = pearsonr(actual, predicted)[0]\n",
    "print(f\"Pearson correlation: {pearson_r:.4f}\")\n",
    "\n",
    "# Calculate density using Gaussian KDE\n",
    "xy = np.vstack([actual, predicted])\n",
    "density = gaussian_kde(xy)(xy)\n",
    "\n",
    "# Sort points by density for better visualization\n",
    "sorted_indices = density.argsort()\n",
    "actual_sorted = actual[sorted_indices]\n",
    "predicted_sorted = predicted[sorted_indices]\n",
    "density_sorted = density[sorted_indices]\n",
    "\n",
    "# Create scatter plot\n",
    "plt.figure(figsize=(8, 6))\n",
    "scatter = plt.scatter(\n",
    "    actual_sorted,\n",
    "    predicted_sorted,\n",
    "    c=density_sorted,\n",
    "    cmap='viridis',\n",
    "    s=10\n",
    ")\n",
    "plt.colorbar(scatter, label='Density')\n",
    "plt.plot(\n",
    "    np.unique(actual),\n",
    "    np.poly1d(np.polyfit(actual, predicted, 1))(np.unique(actual)),\n",
    "    color='red',\n",
    "    linestyle='--',\n",
    "    label='Regression Line'\n",
    ")\n",
    "plt.title('Scatter Plot with Gaussian KDE Density')\n",
    "plt.xlabel('Actual')\n",
    "plt.ylabel('Predicted')\n",
    "plt.legend()\n",
    "plt.xlim(-0.1, 1.1)\n",
    "plt.ylim(-0.1, 1.1)\n",
    "plt.grid(alpha=0.5)\n",
    "plt.show()\n"
   ]
  },
  {
   "cell_type": "code",
   "execution_count": null,
   "metadata": {},
   "outputs": [],
   "source": []
  }
 ],
 "metadata": {
  "kernelspec": {
   "display_name": "Python 3",
   "language": "python",
   "name": "python3"
  },
  "language_info": {
   "codemirror_mode": {
    "name": "ipython",
    "version": 3
   },
   "file_extension": ".py",
   "mimetype": "text/x-python",
   "name": "python",
   "nbconvert_exporter": "python",
   "pygments_lexer": "ipython3",
   "version": "3.10.5"
  }
 },
 "nbformat": 4,
 "nbformat_minor": 2
}
