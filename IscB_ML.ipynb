{
 "cells": [
  {
   "cell_type": "code",
   "execution_count": 162,
   "metadata": {},
   "outputs": [],
   "source": [
    "import numpy as np \n",
    "import torch \n",
    "from torch.utils.data import TensorDataset,Dataset,DataLoader,random_split\n",
    "import pandas as pd\n",
    "from tqdm import tqdm\n",
    "\n",
    "import pandas as pd\n",
    "import torch\n",
    "from torch.utils.data import DataLoader, TensorDataset\n",
    "import torch.nn as nn\n",
    "import torch.optim as optim\n",
    "import matplotlib.pyplot as plt"
   ]
  },
  {
   "cell_type": "code",
   "execution_count": 163,
   "metadata": {},
   "outputs": [],
   "source": [
    "#----------------------Load the Excel file-----------------------\n",
    "def load_data(file_path, sheet_name):\n",
    "    sheet_name = sheet_name\n",
    "    df = pd.read_excel(file_path, sheet_name=sheet_name)\n",
    "    index_tensor = (df['A_position_counted_from_5_end_of_gRNA'] + 20).astype(int) \n",
    "    return df, index_tensor"
   ]
  },
  {
   "cell_type": "code",
   "execution_count": 164,
   "metadata": {},
   "outputs": [],
   "source": [
    "import pandas as pd\n",
    "import torch\n",
    "\n",
    "class FeatureProcessor:\n",
    "    def __init__(self, file_path='D:/01IscBML/', file_name = 'train.xlsx'):\n",
    "        self.category_map = {'A': 0, 'T': 1, 'C': 2, 'G': 3}\n",
    "        self.data_path = file_path + file_name\n",
    "        self.df, self.index_tensor = self.load_data(self.data_path)  # load the df and index tensor as self attributes\n",
    "        self.combined_features, self.sequence_length = self.feature_processing()\n",
    "        self.labels_tensor = self.label()\n",
    "\n",
    "    def __len__(self):\n",
    "        return len(self.df.shape[0])\n",
    "\n",
    "    def load_data(self, data_path):\n",
    "        df = pd.read_excel(data_path)\n",
    "        index_tensor = (df['A_position_counted_from_5_end_of_gRNA'] + 20).astype(int)-1 # Warning: 0-indexed\n",
    "        return df, index_tensor\n",
    "\n",
    "    def sequence_to_one_hot(self, sequence, categories=\"ATCG\"):\n",
    "        category_map = {char: idx for idx, char in enumerate(categories)}\n",
    "        one_hot = []\n",
    "        for char in sequence:\n",
    "            one_hot_char = [0] * len(categories)\n",
    "            if char in category_map:\n",
    "                one_hot_char[category_map[char]] = 1\n",
    "            one_hot.append(one_hot_char)\n",
    "        return one_hot\n",
    "\n",
    "    def feature_processing(self):\n",
    "        sequence_data = self.df['Target_Site_sequence']\n",
    "        sequence_length = len(sequence_data.iloc[0])\n",
    "        one_hot_features = sequence_data.apply(self.sequence_to_one_hot)\n",
    "\n",
    "        features_tensor = torch.tensor(list(one_hot_features), dtype=torch.float32)\n",
    "\n",
    "        index_one_hot_features = []\n",
    "        for idx in self.index_tensor:\n",
    "            index_one_hot = [0] * sequence_length\n",
    "            if 0 <= idx < sequence_length:\n",
    "                index_one_hot[idx] = 1\n",
    "            index_one_hot_features.append(index_one_hot)\n",
    "\n",
    "        index_one_hot_tensor = torch.tensor(index_one_hot_features, dtype=torch.float32).unsqueeze(2)\n",
    "\n",
    "        combined_features = torch.cat((features_tensor, index_one_hot_tensor), dim=2)\n",
    "        return combined_features, sequence_length\n",
    "    \n",
    "    def label(self):\n",
    "        #---------------------Prepare labels tensor-----------------------\n",
    "        labels_tensor = torch.tensor(self.df['a-to-g(%)'].values/100, dtype=torch.float32).unsqueeze(1)  # Add a dimension for labels\n",
    "        return labels_tensor\n",
    "    \n",
    "\n"
   ]
  },
  {
   "cell_type": "code",
   "execution_count": 165,
   "metadata": {},
   "outputs": [],
   "source": [
    "label_data = FeatureProcessor(file_path='D:/01IscBML/').labels_tensor\n",
    "combined_features = FeatureProcessor(file_path='D:/01IscBML/').combined_features"
   ]
  },
  {
   "cell_type": "code",
   "execution_count": 166,
   "metadata": {},
   "outputs": [],
   "source": [
    "sequence_length = FeatureProcessor(file_path='D:/01IscBML/').sequence_length"
   ]
  },
  {
   "cell_type": "code",
   "execution_count": 167,
   "metadata": {},
   "outputs": [
    {
     "data": {
      "text/plain": [
       "56"
      ]
     },
     "execution_count": 167,
     "metadata": {},
     "output_type": "execute_result"
    }
   ],
   "source": [
    "sequence_length"
   ]
  },
  {
   "cell_type": "code",
   "execution_count": null,
   "metadata": {},
   "outputs": [],
   "source": []
  },
  {
   "cell_type": "code",
   "execution_count": 168,
   "metadata": {},
   "outputs": [],
   "source": [
    "#---------------------Prepare labels tensor-----------------------\n",
    "# labels_tensor = torch.tensor(df['a-to-g(%)'].values/100, dtype=torch.float32).unsqueeze(1)  # Add a dimension for labels\n",
    "\n",
    "#---------------------Create dataset and dataloader-----------------\n",
    "dataset = TensorDataset(combined_features, label_data)\n",
    "\n",
    "# Turn shuffle to False if you want to keep the predefined order of the data\n",
    "dataloader = DataLoader(dataset, batch_size=256, shuffle=False)  # You can adjust the batch size as needed\n",
    "i= 0\n",
    "# #----------------------Example to check batches---------------------\n",
    "# for i, (batch_features, batch_labels) in enumerate(dataloader):\n",
    "#     print(\"Batch\", i)\n",
    "#     print(\"Features Batch Shape:\", batch_features[20,20:36,:])  # (batch_size, sequence_length, channel_size)\n",
    "#     print(\"Labels Batch Shape:\", batch_labels[20])  # (batch_size, 1)\n",
    "#     i+=1\n",
    "#     if i == 2:\n",
    "#         break\n"
   ]
  },
  {
   "cell_type": "code",
   "execution_count": 169,
   "metadata": {},
   "outputs": [],
   "source": [
    "# Define a simple 1D CNN model\n",
    "# class CNN(nn.Module):\n",
    "#     def __init__(self, sequence_length):\n",
    "#         super(CNN, self).__init__()\n",
    "#         self.conv1 = nn.Conv1d(in_channels=5, out_channels=16, kernel_size=3, padding=1)  # Update in_channels to 5\n",
    "#         self.relu = nn.ReLU()\n",
    "#         self.pool = nn.MaxPool1d(kernel_size=2)\n",
    "        \n",
    "#         # Dynamically compute the size of the flattened feature map\n",
    "#         self.flattened_size = 16 * (sequence_length // 2)  # After one max pooling (sequence_length // 2)\n",
    "#         self.fc1 = nn.Linear(self.flattened_size, 1)  # Fully connected layer\n",
    "        \n",
    "#     def forward(self, x):\n",
    "#         x = x.permute(0, 2, 1)  # Change shape to (batch_size, channels, sequence_length)\n",
    "#         x = self.conv1(x)\n",
    "#         x = self.relu(x)\n",
    "#         x = self.pool(x)\n",
    "#         x = x.view(x.size(0), -1)  # Flatten\n",
    "#         x = self.fc1(x)\n",
    "#         return x\n",
    "\n",
    "# class OptimizedCNN(nn.Module):\n",
    "#     def __init__(self, sequence_length):\n",
    "#         super(OptimizedCNN, self).__init__()\n",
    "#         self.conv1 = nn.Conv1d(in_channels=5, out_channels=16, kernel_size=3, padding=1)  # 卷积层\n",
    "#         self.relu = nn.ReLU()\n",
    "        \n",
    "#         # 计算全连接层输入的维度\n",
    "#         self.flattened_size = 16 * sequence_length  # 无池化层时，序列长度不变\n",
    "#         self.fc1 = nn.Linear(self.flattened_size, 1)  # 全连接层\n",
    "\n",
    "#     def forward(self, x):\n",
    "#         x = x.permute(0, 2, 1)  # 调整维度为 (batch_size, channels, sequence_length)\n",
    "#         x = self.conv1(x)\n",
    "#         x = self.relu(x)\n",
    "#         x = x.view(x.size(0), -1)  # 展平\n",
    "#         x = self.fc1(x)\n",
    "#         return x"
   ]
  },
  {
   "cell_type": "code",
   "execution_count": 170,
   "metadata": {},
   "outputs": [],
   "source": [
    "class LocalCNN(nn.Module):\n",
    "    def __init__(self, sequence_length, kernel_size=21):\n",
    "        super(LocalCNN, self).__init__()\n",
    "        self.conv1 = nn.Conv1d(in_channels=5, out_channels=32, kernel_size=kernel_size, padding=kernel_size // 2)\n",
    "        self.conv2 = nn.Conv1d(in_channels=32, out_channels=32, kernel_size=kernel_size, padding=kernel_size // 2)\n",
    "        self.conv3 = nn.Conv1d(in_channels=32, out_channels=32, kernel_size=kernel_size, padding=kernel_size // 2)\n",
    "        self.relu = nn.ReLU()\n",
    "        self.hardtanh = nn.Hardtanh(min_val=0, max_val=1)\n",
    "        # self.clipper = nn.clippedReLU()\n",
    "        self.fc1 = nn.Linear(32 * sequence_length, 128)\n",
    "        self.fc2 = nn.Linear(128, 32)\n",
    "        self.fc3 = nn.Linear(32, 1)\n",
    "\n",
    "    def forward(self, x):\n",
    "        x = x.permute(0, 2, 1)  # Change shape to (batch_size, channels, sequence_length)\n",
    "        x = self.conv1(x)  # Apply convolution\n",
    "        x = self.relu(x)\n",
    "        x = self.conv2(x) # Apply convolution\n",
    "        x = self.relu(x)\n",
    "        x = self.conv3(x)  # Apply convolution\n",
    "        # x = self.relu(x)\n",
    "        x = x.view(x.size(0), -1)  # Flatten for fully connected layer\n",
    "        x = self.fc1(x)\n",
    "        x = self.relu(x)\n",
    "        x = self.fc2(x)\n",
    "        x = self.hardtanh(x)\n",
    "        x = self.fc3(x)\n",
    "        return x\n",
    "\n",
    "\n",
    "class MLP(nn.Module):\n",
    "    def __init__(self, sequence_length):\n",
    "        super(MLP, self).__init__()\n",
    "        input_size = sequence_length * 5  # Flattened input size\n",
    "        hidden_size = 512  # Number of neurons in each hidden layer\n",
    "        self.layers = nn.Sequential(\n",
    "            nn.Linear(input_size, hidden_size),\n",
    "            nn.ReLU(),\n",
    "            nn.Dropout(0.3),  # Add dropout for regularization\n",
    "            nn.Linear(hidden_size, hidden_size),\n",
    "            nn.ReLU(),\n",
    "            nn.Dropout(0.3),\n",
    "            nn.Linear(hidden_size, hidden_size),\n",
    "            nn.ReLU(),\n",
    "            nn.Dropout(0.3),\n",
    "            nn.Linear(hidden_size, 1),  # Final output layer\n",
    "            nn.Hardtanh(min_val=0, max_val=1)\n",
    "        )\n",
    "\n",
    "    def forward(self, x):\n",
    "        x = x.view(x.size(0), -1)  # Flatten input to (batch_size, sequence_length * 5)\n",
    "        x = self.layers(x)\n",
    "        return x"
   ]
  },
  {
   "cell_type": "code",
   "execution_count": 171,
   "metadata": {},
   "outputs": [
    {
     "name": "stdout",
     "output_type": "stream",
     "text": [
      "5576\n",
      "Batch 0\n",
      "Features Batch Shape: torch.Size([256, 56, 5])\n",
      "Labels Batch Shape: torch.Size([256, 1])\n",
      "Batch 1\n",
      "Features Batch Shape: torch.Size([256, 56, 5])\n",
      "Labels Batch Shape: torch.Size([256, 1])\n"
     ]
    }
   ],
   "source": [
    "#------------------split train&validation dataset---------------------\n",
    "from torch.utils.data import random_split, DataLoader\n",
    "\n",
    "dataset_size = len(dataset)\n",
    "train_size = int(0.8 * dataset_size) \n",
    "val_size = dataset_size - train_size  \n",
    "print(val_size)\n",
    "\n",
    "train_dataset, val_dataset = random_split(dataset, [train_size, val_size])\n",
    "\n",
    "train_dataloader = DataLoader(train_dataset, batch_size=256, shuffle=True)\n",
    "val_dataloader = DataLoader(val_dataset, batch_size=val_size, shuffle=False) \n",
    "\n",
    "for i, train_data in enumerate(train_dataloader):\n",
    "    print(\"Batch\", i)\n",
    "    channel = train_data[0].shape[2]\n",
    "    print(\"Features Batch Shape:\", train_data[0].shape)  # (batch_size, sequence_length, channel_size)\n",
    "    print(\"Labels Batch Shape:\", train_data[1].shape)  # (batch_size, 1)\n",
    "    i+=1\n",
    "    if i == 2:\n",
    "        break"
   ]
  },
  {
   "cell_type": "code",
   "execution_count": null,
   "metadata": {},
   "outputs": [],
   "source": []
  },
  {
   "cell_type": "code",
   "execution_count": 172,
   "metadata": {},
   "outputs": [
    {
     "name": "stdout",
     "output_type": "stream",
     "text": [
      "----------------------------------------------------------------\n",
      "        Layer (type)               Output Shape         Param #\n",
      "================================================================\n",
      "            Conv1d-1               [-1, 32, 56]           3,392\n",
      "              ReLU-2               [-1, 32, 56]               0\n",
      "            Conv1d-3               [-1, 32, 56]          21,536\n",
      "              ReLU-4               [-1, 32, 56]               0\n",
      "            Conv1d-5               [-1, 32, 56]          21,536\n",
      "            Linear-6                  [-1, 128]         229,504\n",
      "              ReLU-7                  [-1, 128]               0\n",
      "            Linear-8                   [-1, 32]           4,128\n",
      "          Hardtanh-9                   [-1, 32]               0\n",
      "           Linear-10                    [-1, 1]              33\n",
      "================================================================\n",
      "Total params: 280,129\n",
      "Trainable params: 280,129\n",
      "Non-trainable params: 0\n",
      "----------------------------------------------------------------\n",
      "Input size (MB): 0.00\n",
      "Forward/backward pass size (MB): 0.07\n",
      "Params size (MB): 1.07\n",
      "Estimated Total Size (MB): 1.14\n",
      "----------------------------------------------------------------\n"
     ]
    },
    {
     "name": "stderr",
     "output_type": "stream",
     "text": [
      "Epoch 1/100: 100%|██████████| 88/88 [00:05<00:00, 16.78it/s]\n"
     ]
    },
    {
     "name": "stdout",
     "output_type": "stream",
     "text": [
      "----------------------------------------------------------------\n",
      "        Layer (type)               Output Shape         Param #\n",
      "================================================================\n",
      "            Conv1d-1               [-1, 32, 56]           3,392\n",
      "              ReLU-2               [-1, 32, 56]               0\n",
      "            Conv1d-3               [-1, 32, 56]          21,536\n",
      "              ReLU-4               [-1, 32, 56]               0\n",
      "            Conv1d-5               [-1, 32, 56]          21,536\n",
      "            Linear-6                  [-1, 128]         229,504\n",
      "              ReLU-7                  [-1, 128]               0\n",
      "            Linear-8                   [-1, 32]           4,128\n",
      "          Hardtanh-9                   [-1, 32]               0\n",
      "           Linear-10                    [-1, 1]              33\n",
      "================================================================\n",
      "Total params: 280,129\n",
      "Trainable params: 280,129\n",
      "Non-trainable params: 0\n",
      "----------------------------------------------------------------\n",
      "Input size (MB): 0.00\n",
      "Forward/backward pass size (MB): 0.07\n",
      "Params size (MB): 1.07\n",
      "Estimated Total Size (MB): 1.14\n",
      "----------------------------------------------------------------\n",
      "Model saved with Pearson correlation: 0.7288\n",
      "Epoch [1/100]\n",
      "Training Loss: 0.0237\n",
      "Validation Pearson Correlation: 0.7288\n"
     ]
    },
    {
     "name": "stderr",
     "output_type": "stream",
     "text": [
      "Epoch 2/100: 100%|██████████| 88/88 [00:04<00:00, 18.51it/s]\n"
     ]
    },
    {
     "name": "stdout",
     "output_type": "stream",
     "text": [
      "----------------------------------------------------------------\n",
      "        Layer (type)               Output Shape         Param #\n",
      "================================================================\n",
      "            Conv1d-1               [-1, 32, 56]           3,392\n",
      "              ReLU-2               [-1, 32, 56]               0\n",
      "            Conv1d-3               [-1, 32, 56]          21,536\n",
      "              ReLU-4               [-1, 32, 56]               0\n",
      "            Conv1d-5               [-1, 32, 56]          21,536\n",
      "            Linear-6                  [-1, 128]         229,504\n",
      "              ReLU-7                  [-1, 128]               0\n",
      "            Linear-8                   [-1, 32]           4,128\n",
      "          Hardtanh-9                   [-1, 32]               0\n",
      "           Linear-10                    [-1, 1]              33\n",
      "================================================================\n",
      "Total params: 280,129\n",
      "Trainable params: 280,129\n",
      "Non-trainable params: 0\n",
      "----------------------------------------------------------------\n",
      "Input size (MB): 0.00\n",
      "Forward/backward pass size (MB): 0.07\n",
      "Params size (MB): 1.07\n",
      "Estimated Total Size (MB): 1.14\n",
      "----------------------------------------------------------------\n",
      "Model saved with Pearson correlation: 0.7530\n",
      "Epoch [2/100]\n",
      "Training Loss: 0.0145\n",
      "Validation Pearson Correlation: 0.7530\n"
     ]
    },
    {
     "name": "stderr",
     "output_type": "stream",
     "text": [
      "Epoch 3/100: 100%|██████████| 88/88 [00:05<00:00, 17.22it/s]\n"
     ]
    },
    {
     "name": "stdout",
     "output_type": "stream",
     "text": [
      "----------------------------------------------------------------\n",
      "        Layer (type)               Output Shape         Param #\n",
      "================================================================\n",
      "            Conv1d-1               [-1, 32, 56]           3,392\n",
      "              ReLU-2               [-1, 32, 56]               0\n",
      "            Conv1d-3               [-1, 32, 56]          21,536\n",
      "              ReLU-4               [-1, 32, 56]               0\n",
      "            Conv1d-5               [-1, 32, 56]          21,536\n",
      "            Linear-6                  [-1, 128]         229,504\n",
      "              ReLU-7                  [-1, 128]               0\n",
      "            Linear-8                   [-1, 32]           4,128\n",
      "          Hardtanh-9                   [-1, 32]               0\n",
      "           Linear-10                    [-1, 1]              33\n",
      "================================================================\n",
      "Total params: 280,129\n",
      "Trainable params: 280,129\n",
      "Non-trainable params: 0\n",
      "----------------------------------------------------------------\n",
      "Input size (MB): 0.00\n",
      "Forward/backward pass size (MB): 0.07\n",
      "Params size (MB): 1.07\n",
      "Estimated Total Size (MB): 1.14\n",
      "----------------------------------------------------------------\n",
      "Model saved with Pearson correlation: 0.7870\n",
      "Epoch [3/100]\n",
      "Training Loss: 0.0117\n",
      "Validation Pearson Correlation: 0.7870\n"
     ]
    },
    {
     "name": "stderr",
     "output_type": "stream",
     "text": [
      "Epoch 4/100: 100%|██████████| 88/88 [00:04<00:00, 17.74it/s]\n"
     ]
    },
    {
     "name": "stdout",
     "output_type": "stream",
     "text": [
      "----------------------------------------------------------------\n",
      "        Layer (type)               Output Shape         Param #\n",
      "================================================================\n",
      "            Conv1d-1               [-1, 32, 56]           3,392\n",
      "              ReLU-2               [-1, 32, 56]               0\n",
      "            Conv1d-3               [-1, 32, 56]          21,536\n",
      "              ReLU-4               [-1, 32, 56]               0\n",
      "            Conv1d-5               [-1, 32, 56]          21,536\n",
      "            Linear-6                  [-1, 128]         229,504\n",
      "              ReLU-7                  [-1, 128]               0\n",
      "            Linear-8                   [-1, 32]           4,128\n",
      "          Hardtanh-9                   [-1, 32]               0\n",
      "           Linear-10                    [-1, 1]              33\n",
      "================================================================\n",
      "Total params: 280,129\n",
      "Trainable params: 280,129\n",
      "Non-trainable params: 0\n",
      "----------------------------------------------------------------\n",
      "Input size (MB): 0.00\n",
      "Forward/backward pass size (MB): 0.07\n",
      "Params size (MB): 1.07\n",
      "Estimated Total Size (MB): 1.14\n",
      "----------------------------------------------------------------\n",
      "Model saved with Pearson correlation: 0.7946\n",
      "Epoch [4/100]\n",
      "Training Loss: 0.0098\n",
      "Validation Pearson Correlation: 0.7946\n"
     ]
    },
    {
     "name": "stderr",
     "output_type": "stream",
     "text": [
      "Epoch 5/100: 100%|██████████| 88/88 [00:04<00:00, 18.44it/s]\n"
     ]
    },
    {
     "name": "stdout",
     "output_type": "stream",
     "text": [
      "----------------------------------------------------------------\n",
      "        Layer (type)               Output Shape         Param #\n",
      "================================================================\n",
      "            Conv1d-1               [-1, 32, 56]           3,392\n",
      "              ReLU-2               [-1, 32, 56]               0\n",
      "            Conv1d-3               [-1, 32, 56]          21,536\n",
      "              ReLU-4               [-1, 32, 56]               0\n",
      "            Conv1d-5               [-1, 32, 56]          21,536\n",
      "            Linear-6                  [-1, 128]         229,504\n",
      "              ReLU-7                  [-1, 128]               0\n",
      "            Linear-8                   [-1, 32]           4,128\n",
      "          Hardtanh-9                   [-1, 32]               0\n",
      "           Linear-10                    [-1, 1]              33\n",
      "================================================================\n",
      "Total params: 280,129\n",
      "Trainable params: 280,129\n",
      "Non-trainable params: 0\n",
      "----------------------------------------------------------------\n",
      "Input size (MB): 0.00\n",
      "Forward/backward pass size (MB): 0.07\n",
      "Params size (MB): 1.07\n",
      "Estimated Total Size (MB): 1.14\n",
      "----------------------------------------------------------------\n",
      "Model saved with Pearson correlation: 0.8011\n",
      "Epoch [5/100]\n",
      "Training Loss: 0.0084\n",
      "Validation Pearson Correlation: 0.8011\n"
     ]
    },
    {
     "name": "stderr",
     "output_type": "stream",
     "text": [
      "Epoch 6/100: 100%|██████████| 88/88 [00:04<00:00, 19.13it/s]\n"
     ]
    },
    {
     "name": "stdout",
     "output_type": "stream",
     "text": [
      "----------------------------------------------------------------\n",
      "        Layer (type)               Output Shape         Param #\n",
      "================================================================\n",
      "            Conv1d-1               [-1, 32, 56]           3,392\n",
      "              ReLU-2               [-1, 32, 56]               0\n",
      "            Conv1d-3               [-1, 32, 56]          21,536\n",
      "              ReLU-4               [-1, 32, 56]               0\n",
      "            Conv1d-5               [-1, 32, 56]          21,536\n",
      "            Linear-6                  [-1, 128]         229,504\n",
      "              ReLU-7                  [-1, 128]               0\n",
      "            Linear-8                   [-1, 32]           4,128\n",
      "          Hardtanh-9                   [-1, 32]               0\n",
      "           Linear-10                    [-1, 1]              33\n",
      "================================================================\n",
      "Total params: 280,129\n",
      "Trainable params: 280,129\n",
      "Non-trainable params: 0\n",
      "----------------------------------------------------------------\n",
      "Input size (MB): 0.00\n",
      "Forward/backward pass size (MB): 0.07\n",
      "Params size (MB): 1.07\n",
      "Estimated Total Size (MB): 1.14\n",
      "----------------------------------------------------------------\n",
      "Model saved with Pearson correlation: 0.8162\n",
      "Epoch [6/100]\n",
      "Training Loss: 0.0064\n",
      "Validation Pearson Correlation: 0.8162\n"
     ]
    },
    {
     "name": "stderr",
     "output_type": "stream",
     "text": [
      "Epoch 7/100: 100%|██████████| 88/88 [00:04<00:00, 19.15it/s]\n"
     ]
    },
    {
     "name": "stdout",
     "output_type": "stream",
     "text": [
      "----------------------------------------------------------------\n",
      "        Layer (type)               Output Shape         Param #\n",
      "================================================================\n",
      "            Conv1d-1               [-1, 32, 56]           3,392\n",
      "              ReLU-2               [-1, 32, 56]               0\n",
      "            Conv1d-3               [-1, 32, 56]          21,536\n",
      "              ReLU-4               [-1, 32, 56]               0\n",
      "            Conv1d-5               [-1, 32, 56]          21,536\n",
      "            Linear-6                  [-1, 128]         229,504\n",
      "              ReLU-7                  [-1, 128]               0\n",
      "            Linear-8                   [-1, 32]           4,128\n",
      "          Hardtanh-9                   [-1, 32]               0\n",
      "           Linear-10                    [-1, 1]              33\n",
      "================================================================\n",
      "Total params: 280,129\n",
      "Trainable params: 280,129\n",
      "Non-trainable params: 0\n",
      "----------------------------------------------------------------\n",
      "Input size (MB): 0.00\n",
      "Forward/backward pass size (MB): 0.07\n",
      "Params size (MB): 1.07\n",
      "Estimated Total Size (MB): 1.14\n",
      "----------------------------------------------------------------\n",
      "Model saved with Pearson correlation: 0.8182\n",
      "Epoch [7/100]\n",
      "Training Loss: 0.0055\n",
      "Validation Pearson Correlation: 0.8182\n"
     ]
    },
    {
     "name": "stderr",
     "output_type": "stream",
     "text": [
      "Epoch 8/100: 100%|██████████| 88/88 [00:04<00:00, 18.06it/s]\n"
     ]
    },
    {
     "name": "stdout",
     "output_type": "stream",
     "text": [
      "Model saved with Pearson correlation: 0.8182\n",
      "Epoch [8/100]\n",
      "Training Loss: 0.0049\n",
      "Validation Pearson Correlation: 0.8170\n"
     ]
    },
    {
     "name": "stderr",
     "output_type": "stream",
     "text": [
      "Epoch 9/100: 100%|██████████| 88/88 [00:04<00:00, 19.03it/s]\n"
     ]
    },
    {
     "name": "stdout",
     "output_type": "stream",
     "text": [
      "Model saved with Pearson correlation: 0.8182\n",
      "Epoch [9/100]\n",
      "Training Loss: 0.0045\n",
      "Validation Pearson Correlation: 0.8093\n"
     ]
    },
    {
     "name": "stderr",
     "output_type": "stream",
     "text": [
      "Epoch 10/100: 100%|██████████| 88/88 [00:04<00:00, 19.69it/s]\n"
     ]
    },
    {
     "name": "stdout",
     "output_type": "stream",
     "text": [
      "Model saved with Pearson correlation: 0.8182\n",
      "Epoch [10/100]\n",
      "Training Loss: 0.0039\n",
      "Validation Pearson Correlation: 0.8118\n"
     ]
    },
    {
     "name": "stderr",
     "output_type": "stream",
     "text": [
      "Epoch 11/100: 100%|██████████| 88/88 [00:04<00:00, 18.85it/s]\n"
     ]
    },
    {
     "name": "stdout",
     "output_type": "stream",
     "text": [
      "Model saved with Pearson correlation: 0.8182\n",
      "Epoch [11/100]\n",
      "Training Loss: 0.0033\n",
      "Validation Pearson Correlation: 0.8171\n"
     ]
    },
    {
     "name": "stderr",
     "output_type": "stream",
     "text": [
      "Epoch 12/100: 100%|██████████| 88/88 [00:04<00:00, 19.62it/s]\n"
     ]
    },
    {
     "name": "stdout",
     "output_type": "stream",
     "text": [
      "----------------------------------------------------------------\n",
      "        Layer (type)               Output Shape         Param #\n",
      "================================================================\n",
      "            Conv1d-1               [-1, 32, 56]           3,392\n",
      "              ReLU-2               [-1, 32, 56]               0\n",
      "            Conv1d-3               [-1, 32, 56]          21,536\n",
      "              ReLU-4               [-1, 32, 56]               0\n",
      "            Conv1d-5               [-1, 32, 56]          21,536\n",
      "            Linear-6                  [-1, 128]         229,504\n",
      "              ReLU-7                  [-1, 128]               0\n",
      "            Linear-8                   [-1, 32]           4,128\n",
      "          Hardtanh-9                   [-1, 32]               0\n",
      "           Linear-10                    [-1, 1]              33\n",
      "================================================================\n",
      "Total params: 280,129\n",
      "Trainable params: 280,129\n",
      "Non-trainable params: 0\n",
      "----------------------------------------------------------------\n",
      "Input size (MB): 0.00\n",
      "Forward/backward pass size (MB): 0.07\n",
      "Params size (MB): 1.07\n",
      "Estimated Total Size (MB): 1.14\n",
      "----------------------------------------------------------------\n",
      "Model saved with Pearson correlation: 0.8277\n",
      "Epoch [12/100]\n",
      "Training Loss: 0.0026\n",
      "Validation Pearson Correlation: 0.8277\n"
     ]
    },
    {
     "name": "stderr",
     "output_type": "stream",
     "text": [
      "Epoch 13/100: 100%|██████████| 88/88 [00:04<00:00, 18.95it/s]\n"
     ]
    },
    {
     "name": "stdout",
     "output_type": "stream",
     "text": [
      "----------------------------------------------------------------\n",
      "        Layer (type)               Output Shape         Param #\n",
      "================================================================\n",
      "            Conv1d-1               [-1, 32, 56]           3,392\n",
      "              ReLU-2               [-1, 32, 56]               0\n",
      "            Conv1d-3               [-1, 32, 56]          21,536\n",
      "              ReLU-4               [-1, 32, 56]               0\n",
      "            Conv1d-5               [-1, 32, 56]          21,536\n",
      "            Linear-6                  [-1, 128]         229,504\n",
      "              ReLU-7                  [-1, 128]               0\n",
      "            Linear-8                   [-1, 32]           4,128\n",
      "          Hardtanh-9                   [-1, 32]               0\n",
      "           Linear-10                    [-1, 1]              33\n",
      "================================================================\n",
      "Total params: 280,129\n",
      "Trainable params: 280,129\n",
      "Non-trainable params: 0\n",
      "----------------------------------------------------------------\n",
      "Input size (MB): 0.00\n",
      "Forward/backward pass size (MB): 0.07\n",
      "Params size (MB): 1.07\n",
      "Estimated Total Size (MB): 1.14\n",
      "----------------------------------------------------------------\n",
      "Model saved with Pearson correlation: 0.8329\n",
      "Epoch [13/100]\n",
      "Training Loss: 0.0023\n",
      "Validation Pearson Correlation: 0.8329\n"
     ]
    },
    {
     "name": "stderr",
     "output_type": "stream",
     "text": [
      "Epoch 14/100: 100%|██████████| 88/88 [00:04<00:00, 19.16it/s]\n"
     ]
    },
    {
     "name": "stdout",
     "output_type": "stream",
     "text": [
      "Model saved with Pearson correlation: 0.8329\n",
      "Epoch [14/100]\n",
      "Training Loss: 0.0022\n",
      "Validation Pearson Correlation: 0.8267\n"
     ]
    },
    {
     "name": "stderr",
     "output_type": "stream",
     "text": [
      "Epoch 15/100: 100%|██████████| 88/88 [00:04<00:00, 19.28it/s]\n"
     ]
    },
    {
     "name": "stdout",
     "output_type": "stream",
     "text": [
      "Model saved with Pearson correlation: 0.8329\n",
      "Epoch [15/100]\n",
      "Training Loss: 0.0022\n",
      "Validation Pearson Correlation: 0.8303\n"
     ]
    },
    {
     "name": "stderr",
     "output_type": "stream",
     "text": [
      "Epoch 16/100: 100%|██████████| 88/88 [00:04<00:00, 19.38it/s]\n"
     ]
    },
    {
     "name": "stdout",
     "output_type": "stream",
     "text": [
      "----------------------------------------------------------------\n",
      "        Layer (type)               Output Shape         Param #\n",
      "================================================================\n",
      "            Conv1d-1               [-1, 32, 56]           3,392\n",
      "              ReLU-2               [-1, 32, 56]               0\n",
      "            Conv1d-3               [-1, 32, 56]          21,536\n",
      "              ReLU-4               [-1, 32, 56]               0\n",
      "            Conv1d-5               [-1, 32, 56]          21,536\n",
      "            Linear-6                  [-1, 128]         229,504\n",
      "              ReLU-7                  [-1, 128]               0\n",
      "            Linear-8                   [-1, 32]           4,128\n",
      "          Hardtanh-9                   [-1, 32]               0\n",
      "           Linear-10                    [-1, 1]              33\n",
      "================================================================\n",
      "Total params: 280,129\n",
      "Trainable params: 280,129\n",
      "Non-trainable params: 0\n",
      "----------------------------------------------------------------\n",
      "Input size (MB): 0.00\n",
      "Forward/backward pass size (MB): 0.07\n",
      "Params size (MB): 1.07\n",
      "Estimated Total Size (MB): 1.14\n",
      "----------------------------------------------------------------\n",
      "Model saved with Pearson correlation: 0.8361\n",
      "Epoch [16/100]\n",
      "Training Loss: 0.0018\n",
      "Validation Pearson Correlation: 0.8361\n"
     ]
    },
    {
     "name": "stderr",
     "output_type": "stream",
     "text": [
      "Epoch 17/100: 100%|██████████| 88/88 [00:04<00:00, 19.07it/s]\n"
     ]
    },
    {
     "name": "stdout",
     "output_type": "stream",
     "text": [
      "----------------------------------------------------------------\n",
      "        Layer (type)               Output Shape         Param #\n",
      "================================================================\n",
      "            Conv1d-1               [-1, 32, 56]           3,392\n",
      "              ReLU-2               [-1, 32, 56]               0\n",
      "            Conv1d-3               [-1, 32, 56]          21,536\n",
      "              ReLU-4               [-1, 32, 56]               0\n",
      "            Conv1d-5               [-1, 32, 56]          21,536\n",
      "            Linear-6                  [-1, 128]         229,504\n",
      "              ReLU-7                  [-1, 128]               0\n",
      "            Linear-8                   [-1, 32]           4,128\n",
      "          Hardtanh-9                   [-1, 32]               0\n",
      "           Linear-10                    [-1, 1]              33\n",
      "================================================================\n",
      "Total params: 280,129\n",
      "Trainable params: 280,129\n",
      "Non-trainable params: 0\n",
      "----------------------------------------------------------------\n",
      "Input size (MB): 0.00\n",
      "Forward/backward pass size (MB): 0.07\n",
      "Params size (MB): 1.07\n",
      "Estimated Total Size (MB): 1.14\n",
      "----------------------------------------------------------------\n",
      "Model saved with Pearson correlation: 0.8431\n",
      "Epoch [17/100]\n",
      "Training Loss: 0.0016\n",
      "Validation Pearson Correlation: 0.8431\n"
     ]
    },
    {
     "name": "stderr",
     "output_type": "stream",
     "text": [
      "Epoch 18/100: 100%|██████████| 88/88 [00:04<00:00, 18.99it/s]\n"
     ]
    },
    {
     "name": "stdout",
     "output_type": "stream",
     "text": [
      "Model saved with Pearson correlation: 0.8431\n",
      "Epoch [18/100]\n",
      "Training Loss: 0.0013\n",
      "Validation Pearson Correlation: 0.8424\n"
     ]
    },
    {
     "name": "stderr",
     "output_type": "stream",
     "text": [
      "Epoch 19/100: 100%|██████████| 88/88 [00:04<00:00, 19.25it/s]\n"
     ]
    },
    {
     "name": "stdout",
     "output_type": "stream",
     "text": [
      "Model saved with Pearson correlation: 0.8431\n",
      "Epoch [19/100]\n",
      "Training Loss: 0.0015\n",
      "Validation Pearson Correlation: 0.8355\n"
     ]
    },
    {
     "name": "stderr",
     "output_type": "stream",
     "text": [
      "Epoch 20/100: 100%|██████████| 88/88 [00:04<00:00, 18.33it/s]\n"
     ]
    },
    {
     "name": "stdout",
     "output_type": "stream",
     "text": [
      "Model saved with Pearson correlation: 0.8431\n",
      "Epoch [20/100]\n",
      "Training Loss: 0.0012\n",
      "Validation Pearson Correlation: 0.8404\n"
     ]
    },
    {
     "name": "stderr",
     "output_type": "stream",
     "text": [
      "Epoch 21/100: 100%|██████████| 88/88 [00:04<00:00, 18.94it/s]\n"
     ]
    },
    {
     "name": "stdout",
     "output_type": "stream",
     "text": [
      "Model saved with Pearson correlation: 0.8431\n",
      "Epoch [21/100]\n",
      "Training Loss: 0.0015\n",
      "Validation Pearson Correlation: 0.8369\n"
     ]
    },
    {
     "name": "stderr",
     "output_type": "stream",
     "text": [
      "Epoch 22/100: 100%|██████████| 88/88 [00:04<00:00, 19.52it/s]\n"
     ]
    },
    {
     "name": "stdout",
     "output_type": "stream",
     "text": [
      "----------------------------------------------------------------\n",
      "        Layer (type)               Output Shape         Param #\n",
      "================================================================\n",
      "            Conv1d-1               [-1, 32, 56]           3,392\n",
      "              ReLU-2               [-1, 32, 56]               0\n",
      "            Conv1d-3               [-1, 32, 56]          21,536\n",
      "              ReLU-4               [-1, 32, 56]               0\n",
      "            Conv1d-5               [-1, 32, 56]          21,536\n",
      "            Linear-6                  [-1, 128]         229,504\n",
      "              ReLU-7                  [-1, 128]               0\n",
      "            Linear-8                   [-1, 32]           4,128\n",
      "          Hardtanh-9                   [-1, 32]               0\n",
      "           Linear-10                    [-1, 1]              33\n",
      "================================================================\n",
      "Total params: 280,129\n",
      "Trainable params: 280,129\n",
      "Non-trainable params: 0\n",
      "----------------------------------------------------------------\n",
      "Input size (MB): 0.00\n",
      "Forward/backward pass size (MB): 0.07\n",
      "Params size (MB): 1.07\n",
      "Estimated Total Size (MB): 1.14\n",
      "----------------------------------------------------------------\n",
      "Model saved with Pearson correlation: 0.8467\n",
      "Epoch [22/100]\n",
      "Training Loss: 0.0013\n",
      "Validation Pearson Correlation: 0.8467\n"
     ]
    },
    {
     "name": "stderr",
     "output_type": "stream",
     "text": [
      "Epoch 23/100: 100%|██████████| 88/88 [00:04<00:00, 18.85it/s]\n"
     ]
    },
    {
     "name": "stdout",
     "output_type": "stream",
     "text": [
      "Model saved with Pearson correlation: 0.8467\n",
      "Epoch [23/100]\n",
      "Training Loss: 0.0012\n",
      "Validation Pearson Correlation: 0.8405\n"
     ]
    },
    {
     "name": "stderr",
     "output_type": "stream",
     "text": [
      "Epoch 24/100: 100%|██████████| 88/88 [00:04<00:00, 19.36it/s]\n"
     ]
    },
    {
     "name": "stdout",
     "output_type": "stream",
     "text": [
      "Model saved with Pearson correlation: 0.8467\n",
      "Epoch [24/100]\n",
      "Training Loss: 0.0009\n",
      "Validation Pearson Correlation: 0.8457\n"
     ]
    },
    {
     "name": "stderr",
     "output_type": "stream",
     "text": [
      "Epoch 25/100: 100%|██████████| 88/88 [00:04<00:00, 19.24it/s]\n"
     ]
    },
    {
     "name": "stdout",
     "output_type": "stream",
     "text": [
      "----------------------------------------------------------------\n",
      "        Layer (type)               Output Shape         Param #\n",
      "================================================================\n",
      "            Conv1d-1               [-1, 32, 56]           3,392\n",
      "              ReLU-2               [-1, 32, 56]               0\n",
      "            Conv1d-3               [-1, 32, 56]          21,536\n",
      "              ReLU-4               [-1, 32, 56]               0\n",
      "            Conv1d-5               [-1, 32, 56]          21,536\n",
      "            Linear-6                  [-1, 128]         229,504\n",
      "              ReLU-7                  [-1, 128]               0\n",
      "            Linear-8                   [-1, 32]           4,128\n",
      "          Hardtanh-9                   [-1, 32]               0\n",
      "           Linear-10                    [-1, 1]              33\n",
      "================================================================\n",
      "Total params: 280,129\n",
      "Trainable params: 280,129\n",
      "Non-trainable params: 0\n",
      "----------------------------------------------------------------\n",
      "Input size (MB): 0.00\n",
      "Forward/backward pass size (MB): 0.07\n",
      "Params size (MB): 1.07\n",
      "Estimated Total Size (MB): 1.14\n",
      "----------------------------------------------------------------\n",
      "Model saved with Pearson correlation: 0.8481\n",
      "Epoch [25/100]\n",
      "Training Loss: 0.0008\n",
      "Validation Pearson Correlation: 0.8481\n"
     ]
    },
    {
     "name": "stderr",
     "output_type": "stream",
     "text": [
      "Epoch 26/100: 100%|██████████| 88/88 [00:04<00:00, 19.05it/s]\n"
     ]
    },
    {
     "name": "stdout",
     "output_type": "stream",
     "text": [
      "----------------------------------------------------------------\n",
      "        Layer (type)               Output Shape         Param #\n",
      "================================================================\n",
      "            Conv1d-1               [-1, 32, 56]           3,392\n",
      "              ReLU-2               [-1, 32, 56]               0\n",
      "            Conv1d-3               [-1, 32, 56]          21,536\n",
      "              ReLU-4               [-1, 32, 56]               0\n",
      "            Conv1d-5               [-1, 32, 56]          21,536\n",
      "            Linear-6                  [-1, 128]         229,504\n",
      "              ReLU-7                  [-1, 128]               0\n",
      "            Linear-8                   [-1, 32]           4,128\n",
      "          Hardtanh-9                   [-1, 32]               0\n",
      "           Linear-10                    [-1, 1]              33\n",
      "================================================================\n",
      "Total params: 280,129\n",
      "Trainable params: 280,129\n",
      "Non-trainable params: 0\n",
      "----------------------------------------------------------------\n",
      "Input size (MB): 0.00\n",
      "Forward/backward pass size (MB): 0.07\n",
      "Params size (MB): 1.07\n",
      "Estimated Total Size (MB): 1.14\n",
      "----------------------------------------------------------------\n",
      "Model saved with Pearson correlation: 0.8483\n",
      "Epoch [26/100]\n",
      "Training Loss: 0.0007\n",
      "Validation Pearson Correlation: 0.8483\n"
     ]
    },
    {
     "name": "stderr",
     "output_type": "stream",
     "text": [
      "Epoch 27/100: 100%|██████████| 88/88 [00:04<00:00, 18.83it/s]\n"
     ]
    },
    {
     "name": "stdout",
     "output_type": "stream",
     "text": [
      "----------------------------------------------------------------\n",
      "        Layer (type)               Output Shape         Param #\n",
      "================================================================\n",
      "            Conv1d-1               [-1, 32, 56]           3,392\n",
      "              ReLU-2               [-1, 32, 56]               0\n",
      "            Conv1d-3               [-1, 32, 56]          21,536\n",
      "              ReLU-4               [-1, 32, 56]               0\n",
      "            Conv1d-5               [-1, 32, 56]          21,536\n",
      "            Linear-6                  [-1, 128]         229,504\n",
      "              ReLU-7                  [-1, 128]               0\n",
      "            Linear-8                   [-1, 32]           4,128\n",
      "          Hardtanh-9                   [-1, 32]               0\n",
      "           Linear-10                    [-1, 1]              33\n",
      "================================================================\n",
      "Total params: 280,129\n",
      "Trainable params: 280,129\n",
      "Non-trainable params: 0\n",
      "----------------------------------------------------------------\n",
      "Input size (MB): 0.00\n",
      "Forward/backward pass size (MB): 0.07\n",
      "Params size (MB): 1.07\n",
      "Estimated Total Size (MB): 1.14\n",
      "----------------------------------------------------------------\n",
      "Model saved with Pearson correlation: 0.8492\n",
      "Epoch [27/100]\n",
      "Training Loss: 0.0007\n",
      "Validation Pearson Correlation: 0.8492\n"
     ]
    },
    {
     "name": "stderr",
     "output_type": "stream",
     "text": [
      "Epoch 28/100: 100%|██████████| 88/88 [00:04<00:00, 18.30it/s]\n"
     ]
    },
    {
     "name": "stdout",
     "output_type": "stream",
     "text": [
      "----------------------------------------------------------------\n",
      "        Layer (type)               Output Shape         Param #\n",
      "================================================================\n",
      "            Conv1d-1               [-1, 32, 56]           3,392\n",
      "              ReLU-2               [-1, 32, 56]               0\n",
      "            Conv1d-3               [-1, 32, 56]          21,536\n",
      "              ReLU-4               [-1, 32, 56]               0\n",
      "            Conv1d-5               [-1, 32, 56]          21,536\n",
      "            Linear-6                  [-1, 128]         229,504\n",
      "              ReLU-7                  [-1, 128]               0\n",
      "            Linear-8                   [-1, 32]           4,128\n",
      "          Hardtanh-9                   [-1, 32]               0\n",
      "           Linear-10                    [-1, 1]              33\n",
      "================================================================\n",
      "Total params: 280,129\n",
      "Trainable params: 280,129\n",
      "Non-trainable params: 0\n",
      "----------------------------------------------------------------\n",
      "Input size (MB): 0.00\n",
      "Forward/backward pass size (MB): 0.07\n",
      "Params size (MB): 1.07\n",
      "Estimated Total Size (MB): 1.14\n",
      "----------------------------------------------------------------\n",
      "Model saved with Pearson correlation: 0.8499\n",
      "Epoch [28/100]\n",
      "Training Loss: 0.0008\n",
      "Validation Pearson Correlation: 0.8499\n"
     ]
    },
    {
     "name": "stderr",
     "output_type": "stream",
     "text": [
      "Epoch 29/100: 100%|██████████| 88/88 [00:04<00:00, 18.45it/s]\n"
     ]
    },
    {
     "name": "stdout",
     "output_type": "stream",
     "text": [
      "Model saved with Pearson correlation: 0.8499\n",
      "Epoch [29/100]\n",
      "Training Loss: 0.0008\n",
      "Validation Pearson Correlation: 0.8431\n"
     ]
    },
    {
     "name": "stderr",
     "output_type": "stream",
     "text": [
      "Epoch 30/100: 100%|██████████| 88/88 [00:04<00:00, 17.88it/s]\n"
     ]
    },
    {
     "name": "stdout",
     "output_type": "stream",
     "text": [
      "Model saved with Pearson correlation: 0.8499\n",
      "Epoch [30/100]\n",
      "Training Loss: 0.0007\n",
      "Validation Pearson Correlation: 0.8464\n"
     ]
    },
    {
     "name": "stderr",
     "output_type": "stream",
     "text": [
      "Epoch 31/100: 100%|██████████| 88/88 [00:04<00:00, 18.33it/s]\n"
     ]
    },
    {
     "name": "stdout",
     "output_type": "stream",
     "text": [
      "Model saved with Pearson correlation: 0.8499\n",
      "Epoch [31/100]\n",
      "Training Loss: 0.0006\n",
      "Validation Pearson Correlation: 0.8481\n"
     ]
    },
    {
     "name": "stderr",
     "output_type": "stream",
     "text": [
      "Epoch 32/100: 100%|██████████| 88/88 [00:04<00:00, 18.74it/s]\n"
     ]
    },
    {
     "name": "stdout",
     "output_type": "stream",
     "text": [
      "Model saved with Pearson correlation: 0.8499\n",
      "Epoch [32/100]\n",
      "Training Loss: 0.0006\n",
      "Validation Pearson Correlation: 0.8483\n"
     ]
    },
    {
     "name": "stderr",
     "output_type": "stream",
     "text": [
      "Epoch 33/100: 100%|██████████| 88/88 [00:04<00:00, 19.00it/s]\n"
     ]
    },
    {
     "name": "stdout",
     "output_type": "stream",
     "text": [
      "Model saved with Pearson correlation: 0.8499\n",
      "Epoch [33/100]\n",
      "Training Loss: 0.0006\n",
      "Validation Pearson Correlation: 0.8461\n"
     ]
    },
    {
     "name": "stderr",
     "output_type": "stream",
     "text": [
      "Epoch 34/100: 100%|██████████| 88/88 [00:04<00:00, 19.27it/s]\n"
     ]
    },
    {
     "name": "stdout",
     "output_type": "stream",
     "text": [
      "Model saved with Pearson correlation: 0.8499\n",
      "Epoch [34/100]\n",
      "Training Loss: 0.0006\n",
      "Validation Pearson Correlation: 0.8441\n"
     ]
    },
    {
     "name": "stderr",
     "output_type": "stream",
     "text": [
      "Epoch 35/100: 100%|██████████| 88/88 [00:04<00:00, 19.08it/s]\n"
     ]
    },
    {
     "name": "stdout",
     "output_type": "stream",
     "text": [
      "Model saved with Pearson correlation: 0.8499\n",
      "Epoch [35/100]\n",
      "Training Loss: 0.0006\n",
      "Validation Pearson Correlation: 0.8484\n"
     ]
    },
    {
     "name": "stderr",
     "output_type": "stream",
     "text": [
      "Epoch 36/100: 100%|██████████| 88/88 [00:04<00:00, 19.25it/s]\n"
     ]
    },
    {
     "name": "stdout",
     "output_type": "stream",
     "text": [
      "Model saved with Pearson correlation: 0.8499\n",
      "Epoch [36/100]\n",
      "Training Loss: 0.0005\n",
      "Validation Pearson Correlation: 0.8464\n"
     ]
    },
    {
     "name": "stderr",
     "output_type": "stream",
     "text": [
      "Epoch 37/100: 100%|██████████| 88/88 [00:04<00:00, 19.17it/s]\n"
     ]
    },
    {
     "name": "stdout",
     "output_type": "stream",
     "text": [
      "----------------------------------------------------------------\n",
      "        Layer (type)               Output Shape         Param #\n",
      "================================================================\n",
      "            Conv1d-1               [-1, 32, 56]           3,392\n",
      "              ReLU-2               [-1, 32, 56]               0\n",
      "            Conv1d-3               [-1, 32, 56]          21,536\n",
      "              ReLU-4               [-1, 32, 56]               0\n",
      "            Conv1d-5               [-1, 32, 56]          21,536\n",
      "            Linear-6                  [-1, 128]         229,504\n",
      "              ReLU-7                  [-1, 128]               0\n",
      "            Linear-8                   [-1, 32]           4,128\n",
      "          Hardtanh-9                   [-1, 32]               0\n",
      "           Linear-10                    [-1, 1]              33\n",
      "================================================================\n",
      "Total params: 280,129\n",
      "Trainable params: 280,129\n",
      "Non-trainable params: 0\n",
      "----------------------------------------------------------------\n",
      "Input size (MB): 0.00\n",
      "Forward/backward pass size (MB): 0.07\n",
      "Params size (MB): 1.07\n",
      "Estimated Total Size (MB): 1.14\n",
      "----------------------------------------------------------------\n",
      "Model saved with Pearson correlation: 0.8536\n",
      "Epoch [37/100]\n",
      "Training Loss: 0.0004\n",
      "Validation Pearson Correlation: 0.8536\n"
     ]
    },
    {
     "name": "stderr",
     "output_type": "stream",
     "text": [
      "Epoch 38/100: 100%|██████████| 88/88 [00:04<00:00, 19.03it/s]\n"
     ]
    },
    {
     "name": "stdout",
     "output_type": "stream",
     "text": [
      "Model saved with Pearson correlation: 0.8536\n",
      "Epoch [38/100]\n",
      "Training Loss: 0.0004\n",
      "Validation Pearson Correlation: 0.8511\n"
     ]
    },
    {
     "name": "stderr",
     "output_type": "stream",
     "text": [
      "Epoch 39/100: 100%|██████████| 88/88 [00:04<00:00, 18.76it/s]\n"
     ]
    },
    {
     "name": "stdout",
     "output_type": "stream",
     "text": [
      "Model saved with Pearson correlation: 0.8536\n",
      "Epoch [39/100]\n",
      "Training Loss: 0.0006\n",
      "Validation Pearson Correlation: 0.8501\n"
     ]
    },
    {
     "name": "stderr",
     "output_type": "stream",
     "text": [
      "Epoch 40/100: 100%|██████████| 88/88 [00:04<00:00, 18.44it/s]\n"
     ]
    },
    {
     "name": "stdout",
     "output_type": "stream",
     "text": [
      "Model saved with Pearson correlation: 0.8536\n",
      "Epoch [40/100]\n",
      "Training Loss: 0.0005\n",
      "Validation Pearson Correlation: 0.8510\n"
     ]
    },
    {
     "name": "stderr",
     "output_type": "stream",
     "text": [
      "Epoch 41/100: 100%|██████████| 88/88 [00:04<00:00, 18.90it/s]\n"
     ]
    },
    {
     "name": "stdout",
     "output_type": "stream",
     "text": [
      "Model saved with Pearson correlation: 0.8536\n",
      "Epoch [41/100]\n",
      "Training Loss: 0.0005\n",
      "Validation Pearson Correlation: 0.8448\n"
     ]
    },
    {
     "name": "stderr",
     "output_type": "stream",
     "text": [
      "Epoch 42/100: 100%|██████████| 88/88 [00:04<00:00, 19.32it/s]\n"
     ]
    },
    {
     "name": "stdout",
     "output_type": "stream",
     "text": [
      "Model saved with Pearson correlation: 0.8536\n",
      "Epoch [42/100]\n",
      "Training Loss: 0.0005\n",
      "Validation Pearson Correlation: 0.8510\n"
     ]
    },
    {
     "name": "stderr",
     "output_type": "stream",
     "text": [
      "Epoch 43/100: 100%|██████████| 88/88 [00:04<00:00, 19.21it/s]\n"
     ]
    },
    {
     "name": "stdout",
     "output_type": "stream",
     "text": [
      "Model saved with Pearson correlation: 0.8536\n",
      "Epoch [43/100]\n",
      "Training Loss: 0.0005\n",
      "Validation Pearson Correlation: 0.8517\n"
     ]
    },
    {
     "name": "stderr",
     "output_type": "stream",
     "text": [
      "Epoch 44/100: 100%|██████████| 88/88 [00:04<00:00, 19.20it/s]\n"
     ]
    },
    {
     "name": "stdout",
     "output_type": "stream",
     "text": [
      "----------------------------------------------------------------\n",
      "        Layer (type)               Output Shape         Param #\n",
      "================================================================\n",
      "            Conv1d-1               [-1, 32, 56]           3,392\n",
      "              ReLU-2               [-1, 32, 56]               0\n",
      "            Conv1d-3               [-1, 32, 56]          21,536\n",
      "              ReLU-4               [-1, 32, 56]               0\n",
      "            Conv1d-5               [-1, 32, 56]          21,536\n",
      "            Linear-6                  [-1, 128]         229,504\n",
      "              ReLU-7                  [-1, 128]               0\n",
      "            Linear-8                   [-1, 32]           4,128\n",
      "          Hardtanh-9                   [-1, 32]               0\n",
      "           Linear-10                    [-1, 1]              33\n",
      "================================================================\n",
      "Total params: 280,129\n",
      "Trainable params: 280,129\n",
      "Non-trainable params: 0\n",
      "----------------------------------------------------------------\n",
      "Input size (MB): 0.00\n",
      "Forward/backward pass size (MB): 0.07\n",
      "Params size (MB): 1.07\n",
      "Estimated Total Size (MB): 1.14\n",
      "----------------------------------------------------------------\n",
      "Model saved with Pearson correlation: 0.8552\n",
      "Epoch [44/100]\n",
      "Training Loss: 0.0005\n",
      "Validation Pearson Correlation: 0.8552\n"
     ]
    },
    {
     "name": "stderr",
     "output_type": "stream",
     "text": [
      "Epoch 45/100: 100%|██████████| 88/88 [00:04<00:00, 18.43it/s]\n"
     ]
    },
    {
     "name": "stdout",
     "output_type": "stream",
     "text": [
      "Model saved with Pearson correlation: 0.8552\n",
      "Epoch [45/100]\n",
      "Training Loss: 0.0005\n",
      "Validation Pearson Correlation: 0.8460\n"
     ]
    },
    {
     "name": "stderr",
     "output_type": "stream",
     "text": [
      "Epoch 46/100: 100%|██████████| 88/88 [00:04<00:00, 17.76it/s]\n"
     ]
    },
    {
     "name": "stdout",
     "output_type": "stream",
     "text": [
      "Model saved with Pearson correlation: 0.8552\n",
      "Epoch [46/100]\n",
      "Training Loss: 0.0005\n",
      "Validation Pearson Correlation: 0.8481\n"
     ]
    },
    {
     "name": "stderr",
     "output_type": "stream",
     "text": [
      "Epoch 47/100: 100%|██████████| 88/88 [00:04<00:00, 17.71it/s]\n"
     ]
    },
    {
     "name": "stdout",
     "output_type": "stream",
     "text": [
      "Model saved with Pearson correlation: 0.8552\n",
      "Epoch [47/100]\n",
      "Training Loss: 0.0004\n",
      "Validation Pearson Correlation: 0.8510\n"
     ]
    },
    {
     "name": "stderr",
     "output_type": "stream",
     "text": [
      "Epoch 48/100: 100%|██████████| 88/88 [00:04<00:00, 18.82it/s]\n"
     ]
    },
    {
     "name": "stdout",
     "output_type": "stream",
     "text": [
      "Model saved with Pearson correlation: 0.8552\n",
      "Epoch [48/100]\n",
      "Training Loss: 0.0006\n",
      "Validation Pearson Correlation: 0.8442\n"
     ]
    },
    {
     "name": "stderr",
     "output_type": "stream",
     "text": [
      "Epoch 49/100: 100%|██████████| 88/88 [00:04<00:00, 18.80it/s]\n"
     ]
    },
    {
     "name": "stdout",
     "output_type": "stream",
     "text": [
      "Model saved with Pearson correlation: 0.8552\n",
      "Epoch [49/100]\n",
      "Training Loss: 0.0008\n",
      "Validation Pearson Correlation: 0.8460\n"
     ]
    },
    {
     "name": "stderr",
     "output_type": "stream",
     "text": [
      "Epoch 50/100: 100%|██████████| 88/88 [00:04<00:00, 19.27it/s]\n"
     ]
    },
    {
     "name": "stdout",
     "output_type": "stream",
     "text": [
      "Model saved with Pearson correlation: 0.8552\n",
      "Epoch [50/100]\n",
      "Training Loss: 0.0019\n",
      "Validation Pearson Correlation: 0.8282\n"
     ]
    },
    {
     "name": "stderr",
     "output_type": "stream",
     "text": [
      "Epoch 51/100: 100%|██████████| 88/88 [00:04<00:00, 19.05it/s]\n"
     ]
    },
    {
     "name": "stdout",
     "output_type": "stream",
     "text": [
      "Model saved with Pearson correlation: 0.8552\n",
      "Epoch [51/100]\n",
      "Training Loss: 0.0025\n",
      "Validation Pearson Correlation: 0.8250\n"
     ]
    },
    {
     "name": "stderr",
     "output_type": "stream",
     "text": [
      "Epoch 52/100: 100%|██████████| 88/88 [00:04<00:00, 18.45it/s]\n"
     ]
    },
    {
     "name": "stdout",
     "output_type": "stream",
     "text": [
      "Model saved with Pearson correlation: 0.8552\n",
      "Epoch [52/100]\n",
      "Training Loss: 0.0025\n",
      "Validation Pearson Correlation: 0.8334\n"
     ]
    },
    {
     "name": "stderr",
     "output_type": "stream",
     "text": [
      "Epoch 53/100: 100%|██████████| 88/88 [00:04<00:00, 19.13it/s]\n"
     ]
    },
    {
     "name": "stdout",
     "output_type": "stream",
     "text": [
      "Model saved with Pearson correlation: 0.8552\n",
      "Epoch [53/100]\n",
      "Training Loss: 0.0028\n",
      "Validation Pearson Correlation: 0.8328\n"
     ]
    },
    {
     "name": "stderr",
     "output_type": "stream",
     "text": [
      "Epoch 54/100: 100%|██████████| 88/88 [00:04<00:00, 19.39it/s]\n"
     ]
    },
    {
     "name": "stdout",
     "output_type": "stream",
     "text": [
      "Model saved with Pearson correlation: 0.8552\n",
      "Epoch [54/100]\n",
      "Training Loss: 0.0013\n",
      "Validation Pearson Correlation: 0.8290\n"
     ]
    },
    {
     "name": "stderr",
     "output_type": "stream",
     "text": [
      "Epoch 55/100: 100%|██████████| 88/88 [00:04<00:00, 19.39it/s]\n"
     ]
    },
    {
     "name": "stdout",
     "output_type": "stream",
     "text": [
      "Model saved with Pearson correlation: 0.8552\n",
      "Epoch [55/100]\n",
      "Training Loss: 0.0008\n",
      "Validation Pearson Correlation: 0.8453\n"
     ]
    },
    {
     "name": "stderr",
     "output_type": "stream",
     "text": [
      "Epoch 56/100: 100%|██████████| 88/88 [00:04<00:00, 19.30it/s]\n"
     ]
    },
    {
     "name": "stdout",
     "output_type": "stream",
     "text": [
      "Model saved with Pearson correlation: 0.8552\n",
      "Epoch [56/100]\n",
      "Training Loss: 0.0005\n",
      "Validation Pearson Correlation: 0.8435\n"
     ]
    },
    {
     "name": "stderr",
     "output_type": "stream",
     "text": [
      "Epoch 57/100: 100%|██████████| 88/88 [00:04<00:00, 19.46it/s]\n"
     ]
    },
    {
     "name": "stdout",
     "output_type": "stream",
     "text": [
      "Model saved with Pearson correlation: 0.8552\n",
      "Epoch [57/100]\n",
      "Training Loss: 0.0004\n",
      "Validation Pearson Correlation: 0.8455\n"
     ]
    },
    {
     "name": "stderr",
     "output_type": "stream",
     "text": [
      "Epoch 58/100: 100%|██████████| 88/88 [00:04<00:00, 19.51it/s]\n"
     ]
    },
    {
     "name": "stdout",
     "output_type": "stream",
     "text": [
      "Model saved with Pearson correlation: 0.8552\n",
      "Epoch [58/100]\n",
      "Training Loss: 0.0003\n",
      "Validation Pearson Correlation: 0.8483\n"
     ]
    },
    {
     "name": "stderr",
     "output_type": "stream",
     "text": [
      "Epoch 59/100: 100%|██████████| 88/88 [00:04<00:00, 19.19it/s]\n"
     ]
    },
    {
     "name": "stdout",
     "output_type": "stream",
     "text": [
      "Model saved with Pearson correlation: 0.8552\n",
      "Epoch [59/100]\n",
      "Training Loss: 0.0002\n",
      "Validation Pearson Correlation: 0.8463\n"
     ]
    },
    {
     "name": "stderr",
     "output_type": "stream",
     "text": [
      "Epoch 60/100: 100%|██████████| 88/88 [00:04<00:00, 19.35it/s]\n"
     ]
    },
    {
     "name": "stdout",
     "output_type": "stream",
     "text": [
      "Model saved with Pearson correlation: 0.8552\n",
      "Epoch [60/100]\n",
      "Training Loss: 0.0002\n",
      "Validation Pearson Correlation: 0.8485\n"
     ]
    },
    {
     "name": "stderr",
     "output_type": "stream",
     "text": [
      "Epoch 61/100: 100%|██████████| 88/88 [00:04<00:00, 19.22it/s]\n"
     ]
    },
    {
     "name": "stdout",
     "output_type": "stream",
     "text": [
      "Model saved with Pearson correlation: 0.8552\n",
      "Epoch [61/100]\n",
      "Training Loss: 0.0001\n",
      "Validation Pearson Correlation: 0.8474\n"
     ]
    },
    {
     "name": "stderr",
     "output_type": "stream",
     "text": [
      "Epoch 62/100: 100%|██████████| 88/88 [00:04<00:00, 19.28it/s]\n"
     ]
    },
    {
     "name": "stdout",
     "output_type": "stream",
     "text": [
      "Model saved with Pearson correlation: 0.8552\n",
      "Epoch [62/100]\n",
      "Training Loss: 0.0001\n",
      "Validation Pearson Correlation: 0.8502\n"
     ]
    },
    {
     "name": "stderr",
     "output_type": "stream",
     "text": [
      "Epoch 63/100: 100%|██████████| 88/88 [00:04<00:00, 19.25it/s]\n"
     ]
    },
    {
     "name": "stdout",
     "output_type": "stream",
     "text": [
      "Model saved with Pearson correlation: 0.8552\n",
      "Epoch [63/100]\n",
      "Training Loss: 0.0001\n",
      "Validation Pearson Correlation: 0.8483\n"
     ]
    },
    {
     "name": "stderr",
     "output_type": "stream",
     "text": [
      "Epoch 64/100: 100%|██████████| 88/88 [00:04<00:00, 19.23it/s]\n"
     ]
    },
    {
     "name": "stdout",
     "output_type": "stream",
     "text": [
      "Model saved with Pearson correlation: 0.8552\n",
      "Epoch [64/100]\n",
      "Training Loss: 0.0001\n",
      "Validation Pearson Correlation: 0.8488\n"
     ]
    },
    {
     "name": "stderr",
     "output_type": "stream",
     "text": [
      "Epoch 65/100: 100%|██████████| 88/88 [00:04<00:00, 19.05it/s]\n"
     ]
    },
    {
     "name": "stdout",
     "output_type": "stream",
     "text": [
      "Model saved with Pearson correlation: 0.8552\n",
      "Epoch [65/100]\n",
      "Training Loss: 0.0001\n",
      "Validation Pearson Correlation: 0.8480\n"
     ]
    },
    {
     "name": "stderr",
     "output_type": "stream",
     "text": [
      "Epoch 66/100: 100%|██████████| 88/88 [00:04<00:00, 19.26it/s]\n"
     ]
    },
    {
     "name": "stdout",
     "output_type": "stream",
     "text": [
      "Model saved with Pearson correlation: 0.8552\n",
      "Epoch [66/100]\n",
      "Training Loss: 0.0001\n",
      "Validation Pearson Correlation: 0.8491\n"
     ]
    },
    {
     "name": "stderr",
     "output_type": "stream",
     "text": [
      "Epoch 67/100: 100%|██████████| 88/88 [00:04<00:00, 19.26it/s]\n"
     ]
    },
    {
     "name": "stdout",
     "output_type": "stream",
     "text": [
      "Model saved with Pearson correlation: 0.8552\n",
      "Epoch [67/100]\n",
      "Training Loss: 0.0001\n",
      "Validation Pearson Correlation: 0.8485\n"
     ]
    },
    {
     "name": "stderr",
     "output_type": "stream",
     "text": [
      "Epoch 68/100: 100%|██████████| 88/88 [00:04<00:00, 19.09it/s]\n"
     ]
    },
    {
     "name": "stdout",
     "output_type": "stream",
     "text": [
      "Model saved with Pearson correlation: 0.8552\n",
      "Epoch [68/100]\n",
      "Training Loss: 0.0002\n",
      "Validation Pearson Correlation: 0.8485\n"
     ]
    },
    {
     "name": "stderr",
     "output_type": "stream",
     "text": [
      "Epoch 69/100: 100%|██████████| 88/88 [00:04<00:00, 18.17it/s]\n"
     ]
    },
    {
     "name": "stdout",
     "output_type": "stream",
     "text": [
      "Model saved with Pearson correlation: 0.8552\n",
      "Epoch [69/100]\n",
      "Training Loss: 0.0002\n",
      "Validation Pearson Correlation: 0.8491\n"
     ]
    },
    {
     "name": "stderr",
     "output_type": "stream",
     "text": [
      "Epoch 70/100: 100%|██████████| 88/88 [00:04<00:00, 19.45it/s]\n"
     ]
    },
    {
     "name": "stdout",
     "output_type": "stream",
     "text": [
      "Model saved with Pearson correlation: 0.8552\n",
      "Epoch [70/100]\n",
      "Training Loss: 0.0003\n",
      "Validation Pearson Correlation: 0.8482\n"
     ]
    },
    {
     "name": "stderr",
     "output_type": "stream",
     "text": [
      "Epoch 71/100: 100%|██████████| 88/88 [00:04<00:00, 19.29it/s]\n"
     ]
    },
    {
     "name": "stdout",
     "output_type": "stream",
     "text": [
      "Model saved with Pearson correlation: 0.8552\n",
      "Epoch [71/100]\n",
      "Training Loss: 0.0004\n",
      "Validation Pearson Correlation: 0.8464\n"
     ]
    },
    {
     "name": "stderr",
     "output_type": "stream",
     "text": [
      "Epoch 72/100: 100%|██████████| 88/88 [00:04<00:00, 19.59it/s]\n"
     ]
    },
    {
     "name": "stdout",
     "output_type": "stream",
     "text": [
      "Model saved with Pearson correlation: 0.8552\n",
      "Epoch [72/100]\n",
      "Training Loss: 0.0005\n",
      "Validation Pearson Correlation: 0.8451\n"
     ]
    },
    {
     "name": "stderr",
     "output_type": "stream",
     "text": [
      "Epoch 73/100: 100%|██████████| 88/88 [00:05<00:00, 16.30it/s]\n"
     ]
    },
    {
     "name": "stdout",
     "output_type": "stream",
     "text": [
      "Model saved with Pearson correlation: 0.8552\n",
      "Epoch [73/100]\n",
      "Training Loss: 0.0005\n",
      "Validation Pearson Correlation: 0.8465\n"
     ]
    },
    {
     "name": "stderr",
     "output_type": "stream",
     "text": [
      "Epoch 74/100: 100%|██████████| 88/88 [00:05<00:00, 17.29it/s]\n"
     ]
    },
    {
     "name": "stdout",
     "output_type": "stream",
     "text": [
      "Model saved with Pearson correlation: 0.8552\n",
      "Epoch [74/100]\n",
      "Training Loss: 0.0004\n",
      "Validation Pearson Correlation: 0.8476\n"
     ]
    },
    {
     "name": "stderr",
     "output_type": "stream",
     "text": [
      "Epoch 75/100: 100%|██████████| 88/88 [00:04<00:00, 18.09it/s]\n"
     ]
    },
    {
     "name": "stdout",
     "output_type": "stream",
     "text": [
      "Model saved with Pearson correlation: 0.8552\n",
      "Epoch [75/100]\n",
      "Training Loss: 0.0003\n",
      "Validation Pearson Correlation: 0.8498\n"
     ]
    },
    {
     "name": "stderr",
     "output_type": "stream",
     "text": [
      "Epoch 76/100: 100%|██████████| 88/88 [00:04<00:00, 18.56it/s]\n"
     ]
    },
    {
     "name": "stdout",
     "output_type": "stream",
     "text": [
      "Model saved with Pearson correlation: 0.8552\n",
      "Epoch [76/100]\n",
      "Training Loss: 0.0003\n",
      "Validation Pearson Correlation: 0.8510\n"
     ]
    },
    {
     "name": "stderr",
     "output_type": "stream",
     "text": [
      "Epoch 77/100: 100%|██████████| 88/88 [00:04<00:00, 18.64it/s]\n"
     ]
    },
    {
     "name": "stdout",
     "output_type": "stream",
     "text": [
      "Model saved with Pearson correlation: 0.8552\n",
      "Epoch [77/100]\n",
      "Training Loss: 0.0003\n",
      "Validation Pearson Correlation: 0.8535\n"
     ]
    },
    {
     "name": "stderr",
     "output_type": "stream",
     "text": [
      "Epoch 78/100: 100%|██████████| 88/88 [00:04<00:00, 19.11it/s]\n"
     ]
    },
    {
     "name": "stdout",
     "output_type": "stream",
     "text": [
      "Model saved with Pearson correlation: 0.8552\n",
      "Epoch [78/100]\n",
      "Training Loss: 0.0003\n",
      "Validation Pearson Correlation: 0.8517\n"
     ]
    },
    {
     "name": "stderr",
     "output_type": "stream",
     "text": [
      "Epoch 79/100: 100%|██████████| 88/88 [00:04<00:00, 18.98it/s]\n"
     ]
    },
    {
     "name": "stdout",
     "output_type": "stream",
     "text": [
      "Model saved with Pearson correlation: 0.8552\n",
      "Epoch [79/100]\n",
      "Training Loss: 0.0003\n",
      "Validation Pearson Correlation: 0.8487\n"
     ]
    },
    {
     "name": "stderr",
     "output_type": "stream",
     "text": [
      "Epoch 80/100: 100%|██████████| 88/88 [00:04<00:00, 18.67it/s]\n"
     ]
    },
    {
     "name": "stdout",
     "output_type": "stream",
     "text": [
      "Model saved with Pearson correlation: 0.8552\n",
      "Epoch [80/100]\n",
      "Training Loss: 0.0003\n",
      "Validation Pearson Correlation: 0.8524\n"
     ]
    },
    {
     "name": "stderr",
     "output_type": "stream",
     "text": [
      "Epoch 81/100: 100%|██████████| 88/88 [00:04<00:00, 18.19it/s]\n"
     ]
    },
    {
     "name": "stdout",
     "output_type": "stream",
     "text": [
      "Model saved with Pearson correlation: 0.8552\n",
      "Epoch [81/100]\n",
      "Training Loss: 0.0004\n",
      "Validation Pearson Correlation: 0.8482\n"
     ]
    },
    {
     "name": "stderr",
     "output_type": "stream",
     "text": [
      "Epoch 82/100: 100%|██████████| 88/88 [00:04<00:00, 19.26it/s]\n"
     ]
    },
    {
     "name": "stdout",
     "output_type": "stream",
     "text": [
      "Model saved with Pearson correlation: 0.8552\n",
      "Epoch [82/100]\n",
      "Training Loss: 0.0004\n",
      "Validation Pearson Correlation: 0.8461\n"
     ]
    },
    {
     "name": "stderr",
     "output_type": "stream",
     "text": [
      "Epoch 83/100: 100%|██████████| 88/88 [00:04<00:00, 19.11it/s]\n"
     ]
    },
    {
     "name": "stdout",
     "output_type": "stream",
     "text": [
      "Model saved with Pearson correlation: 0.8552\n",
      "Epoch [83/100]\n",
      "Training Loss: 0.0005\n",
      "Validation Pearson Correlation: 0.8412\n"
     ]
    },
    {
     "name": "stderr",
     "output_type": "stream",
     "text": [
      "Epoch 84/100: 100%|██████████| 88/88 [00:04<00:00, 19.28it/s]\n"
     ]
    },
    {
     "name": "stdout",
     "output_type": "stream",
     "text": [
      "Model saved with Pearson correlation: 0.8552\n",
      "Epoch [84/100]\n",
      "Training Loss: 0.0005\n",
      "Validation Pearson Correlation: 0.8479\n"
     ]
    },
    {
     "name": "stderr",
     "output_type": "stream",
     "text": [
      "Epoch 85/100: 100%|██████████| 88/88 [00:04<00:00, 18.70it/s]\n"
     ]
    },
    {
     "name": "stdout",
     "output_type": "stream",
     "text": [
      "Model saved with Pearson correlation: 0.8552\n",
      "Epoch [85/100]\n",
      "Training Loss: 0.0005\n",
      "Validation Pearson Correlation: 0.8435\n"
     ]
    },
    {
     "name": "stderr",
     "output_type": "stream",
     "text": [
      "Epoch 86/100: 100%|██████████| 88/88 [00:04<00:00, 19.14it/s]\n"
     ]
    },
    {
     "name": "stdout",
     "output_type": "stream",
     "text": [
      "Model saved with Pearson correlation: 0.8552\n",
      "Epoch [86/100]\n",
      "Training Loss: 0.0005\n",
      "Validation Pearson Correlation: 0.8430\n"
     ]
    },
    {
     "name": "stderr",
     "output_type": "stream",
     "text": [
      "Epoch 87/100: 100%|██████████| 88/88 [00:04<00:00, 19.27it/s]\n"
     ]
    },
    {
     "name": "stdout",
     "output_type": "stream",
     "text": [
      "Model saved with Pearson correlation: 0.8552\n",
      "Epoch [87/100]\n",
      "Training Loss: 0.0005\n",
      "Validation Pearson Correlation: 0.8434\n"
     ]
    },
    {
     "name": "stderr",
     "output_type": "stream",
     "text": [
      "Epoch 88/100: 100%|██████████| 88/88 [00:05<00:00, 17.19it/s]\n"
     ]
    },
    {
     "name": "stdout",
     "output_type": "stream",
     "text": [
      "Model saved with Pearson correlation: 0.8552\n",
      "Epoch [88/100]\n",
      "Training Loss: 0.0006\n",
      "Validation Pearson Correlation: 0.8364\n"
     ]
    },
    {
     "name": "stderr",
     "output_type": "stream",
     "text": [
      "Epoch 89/100: 100%|██████████| 88/88 [00:05<00:00, 17.55it/s]\n"
     ]
    },
    {
     "name": "stdout",
     "output_type": "stream",
     "text": [
      "Model saved with Pearson correlation: 0.8552\n",
      "Epoch [89/100]\n",
      "Training Loss: 0.0005\n",
      "Validation Pearson Correlation: 0.8413\n"
     ]
    },
    {
     "name": "stderr",
     "output_type": "stream",
     "text": [
      "Epoch 90/100: 100%|██████████| 88/88 [00:04<00:00, 18.56it/s]\n"
     ]
    },
    {
     "name": "stdout",
     "output_type": "stream",
     "text": [
      "Model saved with Pearson correlation: 0.8552\n",
      "Epoch [90/100]\n",
      "Training Loss: 0.0004\n",
      "Validation Pearson Correlation: 0.8434\n"
     ]
    },
    {
     "name": "stderr",
     "output_type": "stream",
     "text": [
      "Epoch 91/100: 100%|██████████| 88/88 [00:04<00:00, 18.76it/s]\n"
     ]
    },
    {
     "name": "stdout",
     "output_type": "stream",
     "text": [
      "Model saved with Pearson correlation: 0.8552\n",
      "Epoch [91/100]\n",
      "Training Loss: 0.0003\n",
      "Validation Pearson Correlation: 0.8466\n"
     ]
    },
    {
     "name": "stderr",
     "output_type": "stream",
     "text": [
      "Epoch 92/100: 100%|██████████| 88/88 [00:04<00:00, 18.99it/s]\n"
     ]
    },
    {
     "name": "stdout",
     "output_type": "stream",
     "text": [
      "Model saved with Pearson correlation: 0.8552\n",
      "Epoch [92/100]\n",
      "Training Loss: 0.0002\n",
      "Validation Pearson Correlation: 0.8460\n"
     ]
    },
    {
     "name": "stderr",
     "output_type": "stream",
     "text": [
      "Epoch 93/100: 100%|██████████| 88/88 [00:04<00:00, 18.82it/s]\n"
     ]
    },
    {
     "name": "stdout",
     "output_type": "stream",
     "text": [
      "Model saved with Pearson correlation: 0.8552\n",
      "Epoch [93/100]\n",
      "Training Loss: 0.0002\n",
      "Validation Pearson Correlation: 0.8483\n"
     ]
    },
    {
     "name": "stderr",
     "output_type": "stream",
     "text": [
      "Epoch 94/100: 100%|██████████| 88/88 [00:04<00:00, 19.15it/s]\n"
     ]
    },
    {
     "name": "stdout",
     "output_type": "stream",
     "text": [
      "Model saved with Pearson correlation: 0.8552\n",
      "Epoch [94/100]\n",
      "Training Loss: 0.0001\n",
      "Validation Pearson Correlation: 0.8492\n"
     ]
    },
    {
     "name": "stderr",
     "output_type": "stream",
     "text": [
      "Epoch 95/100: 100%|██████████| 88/88 [00:05<00:00, 16.77it/s]\n"
     ]
    },
    {
     "name": "stdout",
     "output_type": "stream",
     "text": [
      "Model saved with Pearson correlation: 0.8552\n",
      "Epoch [95/100]\n",
      "Training Loss: 0.0001\n",
      "Validation Pearson Correlation: 0.8496\n"
     ]
    },
    {
     "name": "stderr",
     "output_type": "stream",
     "text": [
      "Epoch 96/100: 100%|██████████| 88/88 [00:04<00:00, 18.35it/s]\n"
     ]
    },
    {
     "name": "stdout",
     "output_type": "stream",
     "text": [
      "Model saved with Pearson correlation: 0.8552\n",
      "Epoch [96/100]\n",
      "Training Loss: 0.0001\n",
      "Validation Pearson Correlation: 0.8484\n"
     ]
    },
    {
     "name": "stderr",
     "output_type": "stream",
     "text": [
      "Epoch 97/100: 100%|██████████| 88/88 [00:04<00:00, 18.56it/s]\n"
     ]
    },
    {
     "name": "stdout",
     "output_type": "stream",
     "text": [
      "Model saved with Pearson correlation: 0.8552\n",
      "Epoch [97/100]\n",
      "Training Loss: 0.0001\n",
      "Validation Pearson Correlation: 0.8484\n"
     ]
    },
    {
     "name": "stderr",
     "output_type": "stream",
     "text": [
      "Epoch 98/100: 100%|██████████| 88/88 [00:04<00:00, 18.82it/s]\n"
     ]
    },
    {
     "name": "stdout",
     "output_type": "stream",
     "text": [
      "Model saved with Pearson correlation: 0.8552\n",
      "Epoch [98/100]\n",
      "Training Loss: 0.0001\n",
      "Validation Pearson Correlation: 0.8495\n"
     ]
    },
    {
     "name": "stderr",
     "output_type": "stream",
     "text": [
      "Epoch 99/100: 100%|██████████| 88/88 [00:04<00:00, 19.05it/s]\n"
     ]
    },
    {
     "name": "stdout",
     "output_type": "stream",
     "text": [
      "Model saved with Pearson correlation: 0.8552\n",
      "Epoch [99/100]\n",
      "Training Loss: 0.0001\n",
      "Validation Pearson Correlation: 0.8470\n"
     ]
    },
    {
     "name": "stderr",
     "output_type": "stream",
     "text": [
      "Epoch 100/100: 100%|██████████| 88/88 [00:04<00:00, 18.85it/s]\n"
     ]
    },
    {
     "name": "stdout",
     "output_type": "stream",
     "text": [
      "Model saved with Pearson correlation: 0.8552\n",
      "Epoch [100/100]\n",
      "Training Loss: 0.0001\n",
      "Validation Pearson Correlation: 0.8457\n"
     ]
    },
    {
     "data": {
      "text/plain": [
       "<Figure size 640x480 with 0 Axes>"
      ]
     },
     "metadata": {},
     "output_type": "display_data"
    },
    {
     "data": {
      "image/png": "[encoded data removed]",
      "text/plain": [
       "<Figure size 640x480 with 2 Axes>"
      ]
     },
     "metadata": {},
     "output_type": "display_data"
    }
   ],
   "source": [
    "import time\n",
    "from torchsummary import summary\n",
    "import os\n",
    "timestamp = time.strftime('%Y%m%d_%H%M%S')\n",
    "save_dir = f'D:/01IscBML/logfile/{timestamp}/'\n",
    "os.mkdir(save_dir)\n",
    "# Initialize the model, loss function, and optimizer\n",
    "model = LocalCNN(sequence_length = sequence_length)\n",
    "\n",
    "criterion = nn.MSELoss()\n",
    "optimizer = optim.Adam(model.parameters(), lr=0.001)\n",
    "\n",
    "# Training and validation setup\n",
    "num_epochs = 100  # Adjust as needed\n",
    "\n",
    "# Function to calculate Pearson correlation coefficient\n",
    "def pearson_correlation(predicted, actual):\n",
    "    pred_mean = predicted.mean()\n",
    "    actual_mean = actual.mean()\n",
    "    covariance = ((predicted - pred_mean) * (actual - actual_mean)).sum()\n",
    "    pred_std = ((predicted - pred_mean) ** 2).sum().sqrt()\n",
    "    actual_std = ((actual - actual_mean) ** 2).sum().sqrt()\n",
    "    return (covariance / (pred_std * actual_std)).item()\n",
    "\n",
    "plot_loss = []\n",
    "plot_pearson = []\n",
    "max_r = 0.0\n",
    "for epoch in range(num_epochs):\n",
    "    if epoch == 0:  # Save the architecture only in the first epoch\n",
    "        ## for MLP\n",
    "        input_size = sequence_length * channel\n",
    "        model_architecture = summary(model, input_size=(sequence_length, channel))\n",
    "    model.train()  # Set model to training mode\n",
    "    running_loss = 0.0\n",
    "\n",
    "    train_pearson = 0.0  # To accumulate Pearson correlation coefficient for training\n",
    "    \n",
    "    # Training loop\n",
    "    for batch_features, batch_labels in tqdm(train_dataloader, desc=f\"Epoch {epoch+1}/{num_epochs}\"):\n",
    "        # Move data to appropriate device (e.g., GPU if available)\n",
    "        batch_features, batch_labels = batch_features.to('cpu'), batch_labels.to('cpu')\n",
    "        \n",
    "        # Zero the gradients\n",
    "        optimizer.zero_grad()\n",
    "        \n",
    "        # Forward pass\n",
    "        outputs = model(batch_features)\n",
    "        loss = criterion(outputs, batch_labels)\n",
    "        \n",
    "        # Backward pass\n",
    "        loss.backward()\n",
    "        optimizer.step()\n",
    "        \n",
    "        running_loss += loss.item()\n",
    "        \n",
    "        # Calculate Pearson correlation for the batch\n",
    "        predicted = outputs.squeeze(1)  # Remove singleton dimension\n",
    "        actual = batch_labels.squeeze(1)\n",
    "        train_pearson += pearson_correlation(predicted, actual)\n",
    "\n",
    "    # Compute average training loss and Pearson correlation for the epoch\n",
    "    epoch_loss = running_loss / len(train_dataloader)\n",
    "    plot_loss.append(epoch_loss)\n",
    "    epoch_train_pearson = train_pearson / len(train_dataloader)\n",
    "\n",
    "    # Validation phase\n",
    "    model.eval()  # Set model to evaluation mode\n",
    "    val_pearson = 0.0\n",
    "    with torch.no_grad():\n",
    "        for val_features, val_labels in val_dataloader:  # Use a separate validation DataLoader\n",
    "            val_features, val_labels = val_features.to('cpu'), val_labels.to('cpu')\n",
    "            \n",
    "            val_outputs = model(val_features)\n",
    "            predicted = val_outputs.squeeze(1)\n",
    "            # print(predicted)\n",
    "            actual = val_labels.squeeze(1)\n",
    "            # print(actual)\n",
    "\n",
    "            # Calculate Pearson correlation for the validation set\n",
    "            val_pearson += pearson_correlation(predicted, actual)\n",
    "    \n",
    "    # Compute average validation Pearson correlation for the epoch\n",
    "    epoch_val_pearson = val_pearson / len(val_dataloader)\n",
    "    plot_pearson.append(epoch_val_pearson)\n",
    "\n",
    "    ##save the model and architecture\n",
    "    if epoch_val_pearson > max_r:\n",
    "        max_r = epoch_val_pearson\n",
    "        model_name = model.__class__.__name__\n",
    "        save_model_path = f'{save_dir}{model_name}.pth'\n",
    "        model_architecture = summary(model, input_size=(sequence_length,channel))\n",
    "        torch.save({\n",
    "                    'epoch': epoch,\n",
    "                    'model_state_dict': model.state_dict(),\n",
    "                    # 'optimizer_state_dict': optimizer.state_dict(),\n",
    "                    'loss': loss,\n",
    "                    'architecture': model_architecture,\n",
    "                    }, save_model_path)\n",
    "          \n",
    "    print(f\"Model saved with Pearson correlation: {max_r:.4f}\")\n",
    "\n",
    "    # Print training and validation metrics\n",
    "    print(f\"Epoch [{epoch + 1}/{num_epochs}]\")\n",
    "    print(f\"Training Loss: {epoch_loss:.4f}\")\n",
    "    print(f\"Validation Pearson Correlation: {epoch_val_pearson:.4f}\")\n",
    "\n",
    "plt.figure()\n",
    "# plt.switch_backend('agg')\n",
    "fig, ax1 = plt.subplots()\n",
    "\n",
    "# model.predict()\n",
    "\n",
    "ax1.set_xlabel('Epochs')\n",
    "ax1.set_ylabel('Training Loss', color='r')\n",
    "ax1.plot(range(num_epochs), plot_loss, 'r', label='Training loss')\n",
    "ax1.tick_params(axis='y', labelcolor='r')\n",
    "\n",
    "ax2 = ax1.twinx()\n",
    "ax2.set_ylabel('Validation Pearson Correlation', color='b')\n",
    "ax2.plot(range(num_epochs), plot_pearson, 'b', label='Validation Pearson Correlation')\n",
    "ax2.tick_params(axis='y', labelcolor='b')\n",
    "\n",
    "ax1.legend(loc='upper left')\n",
    "ax2.legend(loc='upper right')\n",
    "# plt.ylabel('Loss')\n",
    "plt.xlabel('Epochs')\n",
    "plt.legend()\n",
    "# plt.show()\n",
    "file_path = os.path.join(save_dir, 'loss_plot_MLP.png')\n",
    "plt.savefig(file_path)\n"
   ]
  },
  {
   "cell_type": "code",
   "execution_count": 173,
   "metadata": {},
   "outputs": [
    {
     "name": "stdout",
     "output_type": "stream",
     "text": [
      "6969\n"
     ]
    }
   ],
   "source": [
    "#------------------test dataset---------------------\n",
    "from torch.utils.data import random_split, DataLoader\n",
    "\n",
    "test_label_data = FeatureProcessor(file_path='D:/01IscBML/',file_name='test.xlsx').labels_tensor\n",
    "test_combined_features = FeatureProcessor(file_path='D:/01IscBML/',file_name='test.xlsx').combined_features\n",
    "#---------------------Create dataset and dataloader-----------------\n",
    "dataset = TensorDataset(test_combined_features, test_label_data)\n",
    "testset_length = len(dataset)\n",
    "print(testset_length)\n",
    "\n",
    "# Turn shuffle to False if you want to keep the predefined order of the data\n",
    "test_dataloader = DataLoader(dataset, batch_size=testset_length, shuffle=False) \n",
    "\n"
   ]
  },
  {
   "cell_type": "code",
   "execution_count": 174,
   "metadata": {},
   "outputs": [
    {
     "name": "stdout",
     "output_type": "stream",
     "text": [
      "Average Test Pearson Correlation: 0.8555132746696472\n",
      "Test results saved to 'test_results.csv'.\n"
     ]
    }
   ],
   "source": [
    "###---------test the model----------------\n",
    "import torch\n",
    "import pandas as pd\n",
    "\n",
    "# Set the model to evaluation mode\n",
    "model.eval()\n",
    "\n",
    "# Initialize variables for tracking\n",
    "test_results = []  # To store results for each test sample\n",
    "test_pearson = 0.0\n",
    "\n",
    "with torch.no_grad():  # Disable gradient computation for evaluation\n",
    "    for test_features, test_labels in test_dataloader:  # Use the test DataLoader\n",
    "        # Move data to the appropriate device (e.g., CPU)\n",
    "        test_features, test_labels = test_features.to('cpu'), test_labels.to('cpu')\n",
    "        \n",
    "        # Perform predictions\n",
    "        test_outputs = model(test_features)\n",
    "        predicted = test_outputs.squeeze(1)  # Detach to numpy for processing\n",
    "        actual = test_labels.squeeze(1)\n",
    "\n",
    "        # Store each prediction with its actual label\n",
    "        for pred, act in zip(predicted, actual):\n",
    "            test_results.append({'Predicted': pred.item(), 'Actual': act.item()})\n",
    "        \n",
    "        # Calculate Pearson correlation for this batch\n",
    "        test_pearson += pearson_correlation(predicted, actual)\n",
    "\n",
    "# Compute average test Pearson correlation\n",
    "avg_test_pearson = test_pearson / len(test_dataloader)\n",
    "print(f\"Average Test Pearson Correlation: {avg_test_pearson}\")\n",
    "\n",
    "# Save test results to a DataFrame and export to a CSV file\n",
    "results_df = pd.DataFrame(test_results)\n",
    "test_result_path = f'{save_dir}{timestamp}.csv'\n",
    "results_df.to_csv(f'{save_dir}{timestamp}.csv', index=False)\n",
    "print(\"Test results saved to 'test_results.csv'.\")\n"
   ]
  },
  {
   "cell_type": "code",
   "execution_count": 187,
   "metadata": {},
   "outputs": [
    {
     "name": "stdout",
     "output_type": "stream",
     "text": [
      "----------------------------------------------------------------\n",
      "        Layer (type)               Output Shape         Param #\n",
      "================================================================\n",
      "            Conv1d-1               [-1, 32, 56]           3,392\n",
      "              ReLU-2               [-1, 32, 56]               0\n",
      "            Conv1d-3               [-1, 32, 56]          21,536\n",
      "              ReLU-4               [-1, 32, 56]               0\n",
      "            Conv1d-5               [-1, 32, 56]          21,536\n",
      "            Linear-6                  [-1, 128]         229,504\n",
      "              ReLU-7                  [-1, 128]               0\n",
      "            Linear-8                   [-1, 32]           4,128\n",
      "          Hardtanh-9                   [-1, 32]               0\n",
      "           Linear-10                    [-1, 1]              33\n",
      "================================================================\n",
      "Total params: 280,129\n",
      "Trainable params: 280,129\n",
      "Non-trainable params: 0\n",
      "----------------------------------------------------------------\n",
      "Input size (MB): 0.00\n",
      "Forward/backward pass size (MB): 0.07\n",
      "Params size (MB): 1.07\n",
      "Estimated Total Size (MB): 1.14\n",
      "----------------------------------------------------------------\n",
      "None\n"
     ]
    }
   ],
   "source": [
    "model_architecture = str(summary(model, input_size=(sequence_length,channel)))\n",
    "print(model_architecture)"
   ]
  },
  {
   "cell_type": "code",
   "execution_count": null,
   "metadata": {},
   "outputs": [],
   "source": []
  },
  {
   "cell_type": "code",
   "execution_count": null,
   "metadata": {},
   "outputs": [
    {
     "data": {
      "image/png": "[encoded data removed]",
      "text/plain": [
       "<Figure size 1500x600 with 3 Axes>"
      ]
     },
     "metadata": {},
     "output_type": "display_data"
    }
   ],
   "source": [
    "##draw the correlation\n",
    "import os\n",
    "import matplotlib.pyplot as plt\n",
    "from scipy.stats import gaussian_kde\n",
    "import matplotlib.gridspec as gridspec\n",
    "import io\n",
    "import contextlib\n",
    "\n",
    "# Example data: Replace these with your lists\n",
    "test_results = pd.read_csv(test_result_path)\n",
    "actual = test_results['Actual'].values\n",
    "predicted = test_results['Predicted'].values\n",
    "\n",
    "# Calculate point density using Gaussian KDE\n",
    "xy = np.vstack([actual, predicted])\n",
    "density = gaussian_kde(xy)(xy)\n",
    "# Sort points by density for better visualization\n",
    "sorted_indices = density.argsort()\n",
    "actual_sorted = actual[sorted_indices]\n",
    "predicted_sorted = predicted[sorted_indices]\n",
    "density_sorted = density[sorted_indices]\n",
    "\n",
    "# Create the plot\n",
    "plt.figure(figsize=(15, 6))\n",
    "# Create a grid layout: 1 row, 2 columns\n",
    "gs = gridspec.GridSpec(1, 2, width_ratios=[2, 2])\n",
    "\n",
    "scatter = plt.subplot(gs[0,0])\n",
    "scatter = plt.scatter(\n",
    "    actual_sorted,\n",
    "    predicted_sorted,\n",
    "    c=density_sorted,\n",
    "    cmap='viridis',\n",
    "    s=5,\n",
    "    label='Data Points'\n",
    ")\n",
    "plt.colorbar(scatter, label='Density')\n",
    "\n",
    "# Add regression line\n",
    "plt.plot(\n",
    "    np.unique(actual),\n",
    "    np.poly1d(np.polyfit(actual, predicted, 1))(np.unique(actual)),\n",
    "    color='red',\n",
    "    linestyle='--',\n",
    "    label='Regression Line'\n",
    ")\n",
    "plt.xlim(-0.07, 1.2)\n",
    "plt.ylim(-0.07, 1.2)\n",
    "\n",
    "#####-----------------add the model architecture-----------------\n",
    "buffer = io.StringIO()\n",
    "with contextlib.redirect_stdout(buffer):\n",
    "    summary(model, input_size=(sequence_length,channel))\n",
    "output = buffer.getvalue()\n",
    "\n",
    "ax_text = plt.subplot(gs[0,1])  # Use the second section of the grid\n",
    "ax_text.axis('off')  # Turn off the axes for the text area\n",
    "info_text = f\"Model: {model.__class__.__name__}\\n\" \\\n",
    "            f\"Architecture: {output}\\n\" \\\n",
    "            f\"Test Pearson Correlation: {avg_test_pearson:.4f}\\n\" \\\n",
    "            f\"Timestamp: {timestamp}\"\n",
    "plt.text(0.02, 0.98, info_text, transform=plt.gca().transAxes, fontsize=8, verticalalignment='top')\n",
    "plt.subplots_adjust(wspace=0)\n",
    "save_path = os.path.join(save_dir, f\"{timestamp}_{avg_test_pearson}.png\")\n",
    "plt.savefig(save_dir+f'{timestamp}_{avg_test_pearson}.png')\n"
   ]
  },
  {
   "cell_type": "code",
   "execution_count": 177,
   "metadata": {},
   "outputs": [],
   "source": [
    "from torchsummary import summary\n",
    "import torch.nn as nn\n",
    "import contextlib\n",
    "import io\n",
    "with open(f\"{save_dir}\"+f\"{timestamp}.txt\", \"w\") as f:\n",
    "    buffer = io.StringIO()\n",
    "    with contextlib.redirect_stdout(buffer):\n",
    "        summary(model, input_size=(sequence_length,channel))\n",
    "    f.write(buffer.getvalue())"
   ]
  },
  {
   "cell_type": "code",
   "execution_count": 178,
   "metadata": {},
   "outputs": [],
   "source": [
    "# import torch\n",
    "# import torch.nn as nn\n",
    "# import torch.optim as optim\n",
    "\n",
    "# # Define a simple 1D CNN model\n",
    "# class CNN(nn.Module):\n",
    "#     def __init__(self):\n",
    "#         super(CNN, self).__init__()\n",
    "#         self.conv1 = nn.Conv1d(in_channels=4, out_channels=16, kernel_size=3, padding=1)\n",
    "#         self.relu = nn.ReLU()\n",
    "#         self.pool = nn.MaxPool1d(kernel_size=2)\n",
    "#         self.fc1 = nn.Linear(16 * (56 // 2), 1)  # Assuming sequence length is 56 after pooling\n",
    "        \n",
    "#     def forward(self, x):\n",
    "#         x = x.permute(0, 2, 1)  # Change shape to (batch_size, channels, sequence_length)\n",
    "#         x = self.conv1(x)\n",
    "#         x = self.relu(x)\n",
    "#         x = self.pool(x)\n",
    "#         x = x.view(x.size(0), -1)  # Flatten\n",
    "#         x = self.fc1(x)\n",
    "#         return x"
   ]
  },
  {
   "cell_type": "code",
   "execution_count": 179,
   "metadata": {},
   "outputs": [
    {
     "data": {
      "text/plain": [
       "'class dataloader\\n\\nclass IscBDataset(Dataset):\\n    def __init__(self):\\n        super(IscBDataset,self).__init__()\\n        xy = truncated_simple_df.to_numpy(dtype=np.float64)[:,1:]\\n        self.x = torch.from_numpy(xy[0]) #convert numpy into torch tensor\\n        self.y = torch.from_numpy(xy[1])\\n        ###for scaler standardize features\\n        # self.scaler = StandardScaler()  #standardized_value = (value - mean)/standard deviation\\n        # self.x = torch.from_numpy(self.scaler.fit_transform(self.x))\\n        self.n_samples = len(xy)\\n\\n    def __getitem__(self, index) :\\n        return self.x[index], self.y[index]\\n\\n    def __len__(self):\\n        return self.n_samples\\n\\ndataset = IscBDataset()\\ndata_Loader = DataLoader(dataset=dataset, shuffle = True) #(batch_size = batch_size)\\n\\n'"
      ]
     },
     "execution_count": 179,
     "metadata": {},
     "output_type": "execute_result"
    }
   ],
   "source": [
    "\"\"\"class dataloader\n",
    "\n",
    "class IscBDataset(Dataset):\n",
    "    def __init__(self):\n",
    "        super(IscBDataset,self).__init__()\n",
    "        xy = truncated_simple_df.to_numpy(dtype=np.float64)[:,1:]\n",
    "        self.x = torch.from_numpy(xy[0]) #convert numpy into torch tensor\n",
    "        self.y = torch.from_numpy(xy[1])\n",
    "        ###for scaler standardize features\n",
    "        # self.scaler = StandardScaler()  #standardized_value = (value - mean)/standard deviation\n",
    "        # self.x = torch.from_numpy(self.scaler.fit_transform(self.x))\n",
    "        self.n_samples = len(xy)\n",
    "\n",
    "    def __getitem__(self, index) :\n",
    "        return self.x[index], self.y[index]\n",
    "\n",
    "    def __len__(self):\n",
    "        return self.n_samples\n",
    "\n",
    "dataset = IscBDataset()\n",
    "data_Loader = DataLoader(dataset=dataset, shuffle = True) #(batch_size = batch_size)\n",
    "\n",
    "\"\"\""
   ]
  }
 ],
 "metadata": {
  "kernelspec": {
   "display_name": "Python 3",
   "language": "python",
   "name": "python3"
  },
  "language_info": {
   "codemirror_mode": {
    "name": "ipython",
    "version": 3
   },
   "file_extension": ".py",
   "mimetype": "text/x-python",
   "name": "python",
   "nbconvert_exporter": "python",
   "pygments_lexer": "ipython3",
   "version": "3.10.5"
  }
 },
 "nbformat": 4,
 "nbformat_minor": 2
}
